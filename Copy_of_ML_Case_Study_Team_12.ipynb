{
  "nbformat": 4,
  "nbformat_minor": 0,
  "metadata": {
    "colab": {
      "provenance": [],
      "include_colab_link": true
    },
    "kernelspec": {
      "name": "python3",
      "display_name": "Python 3"
    },
    "language_info": {
      "name": "python"
    }
  },
  "cells": [
    {
      "cell_type": "markdown",
      "metadata": {
        "id": "view-in-github",
        "colab_type": "text"
      },
      "source": [
        "<a href=\"https://colab.research.google.com/github/mandar-mn/ML_CaseStudy/blob/main/Copy_of_ML_Case_Study_Team_12.ipynb\" target=\"_parent\"><img src=\"https://colab.research.google.com/assets/colab-badge.svg\" alt=\"Open In Colab\"/></a>"
      ]
    },
    {
      "cell_type": "code",
      "execution_count": null,
      "metadata": {
        "colab": {
          "base_uri": "https://localhost:8080/"
        },
        "id": "davlVN5WdCh_",
        "outputId": "f77d0dcc-531b-4f21-eb4a-6361d7c5b82d"
      },
      "outputs": [
        {
          "output_type": "stream",
          "name": "stdout",
          "text": [
            "Mounted at /content/drive/\n"
          ]
        }
      ],
      "source": [
        "from google.colab import drive\n",
        "drive.mount('/content/drive/')"
      ]
    },
    {
      "cell_type": "code",
      "source": [
        "#Importing necessary libraries\n",
        "import pandas as pd\n",
        "import numpy as np\n",
        "import matplotlib.pyplot as plt"
      ],
      "metadata": {
        "id": "giMq-C-8ekI-"
      },
      "execution_count": null,
      "outputs": []
    },
    {
      "cell_type": "code",
      "source": [
        "#reading Dataset\n",
        "df = pd.read_csv(r\"/content/drive/MyDrive/Case Study ML/Leads.csv\")"
      ],
      "metadata": {
        "id": "Dkt4eYPFe1S4"
      },
      "execution_count": null,
      "outputs": []
    },
    {
      "cell_type": "code",
      "source": [
        "df.head()"
      ],
      "metadata": {
        "colab": {
          "base_uri": "https://localhost:8080/",
          "height": 629
        },
        "id": "6Z2kVPSxe9p2",
        "outputId": "330cec4c-c5e4-4019-a5a5-34b6f4f2de3c"
      },
      "execution_count": null,
      "outputs": [
        {
          "output_type": "execute_result",
          "data": {
            "text/plain": [
              "                            Prospect ID  Lead Number              Lead Origin  \\\n",
              "0  7927b2df-8bba-4d29-b9a2-b6e0beafe620       660737                      API   \n",
              "1  2a272436-5132-4136-86fa-dcc88c88f482       660728                      API   \n",
              "2  8cc8c611-a219-4f35-ad23-fdfd2656bd8a       660727  Landing Page Submission   \n",
              "3  0cc2df48-7cf4-4e39-9de9-19797f9b38cc       660719  Landing Page Submission   \n",
              "4  3256f628-e534-4826-9d63-4a8b88782852       660681  Landing Page Submission   \n",
              "\n",
              "      Lead Source Do Not Email Do Not Call  Converted  TotalVisits  \\\n",
              "0      Olark Chat           No          No          0          0.0   \n",
              "1  Organic Search           No          No          0          5.0   \n",
              "2  Direct Traffic           No          No          1          2.0   \n",
              "3  Direct Traffic           No          No          0          1.0   \n",
              "4          Google           No          No          1          2.0   \n",
              "\n",
              "   Total Time Spent on Website  Page Views Per Visit  ...  \\\n",
              "0                            0                   0.0  ...   \n",
              "1                          674                   2.5  ...   \n",
              "2                         1532                   2.0  ...   \n",
              "3                          305                   1.0  ...   \n",
              "4                         1428                   1.0  ...   \n",
              "\n",
              "  Get updates on DM Content    Lead Profile    City  \\\n",
              "0                        No          Select  Select   \n",
              "1                        No          Select  Select   \n",
              "2                        No  Potential Lead  Mumbai   \n",
              "3                        No          Select  Mumbai   \n",
              "4                        No          Select  Mumbai   \n",
              "\n",
              "  Asymmetrique Activity Index Asymmetrique Profile Index  \\\n",
              "0                   02.Medium                  02.Medium   \n",
              "1                   02.Medium                  02.Medium   \n",
              "2                   02.Medium                    01.High   \n",
              "3                   02.Medium                    01.High   \n",
              "4                   02.Medium                    01.High   \n",
              "\n",
              "  Asymmetrique Activity Score Asymmetrique Profile Score  \\\n",
              "0                        15.0                       15.0   \n",
              "1                        15.0                       15.0   \n",
              "2                        14.0                       20.0   \n",
              "3                        13.0                       17.0   \n",
              "4                        15.0                       18.0   \n",
              "\n",
              "  I agree to pay the amount through cheque  \\\n",
              "0                                       No   \n",
              "1                                       No   \n",
              "2                                       No   \n",
              "3                                       No   \n",
              "4                                       No   \n",
              "\n",
              "  A free copy of Mastering The Interview Last Notable Activity  \n",
              "0                                     No              Modified  \n",
              "1                                     No          Email Opened  \n",
              "2                                    Yes          Email Opened  \n",
              "3                                     No              Modified  \n",
              "4                                     No              Modified  \n",
              "\n",
              "[5 rows x 37 columns]"
            ],
            "text/html": [
              "\n",
              "  <div id=\"df-f9e4c58c-5ded-412a-a82b-25e40045663f\">\n",
              "    <div class=\"colab-df-container\">\n",
              "      <div>\n",
              "<style scoped>\n",
              "    .dataframe tbody tr th:only-of-type {\n",
              "        vertical-align: middle;\n",
              "    }\n",
              "\n",
              "    .dataframe tbody tr th {\n",
              "        vertical-align: top;\n",
              "    }\n",
              "\n",
              "    .dataframe thead th {\n",
              "        text-align: right;\n",
              "    }\n",
              "</style>\n",
              "<table border=\"1\" class=\"dataframe\">\n",
              "  <thead>\n",
              "    <tr style=\"text-align: right;\">\n",
              "      <th></th>\n",
              "      <th>Prospect ID</th>\n",
              "      <th>Lead Number</th>\n",
              "      <th>Lead Origin</th>\n",
              "      <th>Lead Source</th>\n",
              "      <th>Do Not Email</th>\n",
              "      <th>Do Not Call</th>\n",
              "      <th>Converted</th>\n",
              "      <th>TotalVisits</th>\n",
              "      <th>Total Time Spent on Website</th>\n",
              "      <th>Page Views Per Visit</th>\n",
              "      <th>...</th>\n",
              "      <th>Get updates on DM Content</th>\n",
              "      <th>Lead Profile</th>\n",
              "      <th>City</th>\n",
              "      <th>Asymmetrique Activity Index</th>\n",
              "      <th>Asymmetrique Profile Index</th>\n",
              "      <th>Asymmetrique Activity Score</th>\n",
              "      <th>Asymmetrique Profile Score</th>\n",
              "      <th>I agree to pay the amount through cheque</th>\n",
              "      <th>A free copy of Mastering The Interview</th>\n",
              "      <th>Last Notable Activity</th>\n",
              "    </tr>\n",
              "  </thead>\n",
              "  <tbody>\n",
              "    <tr>\n",
              "      <th>0</th>\n",
              "      <td>7927b2df-8bba-4d29-b9a2-b6e0beafe620</td>\n",
              "      <td>660737</td>\n",
              "      <td>API</td>\n",
              "      <td>Olark Chat</td>\n",
              "      <td>No</td>\n",
              "      <td>No</td>\n",
              "      <td>0</td>\n",
              "      <td>0.0</td>\n",
              "      <td>0</td>\n",
              "      <td>0.0</td>\n",
              "      <td>...</td>\n",
              "      <td>No</td>\n",
              "      <td>Select</td>\n",
              "      <td>Select</td>\n",
              "      <td>02.Medium</td>\n",
              "      <td>02.Medium</td>\n",
              "      <td>15.0</td>\n",
              "      <td>15.0</td>\n",
              "      <td>No</td>\n",
              "      <td>No</td>\n",
              "      <td>Modified</td>\n",
              "    </tr>\n",
              "    <tr>\n",
              "      <th>1</th>\n",
              "      <td>2a272436-5132-4136-86fa-dcc88c88f482</td>\n",
              "      <td>660728</td>\n",
              "      <td>API</td>\n",
              "      <td>Organic Search</td>\n",
              "      <td>No</td>\n",
              "      <td>No</td>\n",
              "      <td>0</td>\n",
              "      <td>5.0</td>\n",
              "      <td>674</td>\n",
              "      <td>2.5</td>\n",
              "      <td>...</td>\n",
              "      <td>No</td>\n",
              "      <td>Select</td>\n",
              "      <td>Select</td>\n",
              "      <td>02.Medium</td>\n",
              "      <td>02.Medium</td>\n",
              "      <td>15.0</td>\n",
              "      <td>15.0</td>\n",
              "      <td>No</td>\n",
              "      <td>No</td>\n",
              "      <td>Email Opened</td>\n",
              "    </tr>\n",
              "    <tr>\n",
              "      <th>2</th>\n",
              "      <td>8cc8c611-a219-4f35-ad23-fdfd2656bd8a</td>\n",
              "      <td>660727</td>\n",
              "      <td>Landing Page Submission</td>\n",
              "      <td>Direct Traffic</td>\n",
              "      <td>No</td>\n",
              "      <td>No</td>\n",
              "      <td>1</td>\n",
              "      <td>2.0</td>\n",
              "      <td>1532</td>\n",
              "      <td>2.0</td>\n",
              "      <td>...</td>\n",
              "      <td>No</td>\n",
              "      <td>Potential Lead</td>\n",
              "      <td>Mumbai</td>\n",
              "      <td>02.Medium</td>\n",
              "      <td>01.High</td>\n",
              "      <td>14.0</td>\n",
              "      <td>20.0</td>\n",
              "      <td>No</td>\n",
              "      <td>Yes</td>\n",
              "      <td>Email Opened</td>\n",
              "    </tr>\n",
              "    <tr>\n",
              "      <th>3</th>\n",
              "      <td>0cc2df48-7cf4-4e39-9de9-19797f9b38cc</td>\n",
              "      <td>660719</td>\n",
              "      <td>Landing Page Submission</td>\n",
              "      <td>Direct Traffic</td>\n",
              "      <td>No</td>\n",
              "      <td>No</td>\n",
              "      <td>0</td>\n",
              "      <td>1.0</td>\n",
              "      <td>305</td>\n",
              "      <td>1.0</td>\n",
              "      <td>...</td>\n",
              "      <td>No</td>\n",
              "      <td>Select</td>\n",
              "      <td>Mumbai</td>\n",
              "      <td>02.Medium</td>\n",
              "      <td>01.High</td>\n",
              "      <td>13.0</td>\n",
              "      <td>17.0</td>\n",
              "      <td>No</td>\n",
              "      <td>No</td>\n",
              "      <td>Modified</td>\n",
              "    </tr>\n",
              "    <tr>\n",
              "      <th>4</th>\n",
              "      <td>3256f628-e534-4826-9d63-4a8b88782852</td>\n",
              "      <td>660681</td>\n",
              "      <td>Landing Page Submission</td>\n",
              "      <td>Google</td>\n",
              "      <td>No</td>\n",
              "      <td>No</td>\n",
              "      <td>1</td>\n",
              "      <td>2.0</td>\n",
              "      <td>1428</td>\n",
              "      <td>1.0</td>\n",
              "      <td>...</td>\n",
              "      <td>No</td>\n",
              "      <td>Select</td>\n",
              "      <td>Mumbai</td>\n",
              "      <td>02.Medium</td>\n",
              "      <td>01.High</td>\n",
              "      <td>15.0</td>\n",
              "      <td>18.0</td>\n",
              "      <td>No</td>\n",
              "      <td>No</td>\n",
              "      <td>Modified</td>\n",
              "    </tr>\n",
              "  </tbody>\n",
              "</table>\n",
              "<p>5 rows × 37 columns</p>\n",
              "</div>\n",
              "      <button class=\"colab-df-convert\" onclick=\"convertToInteractive('df-f9e4c58c-5ded-412a-a82b-25e40045663f')\"\n",
              "              title=\"Convert this dataframe to an interactive table.\"\n",
              "              style=\"display:none;\">\n",
              "        \n",
              "  <svg xmlns=\"http://www.w3.org/2000/svg\" height=\"24px\"viewBox=\"0 0 24 24\"\n",
              "       width=\"24px\">\n",
              "    <path d=\"M0 0h24v24H0V0z\" fill=\"none\"/>\n",
              "    <path d=\"M18.56 5.44l.94 2.06.94-2.06 2.06-.94-2.06-.94-.94-2.06-.94 2.06-2.06.94zm-11 1L8.5 8.5l.94-2.06 2.06-.94-2.06-.94L8.5 2.5l-.94 2.06-2.06.94zm10 10l.94 2.06.94-2.06 2.06-.94-2.06-.94-.94-2.06-.94 2.06-2.06.94z\"/><path d=\"M17.41 7.96l-1.37-1.37c-.4-.4-.92-.59-1.43-.59-.52 0-1.04.2-1.43.59L10.3 9.45l-7.72 7.72c-.78.78-.78 2.05 0 2.83L4 21.41c.39.39.9.59 1.41.59.51 0 1.02-.2 1.41-.59l7.78-7.78 2.81-2.81c.8-.78.8-2.07 0-2.86zM5.41 20L4 18.59l7.72-7.72 1.47 1.35L5.41 20z\"/>\n",
              "  </svg>\n",
              "      </button>\n",
              "      \n",
              "  <style>\n",
              "    .colab-df-container {\n",
              "      display:flex;\n",
              "      flex-wrap:wrap;\n",
              "      gap: 12px;\n",
              "    }\n",
              "\n",
              "    .colab-df-convert {\n",
              "      background-color: #E8F0FE;\n",
              "      border: none;\n",
              "      border-radius: 50%;\n",
              "      cursor: pointer;\n",
              "      display: none;\n",
              "      fill: #1967D2;\n",
              "      height: 32px;\n",
              "      padding: 0 0 0 0;\n",
              "      width: 32px;\n",
              "    }\n",
              "\n",
              "    .colab-df-convert:hover {\n",
              "      background-color: #E2EBFA;\n",
              "      box-shadow: 0px 1px 2px rgba(60, 64, 67, 0.3), 0px 1px 3px 1px rgba(60, 64, 67, 0.15);\n",
              "      fill: #174EA6;\n",
              "    }\n",
              "\n",
              "    [theme=dark] .colab-df-convert {\n",
              "      background-color: #3B4455;\n",
              "      fill: #D2E3FC;\n",
              "    }\n",
              "\n",
              "    [theme=dark] .colab-df-convert:hover {\n",
              "      background-color: #434B5C;\n",
              "      box-shadow: 0px 1px 3px 1px rgba(0, 0, 0, 0.15);\n",
              "      filter: drop-shadow(0px 1px 2px rgba(0, 0, 0, 0.3));\n",
              "      fill: #FFFFFF;\n",
              "    }\n",
              "  </style>\n",
              "\n",
              "      <script>\n",
              "        const buttonEl =\n",
              "          document.querySelector('#df-f9e4c58c-5ded-412a-a82b-25e40045663f button.colab-df-convert');\n",
              "        buttonEl.style.display =\n",
              "          google.colab.kernel.accessAllowed ? 'block' : 'none';\n",
              "\n",
              "        async function convertToInteractive(key) {\n",
              "          const element = document.querySelector('#df-f9e4c58c-5ded-412a-a82b-25e40045663f');\n",
              "          const dataTable =\n",
              "            await google.colab.kernel.invokeFunction('convertToInteractive',\n",
              "                                                     [key], {});\n",
              "          if (!dataTable) return;\n",
              "\n",
              "          const docLinkHtml = 'Like what you see? Visit the ' +\n",
              "            '<a target=\"_blank\" href=https://colab.research.google.com/notebooks/data_table.ipynb>data table notebook</a>'\n",
              "            + ' to learn more about interactive tables.';\n",
              "          element.innerHTML = '';\n",
              "          dataTable['output_type'] = 'display_data';\n",
              "          await google.colab.output.renderOutput(dataTable, element);\n",
              "          const docLink = document.createElement('div');\n",
              "          docLink.innerHTML = docLinkHtml;\n",
              "          element.appendChild(docLink);\n",
              "        }\n",
              "      </script>\n",
              "    </div>\n",
              "  </div>\n",
              "  "
            ]
          },
          "metadata": {},
          "execution_count": 4
        }
      ]
    },
    {
      "cell_type": "markdown",
      "source": [
        "Observation:\n",
        "1. The Column Prospect id seems to be unimportant [Claim]\n",
        "2. Columns like Do Not Email, Do not Call, Get updates on DM Content, etc seems to be categorical as yes or no\n",
        "3. Some values seems to be rubbish such as 'select' in some columns, These acts as Null values [Claim]"
      ],
      "metadata": {
        "id": "01VUy02EkRxW"
      }
    },
    {
      "cell_type": "code",
      "source": [
        "df.shape"
      ],
      "metadata": {
        "colab": {
          "base_uri": "https://localhost:8080/"
        },
        "id": "0l2iGTBpfE5Z",
        "outputId": "96310d93-42cf-4df5-ae32-489579cbf4a9"
      },
      "execution_count": null,
      "outputs": [
        {
          "output_type": "execute_result",
          "data": {
            "text/plain": [
              "(9240, 37)"
            ]
          },
          "metadata": {},
          "execution_count": 5
        }
      ]
    },
    {
      "cell_type": "markdown",
      "source": [
        "Observation:\n",
        "\n",
        "\n",
        "There are 37 columns adn 9240 Rows in the dataset."
      ],
      "metadata": {
        "id": "1nBt8ELBiGql"
      }
    },
    {
      "cell_type": "code",
      "source": [
        "df_copy = df.copy()\n",
        "#Making a copy of dataframe in order to restore it incase of an emergency"
      ],
      "metadata": {
        "id": "W5RqIKuofGdG"
      },
      "execution_count": null,
      "outputs": []
    },
    {
      "cell_type": "code",
      "source": [
        "#Finding the information of the data\n",
        "df.info('all')"
      ],
      "metadata": {
        "colab": {
          "base_uri": "https://localhost:8080/"
        },
        "id": "URm8u1gSfLbb",
        "outputId": "c73d8bf1-ff61-46c9-f615-10412bd8b766"
      },
      "execution_count": null,
      "outputs": [
        {
          "output_type": "stream",
          "name": "stdout",
          "text": [
            "<class 'pandas.core.frame.DataFrame'>\n",
            "RangeIndex: 9240 entries, 0 to 9239\n",
            "Data columns (total 37 columns):\n",
            " #   Column                                         Non-Null Count  Dtype  \n",
            "---  ------                                         --------------  -----  \n",
            " 0   Prospect ID                                    9240 non-null   object \n",
            " 1   Lead Number                                    9240 non-null   int64  \n",
            " 2   Lead Origin                                    9240 non-null   object \n",
            " 3   Lead Source                                    9204 non-null   object \n",
            " 4   Do Not Email                                   9240 non-null   object \n",
            " 5   Do Not Call                                    9240 non-null   object \n",
            " 6   Converted                                      9240 non-null   int64  \n",
            " 7   TotalVisits                                    9103 non-null   float64\n",
            " 8   Total Time Spent on Website                    9240 non-null   int64  \n",
            " 9   Page Views Per Visit                           9103 non-null   float64\n",
            " 10  Last Activity                                  9137 non-null   object \n",
            " 11  Country                                        6779 non-null   object \n",
            " 12  Specialization                                 7802 non-null   object \n",
            " 13  How did you hear about X Education             7033 non-null   object \n",
            " 14  What is your current occupation                6550 non-null   object \n",
            " 15  What matters most to you in choosing a course  6531 non-null   object \n",
            " 16  Search                                         9240 non-null   object \n",
            " 17  Magazine                                       9240 non-null   object \n",
            " 18  Newspaper Article                              9240 non-null   object \n",
            " 19  X Education Forums                             9240 non-null   object \n",
            " 20  Newspaper                                      9240 non-null   object \n",
            " 21  Digital Advertisement                          9240 non-null   object \n",
            " 22  Through Recommendations                        9240 non-null   object \n",
            " 23  Receive More Updates About Our Courses         9240 non-null   object \n",
            " 24  Tags                                           5887 non-null   object \n",
            " 25  Lead Quality                                   4473 non-null   object \n",
            " 26  Update me on Supply Chain Content              9240 non-null   object \n",
            " 27  Get updates on DM Content                      9240 non-null   object \n",
            " 28  Lead Profile                                   6531 non-null   object \n",
            " 29  City                                           7820 non-null   object \n",
            " 30  Asymmetrique Activity Index                    5022 non-null   object \n",
            " 31  Asymmetrique Profile Index                     5022 non-null   object \n",
            " 32  Asymmetrique Activity Score                    5022 non-null   float64\n",
            " 33  Asymmetrique Profile Score                     5022 non-null   float64\n",
            " 34  I agree to pay the amount through cheque       9240 non-null   object \n",
            " 35  A free copy of Mastering The Interview         9240 non-null   object \n",
            " 36  Last Notable Activity                          9240 non-null   object \n",
            "dtypes: float64(4), int64(3), object(30)\n",
            "memory usage: 2.6+ MB\n"
          ]
        }
      ]
    },
    {
      "cell_type": "markdown",
      "source": [
        "Observation :\n",
        "\n",
        "\n",
        "1.   Null values are present in the dataset\n",
        "2.   Data type of columns are object integer and float\n",
        "\n"
      ],
      "metadata": {
        "id": "w1haOm8shX85"
      }
    },
    {
      "cell_type": "code",
      "source": [
        "#Finding Statistical information about the data\n",
        "df.describe()"
      ],
      "metadata": {
        "colab": {
          "base_uri": "https://localhost:8080/",
          "height": 300
        },
        "id": "SQn7WMolhUga",
        "outputId": "3ab2d440-b669-4371-c45e-211a301ce08d"
      },
      "execution_count": null,
      "outputs": [
        {
          "output_type": "execute_result",
          "data": {
            "text/plain": [
              "         Lead Number    Converted  TotalVisits  Total Time Spent on Website  \\\n",
              "count    9240.000000  9240.000000  9103.000000                  9240.000000   \n",
              "mean   617188.435606     0.385390     3.445238                   487.698268   \n",
              "std     23405.995698     0.486714     4.854853                   548.021466   \n",
              "min    579533.000000     0.000000     0.000000                     0.000000   \n",
              "25%    596484.500000     0.000000     1.000000                    12.000000   \n",
              "50%    615479.000000     0.000000     3.000000                   248.000000   \n",
              "75%    637387.250000     1.000000     5.000000                   936.000000   \n",
              "max    660737.000000     1.000000   251.000000                  2272.000000   \n",
              "\n",
              "       Page Views Per Visit  Asymmetrique Activity Score  \\\n",
              "count           9103.000000                  5022.000000   \n",
              "mean               2.362820                    14.306252   \n",
              "std                2.161418                     1.386694   \n",
              "min                0.000000                     7.000000   \n",
              "25%                1.000000                    14.000000   \n",
              "50%                2.000000                    14.000000   \n",
              "75%                3.000000                    15.000000   \n",
              "max               55.000000                    18.000000   \n",
              "\n",
              "       Asymmetrique Profile Score  \n",
              "count                 5022.000000  \n",
              "mean                    16.344883  \n",
              "std                      1.811395  \n",
              "min                     11.000000  \n",
              "25%                     15.000000  \n",
              "50%                     16.000000  \n",
              "75%                     18.000000  \n",
              "max                     20.000000  "
            ],
            "text/html": [
              "\n",
              "  <div id=\"df-253a4961-f39a-4f17-9847-214a45cd8c3c\">\n",
              "    <div class=\"colab-df-container\">\n",
              "      <div>\n",
              "<style scoped>\n",
              "    .dataframe tbody tr th:only-of-type {\n",
              "        vertical-align: middle;\n",
              "    }\n",
              "\n",
              "    .dataframe tbody tr th {\n",
              "        vertical-align: top;\n",
              "    }\n",
              "\n",
              "    .dataframe thead th {\n",
              "        text-align: right;\n",
              "    }\n",
              "</style>\n",
              "<table border=\"1\" class=\"dataframe\">\n",
              "  <thead>\n",
              "    <tr style=\"text-align: right;\">\n",
              "      <th></th>\n",
              "      <th>Lead Number</th>\n",
              "      <th>Converted</th>\n",
              "      <th>TotalVisits</th>\n",
              "      <th>Total Time Spent on Website</th>\n",
              "      <th>Page Views Per Visit</th>\n",
              "      <th>Asymmetrique Activity Score</th>\n",
              "      <th>Asymmetrique Profile Score</th>\n",
              "    </tr>\n",
              "  </thead>\n",
              "  <tbody>\n",
              "    <tr>\n",
              "      <th>count</th>\n",
              "      <td>9240.000000</td>\n",
              "      <td>9240.000000</td>\n",
              "      <td>9103.000000</td>\n",
              "      <td>9240.000000</td>\n",
              "      <td>9103.000000</td>\n",
              "      <td>5022.000000</td>\n",
              "      <td>5022.000000</td>\n",
              "    </tr>\n",
              "    <tr>\n",
              "      <th>mean</th>\n",
              "      <td>617188.435606</td>\n",
              "      <td>0.385390</td>\n",
              "      <td>3.445238</td>\n",
              "      <td>487.698268</td>\n",
              "      <td>2.362820</td>\n",
              "      <td>14.306252</td>\n",
              "      <td>16.344883</td>\n",
              "    </tr>\n",
              "    <tr>\n",
              "      <th>std</th>\n",
              "      <td>23405.995698</td>\n",
              "      <td>0.486714</td>\n",
              "      <td>4.854853</td>\n",
              "      <td>548.021466</td>\n",
              "      <td>2.161418</td>\n",
              "      <td>1.386694</td>\n",
              "      <td>1.811395</td>\n",
              "    </tr>\n",
              "    <tr>\n",
              "      <th>min</th>\n",
              "      <td>579533.000000</td>\n",
              "      <td>0.000000</td>\n",
              "      <td>0.000000</td>\n",
              "      <td>0.000000</td>\n",
              "      <td>0.000000</td>\n",
              "      <td>7.000000</td>\n",
              "      <td>11.000000</td>\n",
              "    </tr>\n",
              "    <tr>\n",
              "      <th>25%</th>\n",
              "      <td>596484.500000</td>\n",
              "      <td>0.000000</td>\n",
              "      <td>1.000000</td>\n",
              "      <td>12.000000</td>\n",
              "      <td>1.000000</td>\n",
              "      <td>14.000000</td>\n",
              "      <td>15.000000</td>\n",
              "    </tr>\n",
              "    <tr>\n",
              "      <th>50%</th>\n",
              "      <td>615479.000000</td>\n",
              "      <td>0.000000</td>\n",
              "      <td>3.000000</td>\n",
              "      <td>248.000000</td>\n",
              "      <td>2.000000</td>\n",
              "      <td>14.000000</td>\n",
              "      <td>16.000000</td>\n",
              "    </tr>\n",
              "    <tr>\n",
              "      <th>75%</th>\n",
              "      <td>637387.250000</td>\n",
              "      <td>1.000000</td>\n",
              "      <td>5.000000</td>\n",
              "      <td>936.000000</td>\n",
              "      <td>3.000000</td>\n",
              "      <td>15.000000</td>\n",
              "      <td>18.000000</td>\n",
              "    </tr>\n",
              "    <tr>\n",
              "      <th>max</th>\n",
              "      <td>660737.000000</td>\n",
              "      <td>1.000000</td>\n",
              "      <td>251.000000</td>\n",
              "      <td>2272.000000</td>\n",
              "      <td>55.000000</td>\n",
              "      <td>18.000000</td>\n",
              "      <td>20.000000</td>\n",
              "    </tr>\n",
              "  </tbody>\n",
              "</table>\n",
              "</div>\n",
              "      <button class=\"colab-df-convert\" onclick=\"convertToInteractive('df-253a4961-f39a-4f17-9847-214a45cd8c3c')\"\n",
              "              title=\"Convert this dataframe to an interactive table.\"\n",
              "              style=\"display:none;\">\n",
              "        \n",
              "  <svg xmlns=\"http://www.w3.org/2000/svg\" height=\"24px\"viewBox=\"0 0 24 24\"\n",
              "       width=\"24px\">\n",
              "    <path d=\"M0 0h24v24H0V0z\" fill=\"none\"/>\n",
              "    <path d=\"M18.56 5.44l.94 2.06.94-2.06 2.06-.94-2.06-.94-.94-2.06-.94 2.06-2.06.94zm-11 1L8.5 8.5l.94-2.06 2.06-.94-2.06-.94L8.5 2.5l-.94 2.06-2.06.94zm10 10l.94 2.06.94-2.06 2.06-.94-2.06-.94-.94-2.06-.94 2.06-2.06.94z\"/><path d=\"M17.41 7.96l-1.37-1.37c-.4-.4-.92-.59-1.43-.59-.52 0-1.04.2-1.43.59L10.3 9.45l-7.72 7.72c-.78.78-.78 2.05 0 2.83L4 21.41c.39.39.9.59 1.41.59.51 0 1.02-.2 1.41-.59l7.78-7.78 2.81-2.81c.8-.78.8-2.07 0-2.86zM5.41 20L4 18.59l7.72-7.72 1.47 1.35L5.41 20z\"/>\n",
              "  </svg>\n",
              "      </button>\n",
              "      \n",
              "  <style>\n",
              "    .colab-df-container {\n",
              "      display:flex;\n",
              "      flex-wrap:wrap;\n",
              "      gap: 12px;\n",
              "    }\n",
              "\n",
              "    .colab-df-convert {\n",
              "      background-color: #E8F0FE;\n",
              "      border: none;\n",
              "      border-radius: 50%;\n",
              "      cursor: pointer;\n",
              "      display: none;\n",
              "      fill: #1967D2;\n",
              "      height: 32px;\n",
              "      padding: 0 0 0 0;\n",
              "      width: 32px;\n",
              "    }\n",
              "\n",
              "    .colab-df-convert:hover {\n",
              "      background-color: #E2EBFA;\n",
              "      box-shadow: 0px 1px 2px rgba(60, 64, 67, 0.3), 0px 1px 3px 1px rgba(60, 64, 67, 0.15);\n",
              "      fill: #174EA6;\n",
              "    }\n",
              "\n",
              "    [theme=dark] .colab-df-convert {\n",
              "      background-color: #3B4455;\n",
              "      fill: #D2E3FC;\n",
              "    }\n",
              "\n",
              "    [theme=dark] .colab-df-convert:hover {\n",
              "      background-color: #434B5C;\n",
              "      box-shadow: 0px 1px 3px 1px rgba(0, 0, 0, 0.15);\n",
              "      filter: drop-shadow(0px 1px 2px rgba(0, 0, 0, 0.3));\n",
              "      fill: #FFFFFF;\n",
              "    }\n",
              "  </style>\n",
              "\n",
              "      <script>\n",
              "        const buttonEl =\n",
              "          document.querySelector('#df-253a4961-f39a-4f17-9847-214a45cd8c3c button.colab-df-convert');\n",
              "        buttonEl.style.display =\n",
              "          google.colab.kernel.accessAllowed ? 'block' : 'none';\n",
              "\n",
              "        async function convertToInteractive(key) {\n",
              "          const element = document.querySelector('#df-253a4961-f39a-4f17-9847-214a45cd8c3c');\n",
              "          const dataTable =\n",
              "            await google.colab.kernel.invokeFunction('convertToInteractive',\n",
              "                                                     [key], {});\n",
              "          if (!dataTable) return;\n",
              "\n",
              "          const docLinkHtml = 'Like what you see? Visit the ' +\n",
              "            '<a target=\"_blank\" href=https://colab.research.google.com/notebooks/data_table.ipynb>data table notebook</a>'\n",
              "            + ' to learn more about interactive tables.';\n",
              "          element.innerHTML = '';\n",
              "          dataTable['output_type'] = 'display_data';\n",
              "          await google.colab.output.renderOutput(dataTable, element);\n",
              "          const docLink = document.createElement('div');\n",
              "          docLink.innerHTML = docLinkHtml;\n",
              "          element.appendChild(docLink);\n",
              "        }\n",
              "      </script>\n",
              "    </div>\n",
              "  </div>\n",
              "  "
            ]
          },
          "metadata": {},
          "execution_count": 8
        }
      ]
    },
    {
      "cell_type": "markdown",
      "source": [
        "# Checking Columns"
      ],
      "metadata": {
        "id": "2hcumW0WiVSi"
      }
    },
    {
      "cell_type": "code",
      "source": [
        "#Claim checking: \n",
        "#The Column Prospect id seems to be unimportant\n",
        "df['Prospect ID']"
      ],
      "metadata": {
        "colab": {
          "base_uri": "https://localhost:8080/"
        },
        "id": "XeCitzAQhoX_",
        "outputId": "eb709c57-b814-4956-85c0-4fc7a7137360"
      },
      "execution_count": null,
      "outputs": [
        {
          "output_type": "execute_result",
          "data": {
            "text/plain": [
              "0       7927b2df-8bba-4d29-b9a2-b6e0beafe620\n",
              "1       2a272436-5132-4136-86fa-dcc88c88f482\n",
              "2       8cc8c611-a219-4f35-ad23-fdfd2656bd8a\n",
              "3       0cc2df48-7cf4-4e39-9de9-19797f9b38cc\n",
              "4       3256f628-e534-4826-9d63-4a8b88782852\n",
              "                        ...                 \n",
              "9235    19d6451e-fcd6-407c-b83b-48e1af805ea9\n",
              "9236    82a7005b-7196-4d56-95ce-a79f937a158d\n",
              "9237    aac550fe-a586-452d-8d3c-f1b62c94e02c\n",
              "9238    5330a7d1-2f2b-4df4-85d6-64ca2f6b95b9\n",
              "9239    571b5c8e-a5b2-4d57-8574-f2ffb06fdeff\n",
              "Name: Prospect ID, Length: 9240, dtype: object"
            ]
          },
          "metadata": {},
          "execution_count": 9
        }
      ]
    },
    {
      "cell_type": "markdown",
      "source": [
        "Observation: Prospect is an unimportant column, Decided to drop the collumn"
      ],
      "metadata": {
        "id": "iXzk9bMIlcUJ"
      }
    },
    {
      "cell_type": "code",
      "source": [
        "df.drop('Prospect ID', axis = 1, inplace = True)"
      ],
      "metadata": {
        "id": "V3Tl1EBQljED"
      },
      "execution_count": null,
      "outputs": []
    },
    {
      "cell_type": "code",
      "source": [
        "#Succesfully dropped Prospect Id\n",
        "df.head()"
      ],
      "metadata": {
        "colab": {
          "base_uri": "https://localhost:8080/",
          "height": 525
        },
        "id": "X5ePCAgjly--",
        "outputId": "9dbfa254-eda3-44c6-efff-5ff4119b441c"
      },
      "execution_count": null,
      "outputs": [
        {
          "output_type": "execute_result",
          "data": {
            "text/plain": [
              "   Lead Number              Lead Origin     Lead Source Do Not Email  \\\n",
              "0       660737                      API      Olark Chat           No   \n",
              "1       660728                      API  Organic Search           No   \n",
              "2       660727  Landing Page Submission  Direct Traffic           No   \n",
              "3       660719  Landing Page Submission  Direct Traffic           No   \n",
              "4       660681  Landing Page Submission          Google           No   \n",
              "\n",
              "  Do Not Call  Converted  TotalVisits  Total Time Spent on Website  \\\n",
              "0          No          0          0.0                            0   \n",
              "1          No          0          5.0                          674   \n",
              "2          No          1          2.0                         1532   \n",
              "3          No          0          1.0                          305   \n",
              "4          No          1          2.0                         1428   \n",
              "\n",
              "   Page Views Per Visit            Last Activity  ...  \\\n",
              "0                   0.0  Page Visited on Website  ...   \n",
              "1                   2.5             Email Opened  ...   \n",
              "2                   2.0             Email Opened  ...   \n",
              "3                   1.0              Unreachable  ...   \n",
              "4                   1.0        Converted to Lead  ...   \n",
              "\n",
              "  Get updates on DM Content    Lead Profile    City  \\\n",
              "0                        No          Select  Select   \n",
              "1                        No          Select  Select   \n",
              "2                        No  Potential Lead  Mumbai   \n",
              "3                        No          Select  Mumbai   \n",
              "4                        No          Select  Mumbai   \n",
              "\n",
              "  Asymmetrique Activity Index Asymmetrique Profile Index  \\\n",
              "0                   02.Medium                  02.Medium   \n",
              "1                   02.Medium                  02.Medium   \n",
              "2                   02.Medium                    01.High   \n",
              "3                   02.Medium                    01.High   \n",
              "4                   02.Medium                    01.High   \n",
              "\n",
              "  Asymmetrique Activity Score Asymmetrique Profile Score  \\\n",
              "0                        15.0                       15.0   \n",
              "1                        15.0                       15.0   \n",
              "2                        14.0                       20.0   \n",
              "3                        13.0                       17.0   \n",
              "4                        15.0                       18.0   \n",
              "\n",
              "  I agree to pay the amount through cheque  \\\n",
              "0                                       No   \n",
              "1                                       No   \n",
              "2                                       No   \n",
              "3                                       No   \n",
              "4                                       No   \n",
              "\n",
              "  A free copy of Mastering The Interview Last Notable Activity  \n",
              "0                                     No              Modified  \n",
              "1                                     No          Email Opened  \n",
              "2                                    Yes          Email Opened  \n",
              "3                                     No              Modified  \n",
              "4                                     No              Modified  \n",
              "\n",
              "[5 rows x 36 columns]"
            ],
            "text/html": [
              "\n",
              "  <div id=\"df-082cda30-d9ab-4b06-b8e3-852f0236ba08\">\n",
              "    <div class=\"colab-df-container\">\n",
              "      <div>\n",
              "<style scoped>\n",
              "    .dataframe tbody tr th:only-of-type {\n",
              "        vertical-align: middle;\n",
              "    }\n",
              "\n",
              "    .dataframe tbody tr th {\n",
              "        vertical-align: top;\n",
              "    }\n",
              "\n",
              "    .dataframe thead th {\n",
              "        text-align: right;\n",
              "    }\n",
              "</style>\n",
              "<table border=\"1\" class=\"dataframe\">\n",
              "  <thead>\n",
              "    <tr style=\"text-align: right;\">\n",
              "      <th></th>\n",
              "      <th>Lead Number</th>\n",
              "      <th>Lead Origin</th>\n",
              "      <th>Lead Source</th>\n",
              "      <th>Do Not Email</th>\n",
              "      <th>Do Not Call</th>\n",
              "      <th>Converted</th>\n",
              "      <th>TotalVisits</th>\n",
              "      <th>Total Time Spent on Website</th>\n",
              "      <th>Page Views Per Visit</th>\n",
              "      <th>Last Activity</th>\n",
              "      <th>...</th>\n",
              "      <th>Get updates on DM Content</th>\n",
              "      <th>Lead Profile</th>\n",
              "      <th>City</th>\n",
              "      <th>Asymmetrique Activity Index</th>\n",
              "      <th>Asymmetrique Profile Index</th>\n",
              "      <th>Asymmetrique Activity Score</th>\n",
              "      <th>Asymmetrique Profile Score</th>\n",
              "      <th>I agree to pay the amount through cheque</th>\n",
              "      <th>A free copy of Mastering The Interview</th>\n",
              "      <th>Last Notable Activity</th>\n",
              "    </tr>\n",
              "  </thead>\n",
              "  <tbody>\n",
              "    <tr>\n",
              "      <th>0</th>\n",
              "      <td>660737</td>\n",
              "      <td>API</td>\n",
              "      <td>Olark Chat</td>\n",
              "      <td>No</td>\n",
              "      <td>No</td>\n",
              "      <td>0</td>\n",
              "      <td>0.0</td>\n",
              "      <td>0</td>\n",
              "      <td>0.0</td>\n",
              "      <td>Page Visited on Website</td>\n",
              "      <td>...</td>\n",
              "      <td>No</td>\n",
              "      <td>Select</td>\n",
              "      <td>Select</td>\n",
              "      <td>02.Medium</td>\n",
              "      <td>02.Medium</td>\n",
              "      <td>15.0</td>\n",
              "      <td>15.0</td>\n",
              "      <td>No</td>\n",
              "      <td>No</td>\n",
              "      <td>Modified</td>\n",
              "    </tr>\n",
              "    <tr>\n",
              "      <th>1</th>\n",
              "      <td>660728</td>\n",
              "      <td>API</td>\n",
              "      <td>Organic Search</td>\n",
              "      <td>No</td>\n",
              "      <td>No</td>\n",
              "      <td>0</td>\n",
              "      <td>5.0</td>\n",
              "      <td>674</td>\n",
              "      <td>2.5</td>\n",
              "      <td>Email Opened</td>\n",
              "      <td>...</td>\n",
              "      <td>No</td>\n",
              "      <td>Select</td>\n",
              "      <td>Select</td>\n",
              "      <td>02.Medium</td>\n",
              "      <td>02.Medium</td>\n",
              "      <td>15.0</td>\n",
              "      <td>15.0</td>\n",
              "      <td>No</td>\n",
              "      <td>No</td>\n",
              "      <td>Email Opened</td>\n",
              "    </tr>\n",
              "    <tr>\n",
              "      <th>2</th>\n",
              "      <td>660727</td>\n",
              "      <td>Landing Page Submission</td>\n",
              "      <td>Direct Traffic</td>\n",
              "      <td>No</td>\n",
              "      <td>No</td>\n",
              "      <td>1</td>\n",
              "      <td>2.0</td>\n",
              "      <td>1532</td>\n",
              "      <td>2.0</td>\n",
              "      <td>Email Opened</td>\n",
              "      <td>...</td>\n",
              "      <td>No</td>\n",
              "      <td>Potential Lead</td>\n",
              "      <td>Mumbai</td>\n",
              "      <td>02.Medium</td>\n",
              "      <td>01.High</td>\n",
              "      <td>14.0</td>\n",
              "      <td>20.0</td>\n",
              "      <td>No</td>\n",
              "      <td>Yes</td>\n",
              "      <td>Email Opened</td>\n",
              "    </tr>\n",
              "    <tr>\n",
              "      <th>3</th>\n",
              "      <td>660719</td>\n",
              "      <td>Landing Page Submission</td>\n",
              "      <td>Direct Traffic</td>\n",
              "      <td>No</td>\n",
              "      <td>No</td>\n",
              "      <td>0</td>\n",
              "      <td>1.0</td>\n",
              "      <td>305</td>\n",
              "      <td>1.0</td>\n",
              "      <td>Unreachable</td>\n",
              "      <td>...</td>\n",
              "      <td>No</td>\n",
              "      <td>Select</td>\n",
              "      <td>Mumbai</td>\n",
              "      <td>02.Medium</td>\n",
              "      <td>01.High</td>\n",
              "      <td>13.0</td>\n",
              "      <td>17.0</td>\n",
              "      <td>No</td>\n",
              "      <td>No</td>\n",
              "      <td>Modified</td>\n",
              "    </tr>\n",
              "    <tr>\n",
              "      <th>4</th>\n",
              "      <td>660681</td>\n",
              "      <td>Landing Page Submission</td>\n",
              "      <td>Google</td>\n",
              "      <td>No</td>\n",
              "      <td>No</td>\n",
              "      <td>1</td>\n",
              "      <td>2.0</td>\n",
              "      <td>1428</td>\n",
              "      <td>1.0</td>\n",
              "      <td>Converted to Lead</td>\n",
              "      <td>...</td>\n",
              "      <td>No</td>\n",
              "      <td>Select</td>\n",
              "      <td>Mumbai</td>\n",
              "      <td>02.Medium</td>\n",
              "      <td>01.High</td>\n",
              "      <td>15.0</td>\n",
              "      <td>18.0</td>\n",
              "      <td>No</td>\n",
              "      <td>No</td>\n",
              "      <td>Modified</td>\n",
              "    </tr>\n",
              "  </tbody>\n",
              "</table>\n",
              "<p>5 rows × 36 columns</p>\n",
              "</div>\n",
              "      <button class=\"colab-df-convert\" onclick=\"convertToInteractive('df-082cda30-d9ab-4b06-b8e3-852f0236ba08')\"\n",
              "              title=\"Convert this dataframe to an interactive table.\"\n",
              "              style=\"display:none;\">\n",
              "        \n",
              "  <svg xmlns=\"http://www.w3.org/2000/svg\" height=\"24px\"viewBox=\"0 0 24 24\"\n",
              "       width=\"24px\">\n",
              "    <path d=\"M0 0h24v24H0V0z\" fill=\"none\"/>\n",
              "    <path d=\"M18.56 5.44l.94 2.06.94-2.06 2.06-.94-2.06-.94-.94-2.06-.94 2.06-2.06.94zm-11 1L8.5 8.5l.94-2.06 2.06-.94-2.06-.94L8.5 2.5l-.94 2.06-2.06.94zm10 10l.94 2.06.94-2.06 2.06-.94-2.06-.94-.94-2.06-.94 2.06-2.06.94z\"/><path d=\"M17.41 7.96l-1.37-1.37c-.4-.4-.92-.59-1.43-.59-.52 0-1.04.2-1.43.59L10.3 9.45l-7.72 7.72c-.78.78-.78 2.05 0 2.83L4 21.41c.39.39.9.59 1.41.59.51 0 1.02-.2 1.41-.59l7.78-7.78 2.81-2.81c.8-.78.8-2.07 0-2.86zM5.41 20L4 18.59l7.72-7.72 1.47 1.35L5.41 20z\"/>\n",
              "  </svg>\n",
              "      </button>\n",
              "      \n",
              "  <style>\n",
              "    .colab-df-container {\n",
              "      display:flex;\n",
              "      flex-wrap:wrap;\n",
              "      gap: 12px;\n",
              "    }\n",
              "\n",
              "    .colab-df-convert {\n",
              "      background-color: #E8F0FE;\n",
              "      border: none;\n",
              "      border-radius: 50%;\n",
              "      cursor: pointer;\n",
              "      display: none;\n",
              "      fill: #1967D2;\n",
              "      height: 32px;\n",
              "      padding: 0 0 0 0;\n",
              "      width: 32px;\n",
              "    }\n",
              "\n",
              "    .colab-df-convert:hover {\n",
              "      background-color: #E2EBFA;\n",
              "      box-shadow: 0px 1px 2px rgba(60, 64, 67, 0.3), 0px 1px 3px 1px rgba(60, 64, 67, 0.15);\n",
              "      fill: #174EA6;\n",
              "    }\n",
              "\n",
              "    [theme=dark] .colab-df-convert {\n",
              "      background-color: #3B4455;\n",
              "      fill: #D2E3FC;\n",
              "    }\n",
              "\n",
              "    [theme=dark] .colab-df-convert:hover {\n",
              "      background-color: #434B5C;\n",
              "      box-shadow: 0px 1px 3px 1px rgba(0, 0, 0, 0.15);\n",
              "      filter: drop-shadow(0px 1px 2px rgba(0, 0, 0, 0.3));\n",
              "      fill: #FFFFFF;\n",
              "    }\n",
              "  </style>\n",
              "\n",
              "      <script>\n",
              "        const buttonEl =\n",
              "          document.querySelector('#df-082cda30-d9ab-4b06-b8e3-852f0236ba08 button.colab-df-convert');\n",
              "        buttonEl.style.display =\n",
              "          google.colab.kernel.accessAllowed ? 'block' : 'none';\n",
              "\n",
              "        async function convertToInteractive(key) {\n",
              "          const element = document.querySelector('#df-082cda30-d9ab-4b06-b8e3-852f0236ba08');\n",
              "          const dataTable =\n",
              "            await google.colab.kernel.invokeFunction('convertToInteractive',\n",
              "                                                     [key], {});\n",
              "          if (!dataTable) return;\n",
              "\n",
              "          const docLinkHtml = 'Like what you see? Visit the ' +\n",
              "            '<a target=\"_blank\" href=https://colab.research.google.com/notebooks/data_table.ipynb>data table notebook</a>'\n",
              "            + ' to learn more about interactive tables.';\n",
              "          element.innerHTML = '';\n",
              "          dataTable['output_type'] = 'display_data';\n",
              "          await google.colab.output.renderOutput(dataTable, element);\n",
              "          const docLink = document.createElement('div');\n",
              "          docLink.innerHTML = docLinkHtml;\n",
              "          element.appendChild(docLink);\n",
              "        }\n",
              "      </script>\n",
              "    </div>\n",
              "  </div>\n",
              "  "
            ]
          },
          "metadata": {},
          "execution_count": 11
        }
      ]
    },
    {
      "cell_type": "code",
      "source": [
        "# change nomenclature\n",
        "df.columns = df.columns.str.replace(' ', '_').str.lower()"
      ],
      "metadata": {
        "id": "p-mFk-k8jgDR"
      },
      "execution_count": null,
      "outputs": []
    },
    {
      "cell_type": "markdown",
      "source": [],
      "metadata": {
        "id": "PRm_3ZjqjfIR"
      }
    },
    {
      "cell_type": "code",
      "source": [
        "# Renaming the Columns\n",
        "df.rename(columns = {'totalvisits': 'total_visits', 'total_time_spent_on_website': 'time_on_website', \n",
        "                    'how_did_you_hear_about_x_education': 'source', 'what_is_your_current_occupation': 'occupation',\n",
        "                    'what_matters_most_to_you_in_choosing_a_course' : 'course_selection_reason', \n",
        "                    'receive_more_updates_about_our_courses': 'courses_updates', \n",
        "                     'update_me_on_supply_chain_content': 'supply_chain_content_updates',\n",
        "                    'get_updates_on_dm_content': 'dm_content_updates',\n",
        "                    'i_agree_to_pay_the_amount_through_cheque': 'cheque_payment',\n",
        "                    'a_free_copy_of_mastering_the_interview': 'mastering_interview'}, inplace = True)"
      ],
      "metadata": {
        "id": "MZRUXfxviY3d"
      },
      "execution_count": null,
      "outputs": []
    },
    {
      "cell_type": "code",
      "source": [
        "df.columns"
      ],
      "metadata": {
        "colab": {
          "base_uri": "https://localhost:8080/"
        },
        "id": "xaGNmQXOjFZm",
        "outputId": "32ff2cc1-c292-40e7-c464-8f66b6f841a9"
      },
      "execution_count": null,
      "outputs": [
        {
          "output_type": "execute_result",
          "data": {
            "text/plain": [
              "Index(['lead_number', 'lead_origin', 'lead_source', 'do_not_email',\n",
              "       'do_not_call', 'converted', 'total_visits', 'time_on_website',\n",
              "       'page_views_per_visit', 'last_activity', 'country', 'specialization',\n",
              "       'source', 'occupation', 'course_selection_reason', 'search', 'magazine',\n",
              "       'newspaper_article', 'x_education_forums', 'newspaper',\n",
              "       'digital_advertisement', 'through_recommendations', 'courses_updates',\n",
              "       'tags', 'lead_quality', 'supply_chain_content_updates',\n",
              "       'dm_content_updates', 'lead_profile', 'city',\n",
              "       'asymmetrique_activity_index', 'asymmetrique_profile_index',\n",
              "       'asymmetrique_activity_score', 'asymmetrique_profile_score',\n",
              "       'cheque_payment', 'mastering_interview', 'last_notable_activity'],\n",
              "      dtype='object')"
            ]
          },
          "metadata": {},
          "execution_count": 14
        }
      ]
    },
    {
      "cell_type": "code",
      "source": [
        "# Selecting  all the  non-numeric columns i.e the columns with datatype as 'Object'\n",
        "df_obj = df.select_dtypes(include='object')"
      ],
      "metadata": {
        "id": "V0XvR6LBjF0V"
      },
      "execution_count": null,
      "outputs": []
    },
    {
      "cell_type": "code",
      "source": [
        "df_obj"
      ],
      "metadata": {
        "colab": {
          "base_uri": "https://localhost:8080/",
          "height": 800
        },
        "id": "vQSTwCqHl9kJ",
        "outputId": "88cfcc2a-c669-4992-b9df-bed1af1ce5f1"
      },
      "execution_count": null,
      "outputs": [
        {
          "output_type": "execute_result",
          "data": {
            "text/plain": [
              "                  lead_origin     lead_source do_not_email do_not_call  \\\n",
              "0                         API      Olark Chat           No          No   \n",
              "1                         API  Organic Search           No          No   \n",
              "2     Landing Page Submission  Direct Traffic           No          No   \n",
              "3     Landing Page Submission  Direct Traffic           No          No   \n",
              "4     Landing Page Submission          Google           No          No   \n",
              "...                       ...             ...          ...         ...   \n",
              "9235  Landing Page Submission  Direct Traffic          Yes          No   \n",
              "9236  Landing Page Submission  Direct Traffic           No          No   \n",
              "9237  Landing Page Submission  Direct Traffic          Yes          No   \n",
              "9238  Landing Page Submission          Google           No          No   \n",
              "9239  Landing Page Submission  Direct Traffic           No          No   \n",
              "\n",
              "                last_activity       country             specialization  \\\n",
              "0     Page Visited on Website           NaN                     Select   \n",
              "1                Email Opened         India                     Select   \n",
              "2                Email Opened         India    Business Administration   \n",
              "3                 Unreachable         India      Media and Advertising   \n",
              "4           Converted to Lead         India                     Select   \n",
              "...                       ...           ...                        ...   \n",
              "9235        Email Marked Spam  Saudi Arabia     IT Projects Management   \n",
              "9236                 SMS Sent         India      Media and Advertising   \n",
              "9237                 SMS Sent         India    Business Administration   \n",
              "9238                 SMS Sent         India  Human Resource Management   \n",
              "9239                 SMS Sent    Bangladesh    Supply Chain Management   \n",
              "\n",
              "             source  occupation  course_selection_reason  ...  \\\n",
              "0            Select  Unemployed  Better Career Prospects  ...   \n",
              "1            Select  Unemployed  Better Career Prospects  ...   \n",
              "2            Select     Student  Better Career Prospects  ...   \n",
              "3     Word Of Mouth  Unemployed  Better Career Prospects  ...   \n",
              "4             Other  Unemployed  Better Career Prospects  ...   \n",
              "...             ...         ...                      ...  ...   \n",
              "9235         Select  Unemployed  Better Career Prospects  ...   \n",
              "9236         Select  Unemployed  Better Career Prospects  ...   \n",
              "9237         Select  Unemployed  Better Career Prospects  ...   \n",
              "9238  Online Search         NaN                      NaN  ...   \n",
              "9239         Select  Unemployed  Better Career Prospects  ...   \n",
              "\n",
              "           lead_quality supply_chain_content_updates dm_content_updates  \\\n",
              "0      Low in Relevance                           No                 No   \n",
              "1                   NaN                           No                 No   \n",
              "2              Might be                           No                 No   \n",
              "3              Not Sure                           No                 No   \n",
              "4              Might be                           No                 No   \n",
              "...                 ...                          ...                ...   \n",
              "9235  High in Relevance                           No                 No   \n",
              "9236           Might be                           No                 No   \n",
              "9237           Not Sure                           No                 No   \n",
              "9238                NaN                           No                 No   \n",
              "9239           Might be                           No                 No   \n",
              "\n",
              "        lead_profile                city asymmetrique_activity_index  \\\n",
              "0             Select              Select                   02.Medium   \n",
              "1             Select              Select                   02.Medium   \n",
              "2     Potential Lead              Mumbai                   02.Medium   \n",
              "3             Select              Mumbai                   02.Medium   \n",
              "4             Select              Mumbai                   02.Medium   \n",
              "...              ...                 ...                         ...   \n",
              "9235  Potential Lead              Mumbai                   02.Medium   \n",
              "9236  Potential Lead              Mumbai                   02.Medium   \n",
              "9237  Potential Lead              Mumbai                   02.Medium   \n",
              "9238             NaN  Other Metro Cities                   02.Medium   \n",
              "9239  Potential Lead        Other Cities                   02.Medium   \n",
              "\n",
              "     asymmetrique_profile_index cheque_payment mastering_interview  \\\n",
              "0                     02.Medium             No                  No   \n",
              "1                     02.Medium             No                  No   \n",
              "2                       01.High             No                 Yes   \n",
              "3                       01.High             No                  No   \n",
              "4                       01.High             No                  No   \n",
              "...                         ...            ...                 ...   \n",
              "9235                    01.High             No                  No   \n",
              "9236                    01.High             No                 Yes   \n",
              "9237                    01.High             No                 Yes   \n",
              "9238                  02.Medium             No                  No   \n",
              "9239                    01.High             No                 Yes   \n",
              "\n",
              "     last_notable_activity  \n",
              "0                 Modified  \n",
              "1             Email Opened  \n",
              "2             Email Opened  \n",
              "3                 Modified  \n",
              "4                 Modified  \n",
              "...                    ...  \n",
              "9235     Email Marked Spam  \n",
              "9236              SMS Sent  \n",
              "9237              SMS Sent  \n",
              "9238              SMS Sent  \n",
              "9239              Modified  \n",
              "\n",
              "[9240 rows x 29 columns]"
            ],
            "text/html": [
              "\n",
              "  <div id=\"df-396a5755-0e54-4155-b2d4-9b228bf5527a\">\n",
              "    <div class=\"colab-df-container\">\n",
              "      <div>\n",
              "<style scoped>\n",
              "    .dataframe tbody tr th:only-of-type {\n",
              "        vertical-align: middle;\n",
              "    }\n",
              "\n",
              "    .dataframe tbody tr th {\n",
              "        vertical-align: top;\n",
              "    }\n",
              "\n",
              "    .dataframe thead th {\n",
              "        text-align: right;\n",
              "    }\n",
              "</style>\n",
              "<table border=\"1\" class=\"dataframe\">\n",
              "  <thead>\n",
              "    <tr style=\"text-align: right;\">\n",
              "      <th></th>\n",
              "      <th>lead_origin</th>\n",
              "      <th>lead_source</th>\n",
              "      <th>do_not_email</th>\n",
              "      <th>do_not_call</th>\n",
              "      <th>last_activity</th>\n",
              "      <th>country</th>\n",
              "      <th>specialization</th>\n",
              "      <th>source</th>\n",
              "      <th>occupation</th>\n",
              "      <th>course_selection_reason</th>\n",
              "      <th>...</th>\n",
              "      <th>lead_quality</th>\n",
              "      <th>supply_chain_content_updates</th>\n",
              "      <th>dm_content_updates</th>\n",
              "      <th>lead_profile</th>\n",
              "      <th>city</th>\n",
              "      <th>asymmetrique_activity_index</th>\n",
              "      <th>asymmetrique_profile_index</th>\n",
              "      <th>cheque_payment</th>\n",
              "      <th>mastering_interview</th>\n",
              "      <th>last_notable_activity</th>\n",
              "    </tr>\n",
              "  </thead>\n",
              "  <tbody>\n",
              "    <tr>\n",
              "      <th>0</th>\n",
              "      <td>API</td>\n",
              "      <td>Olark Chat</td>\n",
              "      <td>No</td>\n",
              "      <td>No</td>\n",
              "      <td>Page Visited on Website</td>\n",
              "      <td>NaN</td>\n",
              "      <td>Select</td>\n",
              "      <td>Select</td>\n",
              "      <td>Unemployed</td>\n",
              "      <td>Better Career Prospects</td>\n",
              "      <td>...</td>\n",
              "      <td>Low in Relevance</td>\n",
              "      <td>No</td>\n",
              "      <td>No</td>\n",
              "      <td>Select</td>\n",
              "      <td>Select</td>\n",
              "      <td>02.Medium</td>\n",
              "      <td>02.Medium</td>\n",
              "      <td>No</td>\n",
              "      <td>No</td>\n",
              "      <td>Modified</td>\n",
              "    </tr>\n",
              "    <tr>\n",
              "      <th>1</th>\n",
              "      <td>API</td>\n",
              "      <td>Organic Search</td>\n",
              "      <td>No</td>\n",
              "      <td>No</td>\n",
              "      <td>Email Opened</td>\n",
              "      <td>India</td>\n",
              "      <td>Select</td>\n",
              "      <td>Select</td>\n",
              "      <td>Unemployed</td>\n",
              "      <td>Better Career Prospects</td>\n",
              "      <td>...</td>\n",
              "      <td>NaN</td>\n",
              "      <td>No</td>\n",
              "      <td>No</td>\n",
              "      <td>Select</td>\n",
              "      <td>Select</td>\n",
              "      <td>02.Medium</td>\n",
              "      <td>02.Medium</td>\n",
              "      <td>No</td>\n",
              "      <td>No</td>\n",
              "      <td>Email Opened</td>\n",
              "    </tr>\n",
              "    <tr>\n",
              "      <th>2</th>\n",
              "      <td>Landing Page Submission</td>\n",
              "      <td>Direct Traffic</td>\n",
              "      <td>No</td>\n",
              "      <td>No</td>\n",
              "      <td>Email Opened</td>\n",
              "      <td>India</td>\n",
              "      <td>Business Administration</td>\n",
              "      <td>Select</td>\n",
              "      <td>Student</td>\n",
              "      <td>Better Career Prospects</td>\n",
              "      <td>...</td>\n",
              "      <td>Might be</td>\n",
              "      <td>No</td>\n",
              "      <td>No</td>\n",
              "      <td>Potential Lead</td>\n",
              "      <td>Mumbai</td>\n",
              "      <td>02.Medium</td>\n",
              "      <td>01.High</td>\n",
              "      <td>No</td>\n",
              "      <td>Yes</td>\n",
              "      <td>Email Opened</td>\n",
              "    </tr>\n",
              "    <tr>\n",
              "      <th>3</th>\n",
              "      <td>Landing Page Submission</td>\n",
              "      <td>Direct Traffic</td>\n",
              "      <td>No</td>\n",
              "      <td>No</td>\n",
              "      <td>Unreachable</td>\n",
              "      <td>India</td>\n",
              "      <td>Media and Advertising</td>\n",
              "      <td>Word Of Mouth</td>\n",
              "      <td>Unemployed</td>\n",
              "      <td>Better Career Prospects</td>\n",
              "      <td>...</td>\n",
              "      <td>Not Sure</td>\n",
              "      <td>No</td>\n",
              "      <td>No</td>\n",
              "      <td>Select</td>\n",
              "      <td>Mumbai</td>\n",
              "      <td>02.Medium</td>\n",
              "      <td>01.High</td>\n",
              "      <td>No</td>\n",
              "      <td>No</td>\n",
              "      <td>Modified</td>\n",
              "    </tr>\n",
              "    <tr>\n",
              "      <th>4</th>\n",
              "      <td>Landing Page Submission</td>\n",
              "      <td>Google</td>\n",
              "      <td>No</td>\n",
              "      <td>No</td>\n",
              "      <td>Converted to Lead</td>\n",
              "      <td>India</td>\n",
              "      <td>Select</td>\n",
              "      <td>Other</td>\n",
              "      <td>Unemployed</td>\n",
              "      <td>Better Career Prospects</td>\n",
              "      <td>...</td>\n",
              "      <td>Might be</td>\n",
              "      <td>No</td>\n",
              "      <td>No</td>\n",
              "      <td>Select</td>\n",
              "      <td>Mumbai</td>\n",
              "      <td>02.Medium</td>\n",
              "      <td>01.High</td>\n",
              "      <td>No</td>\n",
              "      <td>No</td>\n",
              "      <td>Modified</td>\n",
              "    </tr>\n",
              "    <tr>\n",
              "      <th>...</th>\n",
              "      <td>...</td>\n",
              "      <td>...</td>\n",
              "      <td>...</td>\n",
              "      <td>...</td>\n",
              "      <td>...</td>\n",
              "      <td>...</td>\n",
              "      <td>...</td>\n",
              "      <td>...</td>\n",
              "      <td>...</td>\n",
              "      <td>...</td>\n",
              "      <td>...</td>\n",
              "      <td>...</td>\n",
              "      <td>...</td>\n",
              "      <td>...</td>\n",
              "      <td>...</td>\n",
              "      <td>...</td>\n",
              "      <td>...</td>\n",
              "      <td>...</td>\n",
              "      <td>...</td>\n",
              "      <td>...</td>\n",
              "      <td>...</td>\n",
              "    </tr>\n",
              "    <tr>\n",
              "      <th>9235</th>\n",
              "      <td>Landing Page Submission</td>\n",
              "      <td>Direct Traffic</td>\n",
              "      <td>Yes</td>\n",
              "      <td>No</td>\n",
              "      <td>Email Marked Spam</td>\n",
              "      <td>Saudi Arabia</td>\n",
              "      <td>IT Projects Management</td>\n",
              "      <td>Select</td>\n",
              "      <td>Unemployed</td>\n",
              "      <td>Better Career Prospects</td>\n",
              "      <td>...</td>\n",
              "      <td>High in Relevance</td>\n",
              "      <td>No</td>\n",
              "      <td>No</td>\n",
              "      <td>Potential Lead</td>\n",
              "      <td>Mumbai</td>\n",
              "      <td>02.Medium</td>\n",
              "      <td>01.High</td>\n",
              "      <td>No</td>\n",
              "      <td>No</td>\n",
              "      <td>Email Marked Spam</td>\n",
              "    </tr>\n",
              "    <tr>\n",
              "      <th>9236</th>\n",
              "      <td>Landing Page Submission</td>\n",
              "      <td>Direct Traffic</td>\n",
              "      <td>No</td>\n",
              "      <td>No</td>\n",
              "      <td>SMS Sent</td>\n",
              "      <td>India</td>\n",
              "      <td>Media and Advertising</td>\n",
              "      <td>Select</td>\n",
              "      <td>Unemployed</td>\n",
              "      <td>Better Career Prospects</td>\n",
              "      <td>...</td>\n",
              "      <td>Might be</td>\n",
              "      <td>No</td>\n",
              "      <td>No</td>\n",
              "      <td>Potential Lead</td>\n",
              "      <td>Mumbai</td>\n",
              "      <td>02.Medium</td>\n",
              "      <td>01.High</td>\n",
              "      <td>No</td>\n",
              "      <td>Yes</td>\n",
              "      <td>SMS Sent</td>\n",
              "    </tr>\n",
              "    <tr>\n",
              "      <th>9237</th>\n",
              "      <td>Landing Page Submission</td>\n",
              "      <td>Direct Traffic</td>\n",
              "      <td>Yes</td>\n",
              "      <td>No</td>\n",
              "      <td>SMS Sent</td>\n",
              "      <td>India</td>\n",
              "      <td>Business Administration</td>\n",
              "      <td>Select</td>\n",
              "      <td>Unemployed</td>\n",
              "      <td>Better Career Prospects</td>\n",
              "      <td>...</td>\n",
              "      <td>Not Sure</td>\n",
              "      <td>No</td>\n",
              "      <td>No</td>\n",
              "      <td>Potential Lead</td>\n",
              "      <td>Mumbai</td>\n",
              "      <td>02.Medium</td>\n",
              "      <td>01.High</td>\n",
              "      <td>No</td>\n",
              "      <td>Yes</td>\n",
              "      <td>SMS Sent</td>\n",
              "    </tr>\n",
              "    <tr>\n",
              "      <th>9238</th>\n",
              "      <td>Landing Page Submission</td>\n",
              "      <td>Google</td>\n",
              "      <td>No</td>\n",
              "      <td>No</td>\n",
              "      <td>SMS Sent</td>\n",
              "      <td>India</td>\n",
              "      <td>Human Resource Management</td>\n",
              "      <td>Online Search</td>\n",
              "      <td>NaN</td>\n",
              "      <td>NaN</td>\n",
              "      <td>...</td>\n",
              "      <td>NaN</td>\n",
              "      <td>No</td>\n",
              "      <td>No</td>\n",
              "      <td>NaN</td>\n",
              "      <td>Other Metro Cities</td>\n",
              "      <td>02.Medium</td>\n",
              "      <td>02.Medium</td>\n",
              "      <td>No</td>\n",
              "      <td>No</td>\n",
              "      <td>SMS Sent</td>\n",
              "    </tr>\n",
              "    <tr>\n",
              "      <th>9239</th>\n",
              "      <td>Landing Page Submission</td>\n",
              "      <td>Direct Traffic</td>\n",
              "      <td>No</td>\n",
              "      <td>No</td>\n",
              "      <td>SMS Sent</td>\n",
              "      <td>Bangladesh</td>\n",
              "      <td>Supply Chain Management</td>\n",
              "      <td>Select</td>\n",
              "      <td>Unemployed</td>\n",
              "      <td>Better Career Prospects</td>\n",
              "      <td>...</td>\n",
              "      <td>Might be</td>\n",
              "      <td>No</td>\n",
              "      <td>No</td>\n",
              "      <td>Potential Lead</td>\n",
              "      <td>Other Cities</td>\n",
              "      <td>02.Medium</td>\n",
              "      <td>01.High</td>\n",
              "      <td>No</td>\n",
              "      <td>Yes</td>\n",
              "      <td>Modified</td>\n",
              "    </tr>\n",
              "  </tbody>\n",
              "</table>\n",
              "<p>9240 rows × 29 columns</p>\n",
              "</div>\n",
              "      <button class=\"colab-df-convert\" onclick=\"convertToInteractive('df-396a5755-0e54-4155-b2d4-9b228bf5527a')\"\n",
              "              title=\"Convert this dataframe to an interactive table.\"\n",
              "              style=\"display:none;\">\n",
              "        \n",
              "  <svg xmlns=\"http://www.w3.org/2000/svg\" height=\"24px\"viewBox=\"0 0 24 24\"\n",
              "       width=\"24px\">\n",
              "    <path d=\"M0 0h24v24H0V0z\" fill=\"none\"/>\n",
              "    <path d=\"M18.56 5.44l.94 2.06.94-2.06 2.06-.94-2.06-.94-.94-2.06-.94 2.06-2.06.94zm-11 1L8.5 8.5l.94-2.06 2.06-.94-2.06-.94L8.5 2.5l-.94 2.06-2.06.94zm10 10l.94 2.06.94-2.06 2.06-.94-2.06-.94-.94-2.06-.94 2.06-2.06.94z\"/><path d=\"M17.41 7.96l-1.37-1.37c-.4-.4-.92-.59-1.43-.59-.52 0-1.04.2-1.43.59L10.3 9.45l-7.72 7.72c-.78.78-.78 2.05 0 2.83L4 21.41c.39.39.9.59 1.41.59.51 0 1.02-.2 1.41-.59l7.78-7.78 2.81-2.81c.8-.78.8-2.07 0-2.86zM5.41 20L4 18.59l7.72-7.72 1.47 1.35L5.41 20z\"/>\n",
              "  </svg>\n",
              "      </button>\n",
              "      \n",
              "  <style>\n",
              "    .colab-df-container {\n",
              "      display:flex;\n",
              "      flex-wrap:wrap;\n",
              "      gap: 12px;\n",
              "    }\n",
              "\n",
              "    .colab-df-convert {\n",
              "      background-color: #E8F0FE;\n",
              "      border: none;\n",
              "      border-radius: 50%;\n",
              "      cursor: pointer;\n",
              "      display: none;\n",
              "      fill: #1967D2;\n",
              "      height: 32px;\n",
              "      padding: 0 0 0 0;\n",
              "      width: 32px;\n",
              "    }\n",
              "\n",
              "    .colab-df-convert:hover {\n",
              "      background-color: #E2EBFA;\n",
              "      box-shadow: 0px 1px 2px rgba(60, 64, 67, 0.3), 0px 1px 3px 1px rgba(60, 64, 67, 0.15);\n",
              "      fill: #174EA6;\n",
              "    }\n",
              "\n",
              "    [theme=dark] .colab-df-convert {\n",
              "      background-color: #3B4455;\n",
              "      fill: #D2E3FC;\n",
              "    }\n",
              "\n",
              "    [theme=dark] .colab-df-convert:hover {\n",
              "      background-color: #434B5C;\n",
              "      box-shadow: 0px 1px 3px 1px rgba(0, 0, 0, 0.15);\n",
              "      filter: drop-shadow(0px 1px 2px rgba(0, 0, 0, 0.3));\n",
              "      fill: #FFFFFF;\n",
              "    }\n",
              "  </style>\n",
              "\n",
              "      <script>\n",
              "        const buttonEl =\n",
              "          document.querySelector('#df-396a5755-0e54-4155-b2d4-9b228bf5527a button.colab-df-convert');\n",
              "        buttonEl.style.display =\n",
              "          google.colab.kernel.accessAllowed ? 'block' : 'none';\n",
              "\n",
              "        async function convertToInteractive(key) {\n",
              "          const element = document.querySelector('#df-396a5755-0e54-4155-b2d4-9b228bf5527a');\n",
              "          const dataTable =\n",
              "            await google.colab.kernel.invokeFunction('convertToInteractive',\n",
              "                                                     [key], {});\n",
              "          if (!dataTable) return;\n",
              "\n",
              "          const docLinkHtml = 'Like what you see? Visit the ' +\n",
              "            '<a target=\"_blank\" href=https://colab.research.google.com/notebooks/data_table.ipynb>data table notebook</a>'\n",
              "            + ' to learn more about interactive tables.';\n",
              "          element.innerHTML = '';\n",
              "          dataTable['output_type'] = 'display_data';\n",
              "          await google.colab.output.renderOutput(dataTable, element);\n",
              "          const docLink = document.createElement('div');\n",
              "          docLink.innerHTML = docLinkHtml;\n",
              "          element.appendChild(docLink);\n",
              "        }\n",
              "      </script>\n",
              "    </div>\n",
              "  </div>\n",
              "  "
            ]
          },
          "metadata": {},
          "execution_count": 16
        }
      ]
    },
    {
      "cell_type": "code",
      "source": [
        "# Handeling the \"Select = Null\" claim\n",
        "# Finding out the  columns that have \"Select\" as a value in it\n",
        "select_func = lambda x: x.str.contains('Select', na=False)\n",
        "cols_select = df_obj.columns[df_obj.apply(select_func).any()].tolist()\n",
        "print (cols_select)"
      ],
      "metadata": {
        "colab": {
          "base_uri": "https://localhost:8080/"
        },
        "id": "13JO9nzll-8t",
        "outputId": "7c574e2c-eebf-43a8-cd9a-8c0a8cad02ff"
      },
      "execution_count": null,
      "outputs": [
        {
          "output_type": "stream",
          "name": "stdout",
          "text": [
            "['specialization', 'source', 'lead_profile', 'city']\n"
          ]
        }
      ]
    },
    {
      "cell_type": "markdown",
      "source": [
        "Observation: These are the colums containing \"Select\" as a value"
      ],
      "metadata": {
        "id": "L90RWLe1nNsq"
      }
    },
    {
      "cell_type": "code",
      "source": [
        "# replacing all the  values\n",
        "df[cols_select] = df[cols_select].replace('Select', np.NaN)"
      ],
      "metadata": {
        "id": "ekoALySgmwXI"
      },
      "execution_count": null,
      "outputs": []
    },
    {
      "cell_type": "code",
      "source": [
        "df.head()"
      ],
      "metadata": {
        "colab": {
          "base_uri": "https://localhost:8080/",
          "height": 438
        },
        "id": "Nxt77dr5oOFB",
        "outputId": "66ad59a0-5e38-42e1-a993-cfc236b1179d"
      },
      "execution_count": null,
      "outputs": [
        {
          "output_type": "execute_result",
          "data": {
            "text/plain": [
              "   lead_number              lead_origin     lead_source do_not_email  \\\n",
              "0       660737                      API      Olark Chat           No   \n",
              "1       660728                      API  Organic Search           No   \n",
              "2       660727  Landing Page Submission  Direct Traffic           No   \n",
              "3       660719  Landing Page Submission  Direct Traffic           No   \n",
              "4       660681  Landing Page Submission          Google           No   \n",
              "\n",
              "  do_not_call  converted  total_visits  time_on_website  page_views_per_visit  \\\n",
              "0          No          0           0.0                0                   0.0   \n",
              "1          No          0           5.0              674                   2.5   \n",
              "2          No          1           2.0             1532                   2.0   \n",
              "3          No          0           1.0              305                   1.0   \n",
              "4          No          1           2.0             1428                   1.0   \n",
              "\n",
              "             last_activity  ... dm_content_updates    lead_profile    city  \\\n",
              "0  Page Visited on Website  ...                 No             NaN     NaN   \n",
              "1             Email Opened  ...                 No             NaN     NaN   \n",
              "2             Email Opened  ...                 No  Potential Lead  Mumbai   \n",
              "3              Unreachable  ...                 No             NaN  Mumbai   \n",
              "4        Converted to Lead  ...                 No             NaN  Mumbai   \n",
              "\n",
              "  asymmetrique_activity_index asymmetrique_profile_index  \\\n",
              "0                   02.Medium                  02.Medium   \n",
              "1                   02.Medium                  02.Medium   \n",
              "2                   02.Medium                    01.High   \n",
              "3                   02.Medium                    01.High   \n",
              "4                   02.Medium                    01.High   \n",
              "\n",
              "  asymmetrique_activity_score asymmetrique_profile_score cheque_payment  \\\n",
              "0                        15.0                       15.0             No   \n",
              "1                        15.0                       15.0             No   \n",
              "2                        14.0                       20.0             No   \n",
              "3                        13.0                       17.0             No   \n",
              "4                        15.0                       18.0             No   \n",
              "\n",
              "  mastering_interview last_notable_activity  \n",
              "0                  No              Modified  \n",
              "1                  No          Email Opened  \n",
              "2                 Yes          Email Opened  \n",
              "3                  No              Modified  \n",
              "4                  No              Modified  \n",
              "\n",
              "[5 rows x 36 columns]"
            ],
            "text/html": [
              "\n",
              "  <div id=\"df-1e2af750-41bf-4eee-bcac-02cf993fe1f4\">\n",
              "    <div class=\"colab-df-container\">\n",
              "      <div>\n",
              "<style scoped>\n",
              "    .dataframe tbody tr th:only-of-type {\n",
              "        vertical-align: middle;\n",
              "    }\n",
              "\n",
              "    .dataframe tbody tr th {\n",
              "        vertical-align: top;\n",
              "    }\n",
              "\n",
              "    .dataframe thead th {\n",
              "        text-align: right;\n",
              "    }\n",
              "</style>\n",
              "<table border=\"1\" class=\"dataframe\">\n",
              "  <thead>\n",
              "    <tr style=\"text-align: right;\">\n",
              "      <th></th>\n",
              "      <th>lead_number</th>\n",
              "      <th>lead_origin</th>\n",
              "      <th>lead_source</th>\n",
              "      <th>do_not_email</th>\n",
              "      <th>do_not_call</th>\n",
              "      <th>converted</th>\n",
              "      <th>total_visits</th>\n",
              "      <th>time_on_website</th>\n",
              "      <th>page_views_per_visit</th>\n",
              "      <th>last_activity</th>\n",
              "      <th>...</th>\n",
              "      <th>dm_content_updates</th>\n",
              "      <th>lead_profile</th>\n",
              "      <th>city</th>\n",
              "      <th>asymmetrique_activity_index</th>\n",
              "      <th>asymmetrique_profile_index</th>\n",
              "      <th>asymmetrique_activity_score</th>\n",
              "      <th>asymmetrique_profile_score</th>\n",
              "      <th>cheque_payment</th>\n",
              "      <th>mastering_interview</th>\n",
              "      <th>last_notable_activity</th>\n",
              "    </tr>\n",
              "  </thead>\n",
              "  <tbody>\n",
              "    <tr>\n",
              "      <th>0</th>\n",
              "      <td>660737</td>\n",
              "      <td>API</td>\n",
              "      <td>Olark Chat</td>\n",
              "      <td>No</td>\n",
              "      <td>No</td>\n",
              "      <td>0</td>\n",
              "      <td>0.0</td>\n",
              "      <td>0</td>\n",
              "      <td>0.0</td>\n",
              "      <td>Page Visited on Website</td>\n",
              "      <td>...</td>\n",
              "      <td>No</td>\n",
              "      <td>NaN</td>\n",
              "      <td>NaN</td>\n",
              "      <td>02.Medium</td>\n",
              "      <td>02.Medium</td>\n",
              "      <td>15.0</td>\n",
              "      <td>15.0</td>\n",
              "      <td>No</td>\n",
              "      <td>No</td>\n",
              "      <td>Modified</td>\n",
              "    </tr>\n",
              "    <tr>\n",
              "      <th>1</th>\n",
              "      <td>660728</td>\n",
              "      <td>API</td>\n",
              "      <td>Organic Search</td>\n",
              "      <td>No</td>\n",
              "      <td>No</td>\n",
              "      <td>0</td>\n",
              "      <td>5.0</td>\n",
              "      <td>674</td>\n",
              "      <td>2.5</td>\n",
              "      <td>Email Opened</td>\n",
              "      <td>...</td>\n",
              "      <td>No</td>\n",
              "      <td>NaN</td>\n",
              "      <td>NaN</td>\n",
              "      <td>02.Medium</td>\n",
              "      <td>02.Medium</td>\n",
              "      <td>15.0</td>\n",
              "      <td>15.0</td>\n",
              "      <td>No</td>\n",
              "      <td>No</td>\n",
              "      <td>Email Opened</td>\n",
              "    </tr>\n",
              "    <tr>\n",
              "      <th>2</th>\n",
              "      <td>660727</td>\n",
              "      <td>Landing Page Submission</td>\n",
              "      <td>Direct Traffic</td>\n",
              "      <td>No</td>\n",
              "      <td>No</td>\n",
              "      <td>1</td>\n",
              "      <td>2.0</td>\n",
              "      <td>1532</td>\n",
              "      <td>2.0</td>\n",
              "      <td>Email Opened</td>\n",
              "      <td>...</td>\n",
              "      <td>No</td>\n",
              "      <td>Potential Lead</td>\n",
              "      <td>Mumbai</td>\n",
              "      <td>02.Medium</td>\n",
              "      <td>01.High</td>\n",
              "      <td>14.0</td>\n",
              "      <td>20.0</td>\n",
              "      <td>No</td>\n",
              "      <td>Yes</td>\n",
              "      <td>Email Opened</td>\n",
              "    </tr>\n",
              "    <tr>\n",
              "      <th>3</th>\n",
              "      <td>660719</td>\n",
              "      <td>Landing Page Submission</td>\n",
              "      <td>Direct Traffic</td>\n",
              "      <td>No</td>\n",
              "      <td>No</td>\n",
              "      <td>0</td>\n",
              "      <td>1.0</td>\n",
              "      <td>305</td>\n",
              "      <td>1.0</td>\n",
              "      <td>Unreachable</td>\n",
              "      <td>...</td>\n",
              "      <td>No</td>\n",
              "      <td>NaN</td>\n",
              "      <td>Mumbai</td>\n",
              "      <td>02.Medium</td>\n",
              "      <td>01.High</td>\n",
              "      <td>13.0</td>\n",
              "      <td>17.0</td>\n",
              "      <td>No</td>\n",
              "      <td>No</td>\n",
              "      <td>Modified</td>\n",
              "    </tr>\n",
              "    <tr>\n",
              "      <th>4</th>\n",
              "      <td>660681</td>\n",
              "      <td>Landing Page Submission</td>\n",
              "      <td>Google</td>\n",
              "      <td>No</td>\n",
              "      <td>No</td>\n",
              "      <td>1</td>\n",
              "      <td>2.0</td>\n",
              "      <td>1428</td>\n",
              "      <td>1.0</td>\n",
              "      <td>Converted to Lead</td>\n",
              "      <td>...</td>\n",
              "      <td>No</td>\n",
              "      <td>NaN</td>\n",
              "      <td>Mumbai</td>\n",
              "      <td>02.Medium</td>\n",
              "      <td>01.High</td>\n",
              "      <td>15.0</td>\n",
              "      <td>18.0</td>\n",
              "      <td>No</td>\n",
              "      <td>No</td>\n",
              "      <td>Modified</td>\n",
              "    </tr>\n",
              "  </tbody>\n",
              "</table>\n",
              "<p>5 rows × 36 columns</p>\n",
              "</div>\n",
              "      <button class=\"colab-df-convert\" onclick=\"convertToInteractive('df-1e2af750-41bf-4eee-bcac-02cf993fe1f4')\"\n",
              "              title=\"Convert this dataframe to an interactive table.\"\n",
              "              style=\"display:none;\">\n",
              "        \n",
              "  <svg xmlns=\"http://www.w3.org/2000/svg\" height=\"24px\"viewBox=\"0 0 24 24\"\n",
              "       width=\"24px\">\n",
              "    <path d=\"M0 0h24v24H0V0z\" fill=\"none\"/>\n",
              "    <path d=\"M18.56 5.44l.94 2.06.94-2.06 2.06-.94-2.06-.94-.94-2.06-.94 2.06-2.06.94zm-11 1L8.5 8.5l.94-2.06 2.06-.94-2.06-.94L8.5 2.5l-.94 2.06-2.06.94zm10 10l.94 2.06.94-2.06 2.06-.94-2.06-.94-.94-2.06-.94 2.06-2.06.94z\"/><path d=\"M17.41 7.96l-1.37-1.37c-.4-.4-.92-.59-1.43-.59-.52 0-1.04.2-1.43.59L10.3 9.45l-7.72 7.72c-.78.78-.78 2.05 0 2.83L4 21.41c.39.39.9.59 1.41.59.51 0 1.02-.2 1.41-.59l7.78-7.78 2.81-2.81c.8-.78.8-2.07 0-2.86zM5.41 20L4 18.59l7.72-7.72 1.47 1.35L5.41 20z\"/>\n",
              "  </svg>\n",
              "      </button>\n",
              "      \n",
              "  <style>\n",
              "    .colab-df-container {\n",
              "      display:flex;\n",
              "      flex-wrap:wrap;\n",
              "      gap: 12px;\n",
              "    }\n",
              "\n",
              "    .colab-df-convert {\n",
              "      background-color: #E8F0FE;\n",
              "      border: none;\n",
              "      border-radius: 50%;\n",
              "      cursor: pointer;\n",
              "      display: none;\n",
              "      fill: #1967D2;\n",
              "      height: 32px;\n",
              "      padding: 0 0 0 0;\n",
              "      width: 32px;\n",
              "    }\n",
              "\n",
              "    .colab-df-convert:hover {\n",
              "      background-color: #E2EBFA;\n",
              "      box-shadow: 0px 1px 2px rgba(60, 64, 67, 0.3), 0px 1px 3px 1px rgba(60, 64, 67, 0.15);\n",
              "      fill: #174EA6;\n",
              "    }\n",
              "\n",
              "    [theme=dark] .colab-df-convert {\n",
              "      background-color: #3B4455;\n",
              "      fill: #D2E3FC;\n",
              "    }\n",
              "\n",
              "    [theme=dark] .colab-df-convert:hover {\n",
              "      background-color: #434B5C;\n",
              "      box-shadow: 0px 1px 3px 1px rgba(0, 0, 0, 0.15);\n",
              "      filter: drop-shadow(0px 1px 2px rgba(0, 0, 0, 0.3));\n",
              "      fill: #FFFFFF;\n",
              "    }\n",
              "  </style>\n",
              "\n",
              "      <script>\n",
              "        const buttonEl =\n",
              "          document.querySelector('#df-1e2af750-41bf-4eee-bcac-02cf993fe1f4 button.colab-df-convert');\n",
              "        buttonEl.style.display =\n",
              "          google.colab.kernel.accessAllowed ? 'block' : 'none';\n",
              "\n",
              "        async function convertToInteractive(key) {\n",
              "          const element = document.querySelector('#df-1e2af750-41bf-4eee-bcac-02cf993fe1f4');\n",
              "          const dataTable =\n",
              "            await google.colab.kernel.invokeFunction('convertToInteractive',\n",
              "                                                     [key], {});\n",
              "          if (!dataTable) return;\n",
              "\n",
              "          const docLinkHtml = 'Like what you see? Visit the ' +\n",
              "            '<a target=\"_blank\" href=https://colab.research.google.com/notebooks/data_table.ipynb>data table notebook</a>'\n",
              "            + ' to learn more about interactive tables.';\n",
              "          element.innerHTML = '';\n",
              "          dataTable['output_type'] = 'display_data';\n",
              "          await google.colab.output.renderOutput(dataTable, element);\n",
              "          const docLink = document.createElement('div');\n",
              "          docLink.innerHTML = docLinkHtml;\n",
              "          element.appendChild(docLink);\n",
              "        }\n",
              "      </script>\n",
              "    </div>\n",
              "  </div>\n",
              "  "
            ]
          },
          "metadata": {},
          "execution_count": 19
        }
      ]
    },
    {
      "cell_type": "markdown",
      "source": [
        "# Handeling Null values"
      ],
      "metadata": {
        "id": "XBBhq1JFoZ4I"
      }
    },
    {
      "cell_type": "code",
      "source": [
        "# Checking for percent of null values in the dataframe\n",
        "(df.isnull().sum() / df.shape[0]) * 100"
      ],
      "metadata": {
        "colab": {
          "base_uri": "https://localhost:8080/"
        },
        "id": "jvQEfTPSoQ3d",
        "outputId": "32a7390c-1b64-4c11-e27b-398e706aa0eb"
      },
      "execution_count": null,
      "outputs": [
        {
          "output_type": "execute_result",
          "data": {
            "text/plain": [
              "lead_number                      0.000000\n",
              "lead_origin                      0.000000\n",
              "lead_source                      0.389610\n",
              "do_not_email                     0.000000\n",
              "do_not_call                      0.000000\n",
              "converted                        0.000000\n",
              "total_visits                     1.482684\n",
              "time_on_website                  0.000000\n",
              "page_views_per_visit             1.482684\n",
              "last_activity                    1.114719\n",
              "country                         26.634199\n",
              "specialization                  36.580087\n",
              "source                          78.463203\n",
              "occupation                      29.112554\n",
              "course_selection_reason         29.318182\n",
              "search                           0.000000\n",
              "magazine                         0.000000\n",
              "newspaper_article                0.000000\n",
              "x_education_forums               0.000000\n",
              "newspaper                        0.000000\n",
              "digital_advertisement            0.000000\n",
              "through_recommendations          0.000000\n",
              "courses_updates                  0.000000\n",
              "tags                            36.287879\n",
              "lead_quality                    51.590909\n",
              "supply_chain_content_updates     0.000000\n",
              "dm_content_updates               0.000000\n",
              "lead_profile                    74.188312\n",
              "city                            39.707792\n",
              "asymmetrique_activity_index     45.649351\n",
              "asymmetrique_profile_index      45.649351\n",
              "asymmetrique_activity_score     45.649351\n",
              "asymmetrique_profile_score      45.649351\n",
              "cheque_payment                   0.000000\n",
              "mastering_interview              0.000000\n",
              "last_notable_activity            0.000000\n",
              "dtype: float64"
            ]
          },
          "metadata": {},
          "execution_count": 20
        }
      ]
    },
    {
      "cell_type": "markdown",
      "source": [
        "After analysing, we decided to drop the columns having Null values greater than 40%"
      ],
      "metadata": {
        "id": "LwPWqvy5pO6O"
      }
    },
    {
      "cell_type": "code",
      "source": [
        "df.drop(['source', 'lead_quality', 'lead_profile', 'asymmetrique_activity_index', \n",
        "                      'asymmetrique_profile_index', 'asymmetrique_activity_score', 'asymmetrique_profile_score',\n",
        "        'tags', 'last_activity', 'last_notable_activity'], \n",
        "        axis = 1, inplace = True)"
      ],
      "metadata": {
        "id": "w9_RJGkSo1v-"
      },
      "execution_count": null,
      "outputs": []
    },
    {
      "cell_type": "code",
      "source": [
        "df.shape"
      ],
      "metadata": {
        "colab": {
          "base_uri": "https://localhost:8080/"
        },
        "id": "yHzXBWtrpi4n",
        "outputId": "f5208453-28be-4ce3-a7d9-538cba0a9b16"
      },
      "execution_count": null,
      "outputs": [
        {
          "output_type": "execute_result",
          "data": {
            "text/plain": [
              "(9240, 26)"
            ]
          },
          "metadata": {},
          "execution_count": 22
        }
      ]
    },
    {
      "cell_type": "code",
      "source": [
        "(df.isnull().sum() / df.shape[0]) * 100"
      ],
      "metadata": {
        "colab": {
          "base_uri": "https://localhost:8080/"
        },
        "id": "DqgywRrmpl45",
        "outputId": "20fb719a-0297-47d9-9f58-36b768f9ed73"
      },
      "execution_count": null,
      "outputs": [
        {
          "output_type": "execute_result",
          "data": {
            "text/plain": [
              "lead_number                      0.000000\n",
              "lead_origin                      0.000000\n",
              "lead_source                      0.389610\n",
              "do_not_email                     0.000000\n",
              "do_not_call                      0.000000\n",
              "converted                        0.000000\n",
              "total_visits                     1.482684\n",
              "time_on_website                  0.000000\n",
              "page_views_per_visit             1.482684\n",
              "country                         26.634199\n",
              "specialization                  36.580087\n",
              "occupation                      29.112554\n",
              "course_selection_reason         29.318182\n",
              "search                           0.000000\n",
              "magazine                         0.000000\n",
              "newspaper_article                0.000000\n",
              "x_education_forums               0.000000\n",
              "newspaper                        0.000000\n",
              "digital_advertisement            0.000000\n",
              "through_recommendations          0.000000\n",
              "courses_updates                  0.000000\n",
              "supply_chain_content_updates     0.000000\n",
              "dm_content_updates               0.000000\n",
              "city                            39.707792\n",
              "cheque_payment                   0.000000\n",
              "mastering_interview              0.000000\n",
              "dtype: float64"
            ]
          },
          "metadata": {},
          "execution_count": 23
        }
      ]
    },
    {
      "cell_type": "code",
      "source": [
        "#Now checking the remaining columns having Null values, One by one\n",
        "round((df.country.value_counts(dropna=False)/df.country.shape[0]) * 100, 2)"
      ],
      "metadata": {
        "colab": {
          "base_uri": "https://localhost:8080/"
        },
        "id": "3_rhAPgKpv9X",
        "outputId": "33241b94-7543-4f24-e419-c978446ced01"
      },
      "execution_count": null,
      "outputs": [
        {
          "output_type": "execute_result",
          "data": {
            "text/plain": [
              "India                   70.26\n",
              "NaN                     26.63\n",
              "United States            0.75\n",
              "United Arab Emirates     0.57\n",
              "Singapore                0.26\n",
              "Saudi Arabia             0.23\n",
              "United Kingdom           0.16\n",
              "Australia                0.14\n",
              "Qatar                    0.11\n",
              "Bahrain                  0.08\n",
              "Hong Kong                0.08\n",
              "Oman                     0.06\n",
              "France                   0.06\n",
              "unknown                  0.05\n",
              "Kuwait                   0.04\n",
              "South Africa             0.04\n",
              "Canada                   0.04\n",
              "Nigeria                  0.04\n",
              "Germany                  0.04\n",
              "Sweden                   0.03\n",
              "Philippines              0.02\n",
              "Uganda                   0.02\n",
              "Italy                    0.02\n",
              "Bangladesh               0.02\n",
              "Netherlands              0.02\n",
              "Asia/Pacific Region      0.02\n",
              "China                    0.02\n",
              "Belgium                  0.02\n",
              "Ghana                    0.02\n",
              "Kenya                    0.01\n",
              "Sri Lanka                0.01\n",
              "Tanzania                 0.01\n",
              "Malaysia                 0.01\n",
              "Liberia                  0.01\n",
              "Switzerland              0.01\n",
              "Denmark                  0.01\n",
              "Russia                   0.01\n",
              "Vietnam                  0.01\n",
              "Indonesia                0.01\n",
              "Name: country, dtype: float64"
            ]
          },
          "metadata": {},
          "execution_count": 24
        }
      ]
    },
    {
      "cell_type": "markdown",
      "source": [
        "Observation:\n",
        "1. The most number of values are present for India\n",
        "2. The highest count of values is followed by Null values\n",
        "3. Remaining countries seems to have point (0.x) contribution in coutries columns."
      ],
      "metadata": {
        "id": "EzfLJIScq1am"
      }
    },
    {
      "cell_type": "code",
      "source": [
        "# From the observation we can see that the data is completely Skewed toward 'India'. \n",
        "# Therefore we will drop the 'Country' column\n",
        "df.drop('country', axis = 1, inplace = True)"
      ],
      "metadata": {
        "id": "fpYi6_h2qWd8"
      },
      "execution_count": null,
      "outputs": []
    },
    {
      "cell_type": "code",
      "source": [
        "# Checking for the course_selection_reason column\n",
        "round(df.course_selection_reason.value_counts(dropna=False) / df.course_selection_reason.shape[0] * 100, 2)"
      ],
      "metadata": {
        "colab": {
          "base_uri": "https://localhost:8080/"
        },
        "id": "GplTaFy5B_s3",
        "outputId": "58d7c912-0e3b-4721-c45e-2f052f26760b"
      },
      "execution_count": null,
      "outputs": [
        {
          "output_type": "execute_result",
          "data": {
            "text/plain": [
              "Better Career Prospects      70.65\n",
              "NaN                          29.32\n",
              "Flexibility & Convenience     0.02\n",
              "Other                         0.01\n",
              "Name: course_selection_reason, dtype: float64"
            ]
          },
          "metadata": {},
          "execution_count": 26
        }
      ]
    },
    {
      "cell_type": "code",
      "source": [
        "# From the observation it is observed that the data is skewed towards\n",
        "#  'Better Career Prospects' & NaN  is upto 30%\n",
        "# It is better to drop this column\n",
        "df.drop('course_selection_reason', axis = 1, inplace = True)"
      ],
      "metadata": {
        "id": "dYhEICTfCYys"
      },
      "execution_count": null,
      "outputs": []
    },
    {
      "cell_type": "code",
      "source": [
        "# Working on 'occupation' column\n",
        "round((df.occupation.value_counts( dropna = False)/ df.occupation.shape[0]) * 100, 2)"
      ],
      "metadata": {
        "colab": {
          "base_uri": "https://localhost:8080/"
        },
        "id": "oQAFNFyFDJo_",
        "outputId": "299c7e8f-f204-45c9-d3b3-58b9a8f8e100"
      },
      "execution_count": null,
      "outputs": [
        {
          "output_type": "execute_result",
          "data": {
            "text/plain": [
              "Unemployed              60.61\n",
              "NaN                     29.11\n",
              "Working Professional     7.64\n",
              "Student                  2.27\n",
              "Other                    0.17\n",
              "Housewife                0.11\n",
              "Businessman              0.09\n",
              "Name: occupation, dtype: float64"
            ]
          },
          "metadata": {},
          "execution_count": 28
        }
      ]
    },
    {
      "cell_type": "code",
      "source": [
        "import seaborn as sns\n",
        "plt.figure(figsize=(12, 4))\n",
        "sns.countplot(x = 'occupation', data = df)"
      ],
      "metadata": {
        "colab": {
          "base_uri": "https://localhost:8080/",
          "height": 296
        },
        "id": "dA_KpAlODv5d",
        "outputId": "eac45ea3-678f-415e-aa6d-f6ebcd3d26a8"
      },
      "execution_count": null,
      "outputs": [
        {
          "output_type": "execute_result",
          "data": {
            "text/plain": [
              "<matplotlib.axes._subplots.AxesSubplot at 0x7fd4d9ee2730>"
            ]
          },
          "metadata": {},
          "execution_count": 29
        },
        {
          "output_type": "display_data",
          "data": {
            "text/plain": [
              "<Figure size 864x288 with 1 Axes>"
            ],
            "image/png": "[encoded data removed]"
          },
          "metadata": {
            "needs_background": "light"
          }
        }
      ]
    },
    {
      "cell_type": "markdown",
      "source": [
        "Observation: \n",
        "1. It is observed that the data is highly skewed toward 'Unemployed' &\n"
      ],
      "metadata": {
        "id": "wlY6KD5mGCqZ"
      }
    },
    {
      "cell_type": "code",
      "source": [
        "df.loc[(df.occupation == 'Student') | (df.occupation == 'Other') | (df.occupation == 'Housewife') | \n",
        "       (df.occupation == 'Businessman') , 'occupation'] = 'Student and Others'"
      ],
      "metadata": {
        "id": "8H-JNEZIG8fZ"
      },
      "execution_count": null,
      "outputs": []
    },
    {
      "cell_type": "code",
      "source": [
        "df.occupation.value_counts()"
      ],
      "metadata": {
        "colab": {
          "base_uri": "https://localhost:8080/"
        },
        "id": "Q3drs2UWHFaW",
        "outputId": "efed1807-33ce-483f-e35f-fd99351240e3"
      },
      "execution_count": null,
      "outputs": [
        {
          "output_type": "execute_result",
          "data": {
            "text/plain": [
              "Unemployed              5600\n",
              "Working Professional     706\n",
              "Student and Others       244\n",
              "Name: occupation, dtype: int64"
            ]
          },
          "metadata": {},
          "execution_count": 31
        }
      ]
    },
    {
      "cell_type": "code",
      "source": [
        "plt.figure(figsize=(12, 4))\n",
        "sns.countplot(x = 'occupation', data = df)\n",
        "#Combined Occupation as Unemployed, Student and Others occupation and working profession"
      ],
      "metadata": {
        "colab": {
          "base_uri": "https://localhost:8080/",
          "height": 296
        },
        "id": "I1CvB2VNHGaW",
        "outputId": "04e77619-c16f-4597-b030-d738b412f914"
      },
      "execution_count": null,
      "outputs": [
        {
          "output_type": "execute_result",
          "data": {
            "text/plain": [
              "<matplotlib.axes._subplots.AxesSubplot at 0x7fd4d9f14d60>"
            ]
          },
          "metadata": {},
          "execution_count": 32
        },
        {
          "output_type": "display_data",
          "data": {
            "text/plain": [
              "<Figure size 864x288 with 1 Axes>"
            ],
            "image/png": "[encoded data removed]"
          },
          "metadata": {
            "needs_background": "light"
          }
        }
      ]
    },
    {
      "cell_type": "code",
      "source": [
        "test = df.copy()"
      ],
      "metadata": {
        "id": "Fy6V2blPHdT0"
      },
      "execution_count": null,
      "outputs": []
    },
    {
      "cell_type": "code",
      "source": [
        "round((test.occupation.value_counts()/ test.occupation.shape[0]) * 100, 2)"
      ],
      "metadata": {
        "colab": {
          "base_uri": "https://localhost:8080/"
        },
        "id": "CwrlWa4qH7-w",
        "outputId": "c3ce85ef-488f-44b9-d85e-e59abbb7edde"
      },
      "execution_count": null,
      "outputs": [
        {
          "output_type": "execute_result",
          "data": {
            "text/plain": [
              "Unemployed              60.61\n",
              "Working Professional     7.64\n",
              "Student and Others       2.64\n",
              "Name: occupation, dtype: float64"
            ]
          },
          "metadata": {},
          "execution_count": 34
        }
      ]
    },
    {
      "cell_type": "code",
      "source": [
        "df.occupation.value_counts(normalize = True) * 100"
      ],
      "metadata": {
        "colab": {
          "base_uri": "https://localhost:8080/"
        },
        "id": "GDYNjw_KKMnd",
        "outputId": "4a754595-ba5a-45ab-da67-816fb0884303"
      },
      "execution_count": null,
      "outputs": [
        {
          "output_type": "execute_result",
          "data": {
            "text/plain": [
              "Unemployed              85.496183\n",
              "Working Professional    10.778626\n",
              "Student and Others       3.725191\n",
              "Name: occupation, dtype: float64"
            ]
          },
          "metadata": {},
          "execution_count": 35
        }
      ]
    },
    {
      "cell_type": "code",
      "source": [
        "df['occupation'] = df.occupation.fillna(pd.Series(np.random.choice(['Unemployed', 'Working Professional', \n",
        "                                                                    'Student and Others'], \n",
        "                                                                   p = [0.85496183, 0.10778626, 0.03725191], size = len(test))))"
      ],
      "metadata": {
        "id": "_FMi3Ly8IBg2"
      },
      "execution_count": null,
      "outputs": []
    },
    {
      "cell_type": "code",
      "source": [
        "round((df.occupation.value_counts(dropna=False)/ df.occupation.shape[0]) * 100, 2)"
      ],
      "metadata": {
        "colab": {
          "base_uri": "https://localhost:8080/"
        },
        "id": "2dUUc-U0IO_u",
        "outputId": "5e598708-cf17-4436-87c0-2d3e61dde162"
      },
      "execution_count": null,
      "outputs": [
        {
          "output_type": "execute_result",
          "data": {
            "text/plain": [
              "Unemployed              85.36\n",
              "Working Professional    10.71\n",
              "Student and Others       3.93\n",
              "Name: occupation, dtype: float64"
            ]
          },
          "metadata": {},
          "execution_count": 37
        }
      ]
    },
    {
      "cell_type": "markdown",
      "source": [
        "# this is mine"
      ],
      "metadata": {
        "id": "i3ZnaNTx5Dz4"
      }
    },
    {
      "cell_type": "code",
      "source": [
        "df.occupation.isnull().sum()"
      ],
      "metadata": {
        "colab": {
          "base_uri": "https://localhost:8080/"
        },
        "id": "h-vvCbBpIVID",
        "outputId": "e3b66acb-970e-4fa7-e034-3e91d2356b41"
      },
      "execution_count": null,
      "outputs": [
        {
          "output_type": "execute_result",
          "data": {
            "text/plain": [
              "0"
            ]
          },
          "metadata": {},
          "execution_count": 38
        }
      ]
    },
    {
      "cell_type": "code",
      "source": [
        "#Working on Specialization Column\n",
        "round(df.specialization.value_counts(normalize = True, dropna = False) * 100, 2)"
      ],
      "metadata": {
        "colab": {
          "base_uri": "https://localhost:8080/"
        },
        "id": "0FsqGC5yObgV",
        "outputId": "59f27310-6101-48f8-ec0f-7883a338ed30"
      },
      "execution_count": null,
      "outputs": [
        {
          "output_type": "execute_result",
          "data": {
            "text/plain": [
              "NaN                                  36.58\n",
              "Finance Management                   10.56\n",
              "Human Resource Management             9.18\n",
              "Marketing Management                  9.07\n",
              "Operations Management                 5.44\n",
              "Business Administration               4.36\n",
              "IT Projects Management                3.96\n",
              "Supply Chain Management               3.78\n",
              "Banking, Investment And Insurance     3.66\n",
              "Travel and Tourism                    2.20\n",
              "Media and Advertising                 2.20\n",
              "International Business                1.93\n",
              "Healthcare Management                 1.72\n",
              "Hospitality Management                1.23\n",
              "E-COMMERCE                            1.21\n",
              "Retail Management                     1.08\n",
              "Rural and Agribusiness                0.79\n",
              "E-Business                            0.62\n",
              "Services Excellence                   0.43\n",
              "Name: specialization, dtype: float64"
            ]
          },
          "metadata": {},
          "execution_count": 39
        }
      ]
    },
    {
      "cell_type": "code",
      "source": [
        "import seaborn as sns\n",
        "plt.figure(figsize=(40, 4))\n",
        "sns.countplot(x = 'specialization', data = df)"
      ],
      "metadata": {
        "colab": {
          "base_uri": "https://localhost:8080/",
          "height": 196
        },
        "id": "zut6oy_WMkPg",
        "outputId": "3ebce200-6cf7-48ad-af07-3643f1a4d765"
      },
      "execution_count": null,
      "outputs": [
        {
          "output_type": "execute_result",
          "data": {
            "text/plain": [
              "<matplotlib.axes._subplots.AxesSubplot at 0x7fd4d2138fa0>"
            ]
          },
          "metadata": {},
          "execution_count": 40
        },
        {
          "output_type": "display_data",
          "data": {
            "text/plain": [
              "<Figure size 2880x288 with 1 Axes>"
            ],
            "image/png": "[encoded data removed]"
          },
          "metadata": {
            "needs_background": "light"
          }
        }
      ]
    },
    {
      "cell_type": "code",
      "source": [],
      "metadata": {
        "id": "oPlAOS1M_x0J"
      },
      "execution_count": null,
      "outputs": []
    },
    {
      "cell_type": "code",
      "source": [
        "# For specialization, we will first combine categories based on the course type, \n",
        "# and then impute proportionally to maintain the distribution and not introduce bias"
      ],
      "metadata": {
        "id": "rYsGFg2sMnCM"
      },
      "execution_count": null,
      "outputs": []
    },
    {
      "cell_type": "code",
      "source": [
        "#First, Categorizing based on Management\n",
        "df.loc[(df.specialization == 'Finance Management') | (df.specialization == 'Human Resource Management') | \n",
        "       (df.specialization == 'Marketing Management') |  (df.specialization == 'Operations Management') |\n",
        "       (df.specialization == 'IT Projects Management') | (df.specialization == 'Supply Chain Management') |\n",
        "       (df.specialization == 'Healthcare Management') | (df.specialization == 'Hospitality Management') |\n",
        "       (df.specialization == 'Retail Management') , 'specialization'] = 'Management Specializations'"
      ],
      "metadata": {
        "id": "xOTtvRuLMtgE"
      },
      "execution_count": null,
      "outputs": []
    },
    {
      "cell_type": "code",
      "source": [
        "# Categorising on Business Courses\n",
        "df.loc[(df.specialization == 'Business Administration') | (df.specialization == 'International Business') | \n",
        "       (df.specialization == 'Rural and Agribusiness') | (df.specialization == 'E-Business') \n",
        "        , 'specialization'] = 'Business Specializations'"
      ],
      "metadata": {
        "id": "Oj5gDwWYPNeo"
      },
      "execution_count": null,
      "outputs": []
    },
    {
      "cell_type": "code",
      "source": [
        "# Categorising on Industry Courses\n",
        "df.loc[(df.specialization == 'Banking, Investment And Insurance') | (df.specialization == 'Media and Advertising') |\n",
        "       (df.specialization == 'Travel and Tourism') | (df.specialization == 'Services Excellence') |\n",
        "       (df.specialization == 'E-COMMERCE'), 'specialization'] = 'Industry Specializations'\n"
      ],
      "metadata": {
        "id": "2s6lVV7hPaIA"
      },
      "execution_count": null,
      "outputs": []
    },
    {
      "cell_type": "code",
      "source": [
        "plt.figure(figsize=(12, 4))\n",
        "sns.countplot(x = 'specialization', data = df)"
      ],
      "metadata": {
        "colab": {
          "base_uri": "https://localhost:8080/",
          "height": 296
        },
        "id": "rUp9a8YAPsLm",
        "outputId": "e82dd01f-3173-406b-cdc2-e807491509e7"
      },
      "execution_count": null,
      "outputs": [
        {
          "output_type": "execute_result",
          "data": {
            "text/plain": [
              "<matplotlib.axes._subplots.AxesSubplot at 0x7fd4d2183d90>"
            ]
          },
          "metadata": {},
          "execution_count": 45
        },
        {
          "output_type": "display_data",
          "data": {
            "text/plain": [
              "<Figure size 864x288 with 1 Axes>"
            ],
            "image/png": "[encoded data removed]"
          },
          "metadata": {
            "needs_background": "light"
          }
        }
      ]
    },
    {
      "cell_type": "markdown",
      "source": [
        "Observation:\n",
        "* From above plot it can be concluded that maximum count is of Management Specialization course whereas least count is for Business Specialization courses\n"
      ],
      "metadata": {
        "id": "3iaio5veQR3D"
      }
    },
    {
      "cell_type": "code",
      "source": [
        "df.specialization.value_counts(normalize = True) * 100"
      ],
      "metadata": {
        "colab": {
          "base_uri": "https://localhost:8080/"
        },
        "id": "pWSE81OuPw-S",
        "outputId": "11441116-d5e9-4a7c-ca8d-8b1baff038f6"
      },
      "execution_count": null,
      "outputs": [
        {
          "output_type": "execute_result",
          "data": {
            "text/plain": [
              "Management Specializations    72.576792\n",
              "Industry Specializations      15.290102\n",
              "Business Specializations      12.133106\n",
              "Name: specialization, dtype: float64"
            ]
          },
          "metadata": {},
          "execution_count": 46
        }
      ]
    },
    {
      "cell_type": "code",
      "source": [
        "df.specialization = df.specialization.fillna(pd.Series(np.random.choice(['Management Specializations',  \n",
        "                                                    'Business Specializations', 'Industry Specializations'], \n",
        "                                                                   p = [0.7258, 0.1213, 0.1529 ], size = len(df))))"
      ],
      "metadata": {
        "id": "QgdK1MxXQByF"
      },
      "execution_count": null,
      "outputs": []
    },
    {
      "cell_type": "code",
      "source": [
        "df.specialization.isnull().sum()\n",
        "# Null values are eliminated in specialization column"
      ],
      "metadata": {
        "colab": {
          "base_uri": "https://localhost:8080/"
        },
        "id": "wSOURkFHRHO4",
        "outputId": "1b77dee5-c713-4ea4-cd25-ab4700152b14"
      },
      "execution_count": null,
      "outputs": [
        {
          "output_type": "execute_result",
          "data": {
            "text/plain": [
              "0"
            ]
          },
          "metadata": {},
          "execution_count": 48
        }
      ]
    },
    {
      "cell_type": "code",
      "source": [
        "# Working on City Column\n",
        "round(df.city.value_counts(normalize = True, dropna = False) * 100, 2)"
      ],
      "metadata": {
        "colab": {
          "base_uri": "https://localhost:8080/"
        },
        "id": "Gq-r73JERSur",
        "outputId": "ebdeb7f5-0499-4511-c2d6-b6425669f772"
      },
      "execution_count": null,
      "outputs": [
        {
          "output_type": "execute_result",
          "data": {
            "text/plain": [
              "NaN                            39.71\n",
              "Mumbai                         34.87\n",
              "Thane & Outskirts               8.14\n",
              "Other Cities                    7.42\n",
              "Other Cities of Maharashtra     4.95\n",
              "Other Metro Cities              4.11\n",
              "Tier II Cities                  0.80\n",
              "Name: city, dtype: float64"
            ]
          },
          "metadata": {},
          "execution_count": 49
        }
      ]
    },
    {
      "cell_type": "code",
      "source": [
        "plt.figure(figsize=(12, 4))\n",
        "sns.countplot(x = 'city', data = df)"
      ],
      "metadata": {
        "colab": {
          "base_uri": "https://localhost:8080/",
          "height": 296
        },
        "id": "3B2za4_lRqwQ",
        "outputId": "9aba2bd7-ef45-4677-b38d-ce9e054e7cb9"
      },
      "execution_count": null,
      "outputs": [
        {
          "output_type": "execute_result",
          "data": {
            "text/plain": [
              "<matplotlib.axes._subplots.AxesSubplot at 0x7fd4d2060550>"
            ]
          },
          "metadata": {},
          "execution_count": 50
        },
        {
          "output_type": "display_data",
          "data": {
            "text/plain": [
              "<Figure size 864x288 with 1 Axes>"
            ],
            "image/png": "[encoded data removed]"
          },
          "metadata": {
            "needs_background": "light"
          }
        }
      ]
    },
    {
      "cell_type": "code",
      "source": [
        "# categorize all non-mumbai, but Maharashtra cities\n",
        "df.loc[(df.city == 'Thane & Outskirts') | (df.city == 'Other Cities of Maharashtra'), \n",
        "       'city'] = 'Non-Mumbai Maharashtra Cities'"
      ],
      "metadata": {
        "id": "61HnK8feR_XL"
      },
      "execution_count": null,
      "outputs": []
    },
    {
      "cell_type": "code",
      "source": [
        "# categorize all other cities\n",
        "df.loc[(df.city == 'Other Cities') | (df.city == 'Other Metro Cities') | (df.city == 'Tier II Cities') , \n",
        "       'city'] = 'Non-Maharashtra Cities'\n"
      ],
      "metadata": {
        "id": "wpKZhrm8TNt0"
      },
      "execution_count": null,
      "outputs": []
    },
    {
      "cell_type": "code",
      "source": [
        "df.city.value_counts(normalize = True) * 100"
      ],
      "metadata": {
        "colab": {
          "base_uri": "https://localhost:8080/"
        },
        "id": "-wwrsKiwTPKc",
        "outputId": "a9f697d2-4430-4a4a-dbad-0f9741687bc6"
      },
      "execution_count": null,
      "outputs": [
        {
          "output_type": "execute_result",
          "data": {
            "text/plain": [
              "Mumbai                           57.835218\n",
              "Non-Mumbai Maharashtra Cities    21.701669\n",
              "Non-Maharashtra Cities           20.463113\n",
              "Name: city, dtype: float64"
            ]
          },
          "metadata": {},
          "execution_count": 53
        }
      ]
    },
    {
      "cell_type": "code",
      "source": [
        "df['city'] = df.city.fillna(pd.Series(np.random.choice(['Mumbai', 'Non-Mumbai Maharashtra Cities', \n",
        "                                                                    'Non-Maharashtra Cities'], \n",
        "                                                                   p = [0.5784, 0.2170, 0.2046 ], size = len(df))))\n"
      ],
      "metadata": {
        "id": "Je2szBCbTTQI"
      },
      "execution_count": null,
      "outputs": []
    },
    {
      "cell_type": "code",
      "source": [
        "plt.figure(figsize=(12, 4))\n",
        "sns.countplot(x = 'city', data = df)"
      ],
      "metadata": {
        "colab": {
          "base_uri": "https://localhost:8080/",
          "height": 296
        },
        "id": "IS2DYtxGTWq_",
        "outputId": "6eb6e8d4-8f8d-4f7d-b5cf-4b7b9a3384a3"
      },
      "execution_count": null,
      "outputs": [
        {
          "output_type": "execute_result",
          "data": {
            "text/plain": [
              "<matplotlib.axes._subplots.AxesSubplot at 0x7fd4d2060d90>"
            ]
          },
          "metadata": {},
          "execution_count": 55
        },
        {
          "output_type": "display_data",
          "data": {
            "text/plain": [
              "<Figure size 864x288 with 1 Axes>"
            ],
            "image/png": "[encoded data removed]"
          },
          "metadata": {
            "needs_background": "light"
          }
        }
      ]
    },
    {
      "cell_type": "code",
      "source": [
        "df.city.isnull().sum()"
      ],
      "metadata": {
        "colab": {
          "base_uri": "https://localhost:8080/"
        },
        "id": "MU8lVljaTZcW",
        "outputId": "af63abe5-4149-4e3b-f77b-72c335d3bd1b"
      },
      "execution_count": null,
      "outputs": [
        {
          "output_type": "execute_result",
          "data": {
            "text/plain": [
              "0"
            ]
          },
          "metadata": {},
          "execution_count": 56
        }
      ]
    },
    {
      "cell_type": "code",
      "source": [
        "df.shape"
      ],
      "metadata": {
        "colab": {
          "base_uri": "https://localhost:8080/"
        },
        "id": "NiK1PwhFTlRG",
        "outputId": "0f1ded2e-d571-4505-e4a6-58ad1c61956b"
      },
      "execution_count": null,
      "outputs": [
        {
          "output_type": "execute_result",
          "data": {
            "text/plain": [
              "(9240, 24)"
            ]
          },
          "metadata": {},
          "execution_count": 57
        }
      ]
    },
    {
      "cell_type": "code",
      "source": [
        "(df.isnull().sum() / df.shape[0]) * 100"
      ],
      "metadata": {
        "colab": {
          "base_uri": "https://localhost:8080/"
        },
        "id": "4fH0I04uTmEh",
        "outputId": "135406ed-09ce-46aa-f873-129ddec3945f"
      },
      "execution_count": null,
      "outputs": [
        {
          "output_type": "execute_result",
          "data": {
            "text/plain": [
              "lead_number                     0.000000\n",
              "lead_origin                     0.000000\n",
              "lead_source                     0.389610\n",
              "do_not_email                    0.000000\n",
              "do_not_call                     0.000000\n",
              "converted                       0.000000\n",
              "total_visits                    1.482684\n",
              "time_on_website                 0.000000\n",
              "page_views_per_visit            1.482684\n",
              "specialization                  0.000000\n",
              "occupation                      0.000000\n",
              "search                          0.000000\n",
              "magazine                        0.000000\n",
              "newspaper_article               0.000000\n",
              "x_education_forums              0.000000\n",
              "newspaper                       0.000000\n",
              "digital_advertisement           0.000000\n",
              "through_recommendations         0.000000\n",
              "courses_updates                 0.000000\n",
              "supply_chain_content_updates    0.000000\n",
              "dm_content_updates              0.000000\n",
              "city                            0.000000\n",
              "cheque_payment                  0.000000\n",
              "mastering_interview             0.000000\n",
              "dtype: float64"
            ]
          },
          "metadata": {},
          "execution_count": 58
        }
      ]
    },
    {
      "cell_type": "code",
      "source": [
        "# determine unique values for all object datatype columns\n",
        "for k, v in df.select_dtypes(include='object').nunique().to_dict().items():\n",
        "    print('{} = {}'.format(k,v))"
      ],
      "metadata": {
        "colab": {
          "base_uri": "https://localhost:8080/"
        },
        "id": "2Js9eKLATxLf",
        "outputId": "712d839f-f8a1-4cb4-f793-8055cd3fbe97"
      },
      "execution_count": null,
      "outputs": [
        {
          "output_type": "stream",
          "name": "stdout",
          "text": [
            "lead_origin = 5\n",
            "lead_source = 21\n",
            "do_not_email = 2\n",
            "do_not_call = 2\n",
            "specialization = 3\n",
            "occupation = 3\n",
            "search = 2\n",
            "magazine = 1\n",
            "newspaper_article = 2\n",
            "x_education_forums = 2\n",
            "newspaper = 2\n",
            "digital_advertisement = 2\n",
            "through_recommendations = 2\n",
            "courses_updates = 1\n",
            "supply_chain_content_updates = 1\n",
            "dm_content_updates = 1\n",
            "city = 3\n",
            "cheque_payment = 1\n",
            "mastering_interview = 2\n"
          ]
        }
      ]
    },
    {
      "cell_type": "code",
      "source": [
        "# As can be seen from the above output, the categorical columns (i.e. number of unique values > 2) are:\n",
        "# lead_origin\n",
        "# lead_source"
      ],
      "metadata": {
        "id": "SjuQzIWqUYng"
      },
      "execution_count": null,
      "outputs": []
    },
    {
      "cell_type": "code",
      "source": [
        "# Working on lead_origin column\n",
        "df.lead_origin.value_counts(normalize = True, dropna = False) * 100"
      ],
      "metadata": {
        "colab": {
          "base_uri": "https://localhost:8080/"
        },
        "id": "trsqoC12Ukp-",
        "outputId": "234d6b20-1faf-4548-ecf3-99502338813d"
      },
      "execution_count": null,
      "outputs": [
        {
          "output_type": "execute_result",
          "data": {
            "text/plain": [
              "Landing Page Submission    52.878788\n",
              "API                        38.744589\n",
              "Lead Add Form               7.770563\n",
              "Lead Import                 0.595238\n",
              "Quick Add Form              0.010823\n",
              "Name: lead_origin, dtype: float64"
            ]
          },
          "metadata": {},
          "execution_count": 61
        }
      ]
    },
    {
      "cell_type": "code",
      "source": [
        "plt.figure(figsize=(12, 4))\n",
        "sns.countplot(x = 'lead_origin', data = df)"
      ],
      "metadata": {
        "colab": {
          "base_uri": "https://localhost:8080/",
          "height": 297
        },
        "id": "TvM0JZeuU2rH",
        "outputId": "84a22d03-efb4-44da-8302-cb4aa2d6046c"
      },
      "execution_count": null,
      "outputs": [
        {
          "output_type": "execute_result",
          "data": {
            "text/plain": [
              "<matplotlib.axes._subplots.AxesSubplot at 0x7fd4d1eef2b0>"
            ]
          },
          "metadata": {},
          "execution_count": 62
        },
        {
          "output_type": "display_data",
          "data": {
            "text/plain": [
              "<Figure size 864x288 with 1 Axes>"
            ],
            "image/png": "[encoded data removed]"
          },
          "metadata": {
            "needs_background": "light"
          }
        }
      ]
    },
    {
      "cell_type": "code",
      "source": [
        "# Combining the columns with lower percentage\n",
        "df.loc[(df.lead_origin == 'Lead Import') | (df.lead_origin == 'Quick Add Form') | (df.lead_origin == 'Lead Add Form')\n",
        "       , 'lead_origin'] = 'Lead Add Form and Others'"
      ],
      "metadata": {
        "id": "lMqZ7b2fU8L7"
      },
      "execution_count": null,
      "outputs": []
    },
    {
      "cell_type": "code",
      "source": [
        "df.lead_origin.isnull().sum()\n",
        "#No Null values present"
      ],
      "metadata": {
        "colab": {
          "base_uri": "https://localhost:8080/"
        },
        "id": "FyqFWpX1VWQy",
        "outputId": "9b13e50f-a6d6-4d71-a3f2-d380eed9ab53"
      },
      "execution_count": null,
      "outputs": [
        {
          "output_type": "execute_result",
          "data": {
            "text/plain": [
              "0"
            ]
          },
          "metadata": {},
          "execution_count": 64
        }
      ]
    },
    {
      "cell_type": "code",
      "source": [
        "plt.figure(figsize=(12, 4))\n",
        "sns.countplot(x = 'lead_origin', data = df)\n",
        "#Combined the leads as API, LandingPage Sub,ission lead_origin and Lead Add Form and Others"
      ],
      "metadata": {
        "colab": {
          "base_uri": "https://localhost:8080/",
          "height": 297
        },
        "id": "CKvI0LLZVnsQ",
        "outputId": "338d7b80-020a-4896-da32-4a85830e142f"
      },
      "execution_count": null,
      "outputs": [
        {
          "output_type": "execute_result",
          "data": {
            "text/plain": [
              "<matplotlib.axes._subplots.AxesSubplot at 0x7fd4d1e9a220>"
            ]
          },
          "metadata": {},
          "execution_count": 65
        },
        {
          "output_type": "display_data",
          "data": {
            "text/plain": [
              "<Figure size 864x288 with 1 Axes>"
            ],
            "image/png": "[encoded data removed]"
          },
          "metadata": {
            "needs_background": "light"
          }
        }
      ]
    },
    {
      "cell_type": "markdown",
      "source": [
        "Succesfully Combined"
      ],
      "metadata": {
        "id": "em_DZyRyVzd4"
      }
    },
    {
      "cell_type": "code",
      "source": [
        "# Working with the 'lead_source' column\n",
        "df.lead_source.value_counts(normalize = True, dropna = False) * 100"
      ],
      "metadata": {
        "colab": {
          "base_uri": "https://localhost:8080/"
        },
        "id": "uSU_CXyCVqRv",
        "outputId": "3470c50f-d483-4afc-e66e-5a6f1e8ad855"
      },
      "execution_count": null,
      "outputs": [
        {
          "output_type": "execute_result",
          "data": {
            "text/plain": [
              "Google               31.038961\n",
              "Direct Traffic       27.521645\n",
              "Olark Chat           18.993506\n",
              "Organic Search       12.489177\n",
              "Reference             5.779221\n",
              "Welingak Website      1.536797\n",
              "Referral Sites        1.352814\n",
              "Facebook              0.595238\n",
              "NaN                   0.389610\n",
              "bing                  0.064935\n",
              "google                0.054113\n",
              "Click2call            0.043290\n",
              "Press_Release         0.021645\n",
              "Social Media          0.021645\n",
              "Live Chat             0.021645\n",
              "youtubechannel        0.010823\n",
              "testone               0.010823\n",
              "Pay per Click Ads     0.010823\n",
              "welearnblog_Home      0.010823\n",
              "WeLearn               0.010823\n",
              "blog                  0.010823\n",
              "NC_EDM                0.010823\n",
              "Name: lead_source, dtype: float64"
            ]
          },
          "metadata": {},
          "execution_count": 66
        }
      ]
    },
    {
      "cell_type": "code",
      "source": [
        "plt.figure(figsize=(40, 4))\n",
        "sns.countplot(x = 'lead_source', data = df)"
      ],
      "metadata": {
        "colab": {
          "base_uri": "https://localhost:8080/",
          "height": 199
        },
        "id": "8IuuOWqLV5eE",
        "outputId": "d87528ab-006a-4cef-fabd-7fc45b52461c"
      },
      "execution_count": null,
      "outputs": [
        {
          "output_type": "execute_result",
          "data": {
            "text/plain": [
              "<matplotlib.axes._subplots.AxesSubplot at 0x7fd4d1e74550>"
            ]
          },
          "metadata": {},
          "execution_count": 67
        },
        {
          "output_type": "display_data",
          "data": {
            "text/plain": [
              "<Figure size 2880x288 with 1 Axes>"
            ],
            "image/png": "[encoded data removed]"
          },
          "metadata": {
            "needs_background": "light"
          }
        }
      ]
    },
    {
      "cell_type": "code",
      "source": [
        "#Checking for the mode value from the data\n",
        "df.lead_source.mode()"
      ],
      "metadata": {
        "colab": {
          "base_uri": "https://localhost:8080/"
        },
        "id": "mkEODEwYWni7",
        "outputId": "c4f71624-31d2-4071-c41d-bcae8ebb7b39"
      },
      "execution_count": null,
      "outputs": [
        {
          "output_type": "execute_result",
          "data": {
            "text/plain": [
              "0    Google\n",
              "dtype: object"
            ]
          },
          "metadata": {},
          "execution_count": 68
        }
      ]
    },
    {
      "cell_type": "code",
      "source": [
        "#Imputing missing values with mode if the data that is mode.\n",
        "df.lead_source.fillna(df.lead_source.mode()[0], inplace=True)"
      ],
      "metadata": {
        "id": "2gWLSx-SYbNz"
      },
      "execution_count": null,
      "outputs": []
    },
    {
      "cell_type": "code",
      "source": [
        "df.lead_source.value_counts()"
      ],
      "metadata": {
        "colab": {
          "base_uri": "https://localhost:8080/"
        },
        "id": "YfM9_pq6Y7ud",
        "outputId": "f2bbdba3-0799-4433-fd50-e4052593ff16"
      },
      "execution_count": null,
      "outputs": [
        {
          "output_type": "execute_result",
          "data": {
            "text/plain": [
              "Google               2904\n",
              "Direct Traffic       2543\n",
              "Olark Chat           1755\n",
              "Organic Search       1154\n",
              "Reference             534\n",
              "Welingak Website      142\n",
              "Referral Sites        125\n",
              "Facebook               55\n",
              "bing                    6\n",
              "google                  5\n",
              "Click2call              4\n",
              "Press_Release           2\n",
              "Social Media            2\n",
              "Live Chat               2\n",
              "youtubechannel          1\n",
              "testone                 1\n",
              "Pay per Click Ads       1\n",
              "welearnblog_Home        1\n",
              "WeLearn                 1\n",
              "blog                    1\n",
              "NC_EDM                  1\n",
              "Name: lead_source, dtype: int64"
            ]
          },
          "metadata": {},
          "execution_count": 71
        }
      ]
    },
    {
      "cell_type": "code",
      "source": [
        "df.loc[(df.lead_source == 'Welingak Website') | (df.lead_source == 'Referral Sites') | \n",
        "       (df.lead_source == 'Facebook') |  (df.lead_source == 'bing') |\n",
        "       (df.lead_source == 'google') | (df.lead_source == 'Click2call') |\n",
        "       (df.lead_source == 'Press_Release') | (df.lead_source == 'Social Media') |\n",
        "       (df.lead_source == 'Live Chat') | (df.lead_source == 'youtubechannel') |\n",
        "       (df.lead_source == 'testone') | (df.lead_source == 'Pay per Click Ads') |\n",
        "       (df.lead_source == 'welearnblog_Home') | (df.lead_source == 'WeLearn') |\n",
        "       (df.lead_source == 'blog') | (df.lead_source == 'NC_EDM') , 'lead_source'] = 'Other Social Sites'"
      ],
      "metadata": {
        "id": "mBa09TLVXSaI"
      },
      "execution_count": null,
      "outputs": []
    },
    {
      "cell_type": "code",
      "source": [
        "plt.figure(figsize=(40, 4))\n",
        "sns.countplot(x = 'lead_source', data = df)\n",
        "#Combining the lead sources"
      ],
      "metadata": {
        "colab": {
          "base_uri": "https://localhost:8080/",
          "height": 197
        },
        "id": "d-HH2KO0Z3o2",
        "outputId": "31a6e2ff-b19f-4d79-dabc-38bff581d72c"
      },
      "execution_count": null,
      "outputs": [
        {
          "output_type": "execute_result",
          "data": {
            "text/plain": [
              "<matplotlib.axes._subplots.AxesSubplot at 0x7fd4d1d86160>"
            ]
          },
          "metadata": {},
          "execution_count": 73
        },
        {
          "output_type": "display_data",
          "data": {
            "text/plain": [
              "<Figure size 2880x288 with 1 Axes>"
            ],
            "image/png": "[encoded data removed]"
          },
          "metadata": {
            "needs_background": "light"
          }
        }
      ]
    },
    {
      "cell_type": "markdown",
      "source": [
        "# Handling Binary Column\n"
      ],
      "metadata": {
        "id": "U45nRiUkaym7"
      }
    },
    {
      "cell_type": "code",
      "source": [
        "# determine unique values\n",
        "for k, v in df.select_dtypes(include='object').nunique().to_dict().items():\n",
        "    print('{} = {}'.format(k,v))"
      ],
      "metadata": {
        "colab": {
          "base_uri": "https://localhost:8080/"
        },
        "id": "K1qVs80kZ7TU",
        "outputId": "c0c0c7ee-5b4e-40d6-d8de-746b4a56b7cc"
      },
      "execution_count": null,
      "outputs": [
        {
          "output_type": "stream",
          "name": "stdout",
          "text": [
            "lead_origin = 3\n",
            "lead_source = 6\n",
            "do_not_email = 2\n",
            "do_not_call = 2\n",
            "specialization = 3\n",
            "occupation = 3\n",
            "search = 2\n",
            "magazine = 1\n",
            "newspaper_article = 2\n",
            "x_education_forums = 2\n",
            "newspaper = 2\n",
            "digital_advertisement = 2\n",
            "through_recommendations = 2\n",
            "courses_updates = 1\n",
            "supply_chain_content_updates = 1\n",
            "dm_content_updates = 1\n",
            "city = 3\n",
            "cheque_payment = 1\n",
            "mastering_interview = 2\n"
          ]
        }
      ]
    },
    {
      "cell_type": "code",
      "source": [
        "#Observation:\n",
        "# Columns having 1 values can be dropped."
      ],
      "metadata": {
        "id": "XJz4aVWVast5"
      },
      "execution_count": null,
      "outputs": []
    },
    {
      "cell_type": "code",
      "source": [
        "test_df = df[['do_not_email', 'do_not_call', 'search', 'newspaper_article', 'x_education_forums', \n",
        "           'newspaper', 'digital_advertisement', 'through_recommendations', 'mastering_interview']]\n",
        "\n",
        "for i in test_df.columns:\n",
        "  var = (test_df[i].value_counts(normalize = True)) * 100\n",
        "  print(var)"
      ],
      "metadata": {
        "colab": {
          "base_uri": "https://localhost:8080/"
        },
        "id": "LE4-mTvhbcm1",
        "outputId": "31fdb967-dac6-4ccf-ffc1-536078effb5c"
      },
      "execution_count": null,
      "outputs": [
        {
          "output_type": "stream",
          "name": "stdout",
          "text": [
            "No     92.056277\n",
            "Yes     7.943723\n",
            "Name: do_not_email, dtype: float64\n",
            "No     99.978355\n",
            "Yes     0.021645\n",
            "Name: do_not_call, dtype: float64\n",
            "No     99.848485\n",
            "Yes     0.151515\n",
            "Name: search, dtype: float64\n",
            "No     99.978355\n",
            "Yes     0.021645\n",
            "Name: newspaper_article, dtype: float64\n",
            "No     99.989177\n",
            "Yes     0.010823\n",
            "Name: x_education_forums, dtype: float64\n",
            "No     99.989177\n",
            "Yes     0.010823\n",
            "Name: newspaper, dtype: float64\n",
            "No     99.95671\n",
            "Yes     0.04329\n",
            "Name: digital_advertisement, dtype: float64\n",
            "No     99.924242\n",
            "Yes     0.075758\n",
            "Name: through_recommendations, dtype: float64\n",
            "No     68.744589\n",
            "Yes    31.255411\n",
            "Name: mastering_interview, dtype: float64\n"
          ]
        }
      ]
    },
    {
      "cell_type": "code",
      "source": [
        "# Dropping Binary values having Biased data\n",
        "drop_cols = ['do_not_call', 'search', 'newspaper_article', 'x_education_forums', \n",
        "           'newspaper', 'digital_advertisement', 'through_recommendations', 'magazine', 'courses_updates', \n",
        "           'supply_chain_content_updates', 'dm_content_updates', 'cheque_payment']\n",
        "df.drop(drop_cols, axis = 1, inplace=True)"
      ],
      "metadata": {
        "id": "XzZ-JJ2pcim_"
      },
      "execution_count": null,
      "outputs": []
    },
    {
      "cell_type": "code",
      "source": [
        "df.shape"
      ],
      "metadata": {
        "colab": {
          "base_uri": "https://localhost:8080/"
        },
        "id": "Gz53bK10deKX",
        "outputId": "00590fc3-5e9f-4b7a-d50d-6ac568db13c8"
      },
      "execution_count": null,
      "outputs": [
        {
          "output_type": "execute_result",
          "data": {
            "text/plain": [
              "(9240, 12)"
            ]
          },
          "metadata": {},
          "execution_count": 78
        }
      ]
    },
    {
      "cell_type": "markdown",
      "source": [
        "# Handling numerical Columns"
      ],
      "metadata": {
        "id": "smQ5BsToegmj"
      }
    },
    {
      "cell_type": "code",
      "source": [
        "# Checking for the Null Values\n",
        "df.isnull().sum()"
      ],
      "metadata": {
        "colab": {
          "base_uri": "https://localhost:8080/"
        },
        "id": "tJEQg8kAdnVl",
        "outputId": "7ebf96e2-ab7a-4db3-eb46-80c1c54309f0"
      },
      "execution_count": null,
      "outputs": [
        {
          "output_type": "execute_result",
          "data": {
            "text/plain": [
              "lead_number               0\n",
              "lead_origin               0\n",
              "lead_source               0\n",
              "do_not_email              0\n",
              "converted                 0\n",
              "total_visits            137\n",
              "time_on_website           0\n",
              "page_views_per_visit    137\n",
              "specialization            0\n",
              "occupation                0\n",
              "city                      0\n",
              "mastering_interview       0\n",
              "dtype: int64"
            ]
          },
          "metadata": {},
          "execution_count": 79
        }
      ]
    },
    {
      "cell_type": "code",
      "source": [
        "#Handeling missing values of total_visits\n",
        "df.total_visits.fillna(df.total_visits.median(), inplace=True)"
      ],
      "metadata": {
        "id": "tS1psNuuepbS"
      },
      "execution_count": null,
      "outputs": []
    },
    {
      "cell_type": "code",
      "source": [
        "#Handeling missing values of page_views_per_visit\n",
        "df.page_views_per_visit.fillna(df.page_views_per_visit.median(), inplace=True)"
      ],
      "metadata": {
        "id": "XBxms8ZJfmbq"
      },
      "execution_count": null,
      "outputs": []
    },
    {
      "cell_type": "code",
      "source": [
        "df.isnull().sum()\n",
        "#Succesfully handelled all the missing values"
      ],
      "metadata": {
        "colab": {
          "base_uri": "https://localhost:8080/"
        },
        "id": "3ORisv6efyIN",
        "outputId": "f30d269b-83e5-4c68-8231-d98c410b4583"
      },
      "execution_count": null,
      "outputs": [
        {
          "output_type": "execute_result",
          "data": {
            "text/plain": [
              "lead_number             0\n",
              "lead_origin             0\n",
              "lead_source             0\n",
              "do_not_email            0\n",
              "converted               0\n",
              "total_visits            0\n",
              "time_on_website         0\n",
              "page_views_per_visit    0\n",
              "specialization          0\n",
              "occupation              0\n",
              "city                    0\n",
              "mastering_interview     0\n",
              "dtype: int64"
            ]
          },
          "metadata": {},
          "execution_count": 82
        }
      ]
    },
    {
      "cell_type": "code",
      "source": [
        "df.info('all')"
      ],
      "metadata": {
        "colab": {
          "base_uri": "https://localhost:8080/"
        },
        "id": "f84aZCd2f5s6",
        "outputId": "1bb28e38-c8e4-4894-bf74-e420b0b7415b"
      },
      "execution_count": null,
      "outputs": [
        {
          "output_type": "stream",
          "name": "stdout",
          "text": [
            "<class 'pandas.core.frame.DataFrame'>\n",
            "RangeIndex: 9240 entries, 0 to 9239\n",
            "Data columns (total 12 columns):\n",
            " #   Column                Non-Null Count  Dtype  \n",
            "---  ------                --------------  -----  \n",
            " 0   lead_number           9240 non-null   int64  \n",
            " 1   lead_origin           9240 non-null   object \n",
            " 2   lead_source           9240 non-null   object \n",
            " 3   do_not_email          9240 non-null   object \n",
            " 4   converted             9240 non-null   int64  \n",
            " 5   total_visits          9240 non-null   float64\n",
            " 6   time_on_website       9240 non-null   int64  \n",
            " 7   page_views_per_visit  9240 non-null   float64\n",
            " 8   specialization        9240 non-null   object \n",
            " 9   occupation            9240 non-null   object \n",
            " 10  city                  9240 non-null   object \n",
            " 11  mastering_interview   9240 non-null   object \n",
            "dtypes: float64(2), int64(3), object(7)\n",
            "memory usage: 866.4+ KB\n"
          ]
        }
      ]
    },
    {
      "cell_type": "markdown",
      "source": [
        "# EDA [Exploratory Data Analysis]"
      ],
      "metadata": {
        "id": "iOn23tzwgY7k"
      }
    },
    {
      "cell_type": "code",
      "source": [
        "#Checking for correlation\n",
        "plt.figure(figsize = (8,8))\n",
        "sns.heatmap(df[['total_visits', 'time_on_website', 'page_views_per_visit']].corr(), annot = True)\n",
        "plt.show()"
      ],
      "metadata": {
        "colab": {
          "base_uri": "https://localhost:8080/",
          "height": 488
        },
        "id": "ODpGSPvRgOZe",
        "outputId": "436843b7-72cd-44c8-da76-ccfc5fc82c7f"
      },
      "execution_count": null,
      "outputs": [
        {
          "output_type": "display_data",
          "data": {
            "text/plain": [
              "<Figure size 576x576 with 2 Axes>"
            ],
            "image/png": "[encoded data removed]"
          },
          "metadata": {
            "needs_background": "light"
          }
        }
      ]
    },
    {
      "cell_type": "markdown",
      "source": [
        "Observation:\n",
        "* No Major correlation"
      ],
      "metadata": {
        "id": "lSiHKXrAhPu8"
      }
    },
    {
      "cell_type": "code",
      "source": [
        "plt.figure(figsize = (10, 14))\n",
        "\n",
        "plt.subplot(3,1,1)\n",
        "sns.boxplot(df.total_visits)\n",
        "\n",
        "plt.subplot(3,1,2)\n",
        "sns.boxplot(df.time_on_website)\n",
        "\n",
        "plt.subplot(3,1,3)\n",
        "sns.boxplot(df.page_views_per_visit)\n",
        "plt.show()"
      ],
      "metadata": {
        "colab": {
          "base_uri": "https://localhost:8080/",
          "height": 948
        },
        "id": "yuCgFWmogiPC",
        "outputId": "3d8543e7-0874-4457-c1fc-b4ca4814c898"
      },
      "execution_count": null,
      "outputs": [
        {
          "output_type": "stream",
          "name": "stderr",
          "text": [
            "/usr/local/lib/python3.8/dist-packages/seaborn/_decorators.py:36: FutureWarning: Pass the following variable as a keyword arg: x. From version 0.12, the only valid positional argument will be `data`, and passing other arguments without an explicit keyword will result in an error or misinterpretation.\n",
            "  warnings.warn(\n",
            "/usr/local/lib/python3.8/dist-packages/seaborn/_decorators.py:36: FutureWarning: Pass the following variable as a keyword arg: x. From version 0.12, the only valid positional argument will be `data`, and passing other arguments without an explicit keyword will result in an error or misinterpretation.\n",
            "  warnings.warn(\n",
            "/usr/local/lib/python3.8/dist-packages/seaborn/_decorators.py:36: FutureWarning: Pass the following variable as a keyword arg: x. From version 0.12, the only valid positional argument will be `data`, and passing other arguments without an explicit keyword will result in an error or misinterpretation.\n",
            "  warnings.warn(\n"
          ]
        },
        {
          "output_type": "display_data",
          "data": {
            "text/plain": [
              "<Figure size 720x1008 with 3 Axes>"
            ],
            "image/png": "[encoded data removed]"
          },
          "metadata": {
            "needs_background": "light"
          }
        }
      ]
    },
    {
      "cell_type": "markdown",
      "source": [
        "Observation :\n",
        "* Looking at both the box plots and the statistics, there are upper bound outliers in both total_visits and page_views_per_visit columns.\n"
      ],
      "metadata": {
        "id": "MitDDidXhb3H"
      }
    },
    {
      "cell_type": "code",
      "source": [
        "plt.figure(figsize = (10, 14))\n",
        "fig = plt.figure(figsize = (14, 10))\n",
        "plt.subplot(2, 2, 1)\n",
        "plt.hist(df.total_visits, bins = 20)\n",
        "plt.title('Total website visits')\n",
        "\n",
        "plt.subplot(2, 2, 2)\n",
        "plt.hist(df.time_on_website, bins = 20)\n",
        "plt.title('Time spent on website')\n",
        "\n",
        "plt.subplot(2, 2, 3)\n",
        "plt.hist(df.page_views_per_visit, bins = 20)\n",
        "plt.title('Average number of page views per visit')\n",
        "\n",
        "plt.show()\n"
      ],
      "metadata": {
        "colab": {
          "base_uri": "https://localhost:8080/",
          "height": 624
        },
        "id": "r9029AQfhNm9",
        "outputId": "73fab11f-9584-446a-8570-7be0dfade1c1"
      },
      "execution_count": null,
      "outputs": [
        {
          "output_type": "display_data",
          "data": {
            "text/plain": [
              "<Figure size 720x1008 with 0 Axes>"
            ]
          },
          "metadata": {}
        },
        {
          "output_type": "display_data",
          "data": {
            "text/plain": [
              "<Figure size 1008x720 with 3 Axes>"
            ],
            "image/png": "[encoded data removed]"
          },
          "metadata": {
            "needs_background": "light"
          }
        }
      ]
    },
    {
      "cell_type": "markdown",
      "source": [
        "Observation:\n",
        "1. The total website visit is maximum in the range of 0 to 25\n",
        "2. The maximum time spent on website is highest in the range from 0 -100 which is gradually decreasing with time\n",
        "3. The Average number of page visit per day is max at 0 wheras there is a half way drop in the range approx between 2-3 & than gradually decreasing\n"
      ],
      "metadata": {
        "id": "fWyzSkrpjmCP"
      }
    },
    {
      "cell_type": "markdown",
      "source": [
        "# Handeling Categorical Data"
      ],
      "metadata": {
        "id": "X0rb5qoHmMKK"
      }
    },
    {
      "cell_type": "code",
      "source": [
        "# determine unique values\n",
        "for k, v in df.select_dtypes(include='object').nunique().to_dict().items():\n",
        "    print('{} = {}'.format(k,v))"
      ],
      "metadata": {
        "colab": {
          "base_uri": "https://localhost:8080/"
        },
        "id": "nGXx2St-h5-s",
        "outputId": "a34f4d9e-264b-490c-bf68-2e116f0148db"
      },
      "execution_count": null,
      "outputs": [
        {
          "output_type": "stream",
          "name": "stdout",
          "text": [
            "lead_origin = 3\n",
            "lead_source = 6\n",
            "do_not_email = 2\n",
            "specialization = 3\n",
            "occupation = 3\n",
            "city = 3\n",
            "mastering_interview = 2\n"
          ]
        }
      ]
    },
    {
      "cell_type": "code",
      "source": [
        "df.mastering_interview.value_counts()"
      ],
      "metadata": {
        "colab": {
          "base_uri": "https://localhost:8080/"
        },
        "id": "dCac3MLonVQN",
        "outputId": "51aa7266-00f5-4daf-99de-177f5797db97"
      },
      "execution_count": null,
      "outputs": [
        {
          "output_type": "execute_result",
          "data": {
            "text/plain": [
              "No     6352\n",
              "Yes    2888\n",
              "Name: mastering_interview, dtype: int64"
            ]
          },
          "metadata": {},
          "execution_count": 88
        }
      ]
    },
    {
      "cell_type": "code",
      "source": [
        "#Considering columns having 2 uique values\n",
        "df_test = ['do_not_email', 'mastering_interview']\n",
        "for i in df_test:\n",
        "      df[i] = df[i].replace({'Yes': 1, 'No': 0})"
      ],
      "metadata": {
        "id": "o68jy-c7iEyH"
      },
      "execution_count": null,
      "outputs": []
    },
    {
      "cell_type": "code",
      "source": [
        "df.head()"
      ],
      "metadata": {
        "colab": {
          "base_uri": "https://localhost:8080/",
          "height": 337
        },
        "id": "VGWqPHPinako",
        "outputId": "6bef7e17-8717-46f5-a23c-d03dedef42c6"
      },
      "execution_count": null,
      "outputs": [
        {
          "output_type": "execute_result",
          "data": {
            "text/plain": [
              "   lead_number              lead_origin     lead_source  do_not_email  \\\n",
              "0       660737                      API      Olark Chat             0   \n",
              "1       660728                      API  Organic Search             0   \n",
              "2       660727  Landing Page Submission  Direct Traffic             0   \n",
              "3       660719  Landing Page Submission  Direct Traffic             0   \n",
              "4       660681  Landing Page Submission          Google             0   \n",
              "\n",
              "   converted  total_visits  time_on_website  page_views_per_visit  \\\n",
              "0          0           0.0                0                   0.0   \n",
              "1          0           5.0              674                   2.5   \n",
              "2          1           2.0             1532                   2.0   \n",
              "3          0           1.0              305                   1.0   \n",
              "4          1           2.0             1428                   1.0   \n",
              "\n",
              "               specialization          occupation    city  mastering_interview  \n",
              "0  Management Specializations          Unemployed  Mumbai                    0  \n",
              "1  Management Specializations          Unemployed  Mumbai                    0  \n",
              "2    Business Specializations  Student and Others  Mumbai                    1  \n",
              "3    Industry Specializations          Unemployed  Mumbai                    0  \n",
              "4  Management Specializations          Unemployed  Mumbai                    0  "
            ],
            "text/html": [
              "\n",
              "  <div id=\"df-2d786434-3a16-464f-b907-5dc4c15a2da0\">\n",
              "    <div class=\"colab-df-container\">\n",
              "      <div>\n",
              "<style scoped>\n",
              "    .dataframe tbody tr th:only-of-type {\n",
              "        vertical-align: middle;\n",
              "    }\n",
              "\n",
              "    .dataframe tbody tr th {\n",
              "        vertical-align: top;\n",
              "    }\n",
              "\n",
              "    .dataframe thead th {\n",
              "        text-align: right;\n",
              "    }\n",
              "</style>\n",
              "<table border=\"1\" class=\"dataframe\">\n",
              "  <thead>\n",
              "    <tr style=\"text-align: right;\">\n",
              "      <th></th>\n",
              "      <th>lead_number</th>\n",
              "      <th>lead_origin</th>\n",
              "      <th>lead_source</th>\n",
              "      <th>do_not_email</th>\n",
              "      <th>converted</th>\n",
              "      <th>total_visits</th>\n",
              "      <th>time_on_website</th>\n",
              "      <th>page_views_per_visit</th>\n",
              "      <th>specialization</th>\n",
              "      <th>occupation</th>\n",
              "      <th>city</th>\n",
              "      <th>mastering_interview</th>\n",
              "    </tr>\n",
              "  </thead>\n",
              "  <tbody>\n",
              "    <tr>\n",
              "      <th>0</th>\n",
              "      <td>660737</td>\n",
              "      <td>API</td>\n",
              "      <td>Olark Chat</td>\n",
              "      <td>0</td>\n",
              "      <td>0</td>\n",
              "      <td>0.0</td>\n",
              "      <td>0</td>\n",
              "      <td>0.0</td>\n",
              "      <td>Management Specializations</td>\n",
              "      <td>Unemployed</td>\n",
              "      <td>Mumbai</td>\n",
              "      <td>0</td>\n",
              "    </tr>\n",
              "    <tr>\n",
              "      <th>1</th>\n",
              "      <td>660728</td>\n",
              "      <td>API</td>\n",
              "      <td>Organic Search</td>\n",
              "      <td>0</td>\n",
              "      <td>0</td>\n",
              "      <td>5.0</td>\n",
              "      <td>674</td>\n",
              "      <td>2.5</td>\n",
              "      <td>Management Specializations</td>\n",
              "      <td>Unemployed</td>\n",
              "      <td>Mumbai</td>\n",
              "      <td>0</td>\n",
              "    </tr>\n",
              "    <tr>\n",
              "      <th>2</th>\n",
              "      <td>660727</td>\n",
              "      <td>Landing Page Submission</td>\n",
              "      <td>Direct Traffic</td>\n",
              "      <td>0</td>\n",
              "      <td>1</td>\n",
              "      <td>2.0</td>\n",
              "      <td>1532</td>\n",
              "      <td>2.0</td>\n",
              "      <td>Business Specializations</td>\n",
              "      <td>Student and Others</td>\n",
              "      <td>Mumbai</td>\n",
              "      <td>1</td>\n",
              "    </tr>\n",
              "    <tr>\n",
              "      <th>3</th>\n",
              "      <td>660719</td>\n",
              "      <td>Landing Page Submission</td>\n",
              "      <td>Direct Traffic</td>\n",
              "      <td>0</td>\n",
              "      <td>0</td>\n",
              "      <td>1.0</td>\n",
              "      <td>305</td>\n",
              "      <td>1.0</td>\n",
              "      <td>Industry Specializations</td>\n",
              "      <td>Unemployed</td>\n",
              "      <td>Mumbai</td>\n",
              "      <td>0</td>\n",
              "    </tr>\n",
              "    <tr>\n",
              "      <th>4</th>\n",
              "      <td>660681</td>\n",
              "      <td>Landing Page Submission</td>\n",
              "      <td>Google</td>\n",
              "      <td>0</td>\n",
              "      <td>1</td>\n",
              "      <td>2.0</td>\n",
              "      <td>1428</td>\n",
              "      <td>1.0</td>\n",
              "      <td>Management Specializations</td>\n",
              "      <td>Unemployed</td>\n",
              "      <td>Mumbai</td>\n",
              "      <td>0</td>\n",
              "    </tr>\n",
              "  </tbody>\n",
              "</table>\n",
              "</div>\n",
              "      <button class=\"colab-df-convert\" onclick=\"convertToInteractive('df-2d786434-3a16-464f-b907-5dc4c15a2da0')\"\n",
              "              title=\"Convert this dataframe to an interactive table.\"\n",
              "              style=\"display:none;\">\n",
              "        \n",
              "  <svg xmlns=\"http://www.w3.org/2000/svg\" height=\"24px\"viewBox=\"0 0 24 24\"\n",
              "       width=\"24px\">\n",
              "    <path d=\"M0 0h24v24H0V0z\" fill=\"none\"/>\n",
              "    <path d=\"M18.56 5.44l.94 2.06.94-2.06 2.06-.94-2.06-.94-.94-2.06-.94 2.06-2.06.94zm-11 1L8.5 8.5l.94-2.06 2.06-.94-2.06-.94L8.5 2.5l-.94 2.06-2.06.94zm10 10l.94 2.06.94-2.06 2.06-.94-2.06-.94-.94-2.06-.94 2.06-2.06.94z\"/><path d=\"M17.41 7.96l-1.37-1.37c-.4-.4-.92-.59-1.43-.59-.52 0-1.04.2-1.43.59L10.3 9.45l-7.72 7.72c-.78.78-.78 2.05 0 2.83L4 21.41c.39.39.9.59 1.41.59.51 0 1.02-.2 1.41-.59l7.78-7.78 2.81-2.81c.8-.78.8-2.07 0-2.86zM5.41 20L4 18.59l7.72-7.72 1.47 1.35L5.41 20z\"/>\n",
              "  </svg>\n",
              "      </button>\n",
              "      \n",
              "  <style>\n",
              "    .colab-df-container {\n",
              "      display:flex;\n",
              "      flex-wrap:wrap;\n",
              "      gap: 12px;\n",
              "    }\n",
              "\n",
              "    .colab-df-convert {\n",
              "      background-color: #E8F0FE;\n",
              "      border: none;\n",
              "      border-radius: 50%;\n",
              "      cursor: pointer;\n",
              "      display: none;\n",
              "      fill: #1967D2;\n",
              "      height: 32px;\n",
              "      padding: 0 0 0 0;\n",
              "      width: 32px;\n",
              "    }\n",
              "\n",
              "    .colab-df-convert:hover {\n",
              "      background-color: #E2EBFA;\n",
              "      box-shadow: 0px 1px 2px rgba(60, 64, 67, 0.3), 0px 1px 3px 1px rgba(60, 64, 67, 0.15);\n",
              "      fill: #174EA6;\n",
              "    }\n",
              "\n",
              "    [theme=dark] .colab-df-convert {\n",
              "      background-color: #3B4455;\n",
              "      fill: #D2E3FC;\n",
              "    }\n",
              "\n",
              "    [theme=dark] .colab-df-convert:hover {\n",
              "      background-color: #434B5C;\n",
              "      box-shadow: 0px 1px 3px 1px rgba(0, 0, 0, 0.15);\n",
              "      filter: drop-shadow(0px 1px 2px rgba(0, 0, 0, 0.3));\n",
              "      fill: #FFFFFF;\n",
              "    }\n",
              "  </style>\n",
              "\n",
              "      <script>\n",
              "        const buttonEl =\n",
              "          document.querySelector('#df-2d786434-3a16-464f-b907-5dc4c15a2da0 button.colab-df-convert');\n",
              "        buttonEl.style.display =\n",
              "          google.colab.kernel.accessAllowed ? 'block' : 'none';\n",
              "\n",
              "        async function convertToInteractive(key) {\n",
              "          const element = document.querySelector('#df-2d786434-3a16-464f-b907-5dc4c15a2da0');\n",
              "          const dataTable =\n",
              "            await google.colab.kernel.invokeFunction('convertToInteractive',\n",
              "                                                     [key], {});\n",
              "          if (!dataTable) return;\n",
              "\n",
              "          const docLinkHtml = 'Like what you see? Visit the ' +\n",
              "            '<a target=\"_blank\" href=https://colab.research.google.com/notebooks/data_table.ipynb>data table notebook</a>'\n",
              "            + ' to learn more about interactive tables.';\n",
              "          element.innerHTML = '';\n",
              "          dataTable['output_type'] = 'display_data';\n",
              "          await google.colab.output.renderOutput(dataTable, element);\n",
              "          const docLink = document.createElement('div');\n",
              "          docLink.innerHTML = docLinkHtml;\n",
              "          element.appendChild(docLink);\n",
              "        }\n",
              "      </script>\n",
              "    </div>\n",
              "  </div>\n",
              "  "
            ]
          },
          "metadata": {},
          "execution_count": 90
        }
      ]
    },
    {
      "cell_type": "code",
      "source": [
        "copy_df = df.copy()"
      ],
      "metadata": {
        "id": "jXueX5FGoSJQ"
      },
      "execution_count": null,
      "outputs": []
    },
    {
      "cell_type": "code",
      "source": [
        "# Creating dummy values for categorical data\n",
        "dummy = pd.get_dummies(df[['lead_origin', 'lead_source', 'specialization', 'occupation', 'city']], drop_first = True)\n",
        "df = pd.concat([df, dummy], axis=1)\n",
        "df.drop(['lead_origin', 'lead_source', 'specialization', 'occupation', 'city'], axis= 1, inplace=True)"
      ],
      "metadata": {
        "id": "kbzN0RL-npC1"
      },
      "execution_count": null,
      "outputs": []
    },
    {
      "cell_type": "code",
      "source": [
        "df.head()"
      ],
      "metadata": {
        "colab": {
          "base_uri": "https://localhost:8080/",
          "height": 322
        },
        "id": "RaW9fcYMoFpC",
        "outputId": "c03e764a-5705-4cbe-d5ce-330aec20f975"
      },
      "execution_count": null,
      "outputs": [
        {
          "output_type": "execute_result",
          "data": {
            "text/plain": [
              "   lead_number  do_not_email  converted  total_visits  time_on_website  \\\n",
              "0       660737             0          0           0.0                0   \n",
              "1       660728             0          0           5.0              674   \n",
              "2       660727             0          1           2.0             1532   \n",
              "3       660719             0          0           1.0              305   \n",
              "4       660681             0          1           2.0             1428   \n",
              "\n",
              "   page_views_per_visit  mastering_interview  \\\n",
              "0                   0.0                    0   \n",
              "1                   2.5                    0   \n",
              "2                   2.0                    1   \n",
              "3                   1.0                    0   \n",
              "4                   1.0                    0   \n",
              "\n",
              "   lead_origin_Landing Page Submission  lead_origin_Lead Add Form and Others  \\\n",
              "0                                    0                                     0   \n",
              "1                                    0                                     0   \n",
              "2                                    1                                     0   \n",
              "3                                    1                                     0   \n",
              "4                                    1                                     0   \n",
              "\n",
              "   lead_source_Google  lead_source_Olark Chat  lead_source_Organic Search  \\\n",
              "0                   0                       1                           0   \n",
              "1                   0                       0                           1   \n",
              "2                   0                       0                           0   \n",
              "3                   0                       0                           0   \n",
              "4                   1                       0                           0   \n",
              "\n",
              "   lead_source_Other Social Sites  lead_source_Reference  \\\n",
              "0                               0                      0   \n",
              "1                               0                      0   \n",
              "2                               0                      0   \n",
              "3                               0                      0   \n",
              "4                               0                      0   \n",
              "\n",
              "   specialization_Industry Specializations  \\\n",
              "0                                        0   \n",
              "1                                        0   \n",
              "2                                        0   \n",
              "3                                        1   \n",
              "4                                        0   \n",
              "\n",
              "   specialization_Management Specializations  occupation_Unemployed  \\\n",
              "0                                          1                      1   \n",
              "1                                          1                      1   \n",
              "2                                          0                      0   \n",
              "3                                          0                      1   \n",
              "4                                          1                      1   \n",
              "\n",
              "   occupation_Working Professional  city_Non-Maharashtra Cities  \\\n",
              "0                                0                            0   \n",
              "1                                0                            0   \n",
              "2                                0                            0   \n",
              "3                                0                            0   \n",
              "4                                0                            0   \n",
              "\n",
              "   city_Non-Mumbai Maharashtra Cities  \n",
              "0                                   0  \n",
              "1                                   0  \n",
              "2                                   0  \n",
              "3                                   0  \n",
              "4                                   0  "
            ],
            "text/html": [
              "\n",
              "  <div id=\"df-3fa87e0d-5870-4eb7-bc30-27aa9671fdaa\">\n",
              "    <div class=\"colab-df-container\">\n",
              "      <div>\n",
              "<style scoped>\n",
              "    .dataframe tbody tr th:only-of-type {\n",
              "        vertical-align: middle;\n",
              "    }\n",
              "\n",
              "    .dataframe tbody tr th {\n",
              "        vertical-align: top;\n",
              "    }\n",
              "\n",
              "    .dataframe thead th {\n",
              "        text-align: right;\n",
              "    }\n",
              "</style>\n",
              "<table border=\"1\" class=\"dataframe\">\n",
              "  <thead>\n",
              "    <tr style=\"text-align: right;\">\n",
              "      <th></th>\n",
              "      <th>lead_number</th>\n",
              "      <th>do_not_email</th>\n",
              "      <th>converted</th>\n",
              "      <th>total_visits</th>\n",
              "      <th>time_on_website</th>\n",
              "      <th>page_views_per_visit</th>\n",
              "      <th>mastering_interview</th>\n",
              "      <th>lead_origin_Landing Page Submission</th>\n",
              "      <th>lead_origin_Lead Add Form and Others</th>\n",
              "      <th>lead_source_Google</th>\n",
              "      <th>lead_source_Olark Chat</th>\n",
              "      <th>lead_source_Organic Search</th>\n",
              "      <th>lead_source_Other Social Sites</th>\n",
              "      <th>lead_source_Reference</th>\n",
              "      <th>specialization_Industry Specializations</th>\n",
              "      <th>specialization_Management Specializations</th>\n",
              "      <th>occupation_Unemployed</th>\n",
              "      <th>occupation_Working Professional</th>\n",
              "      <th>city_Non-Maharashtra Cities</th>\n",
              "      <th>city_Non-Mumbai Maharashtra Cities</th>\n",
              "    </tr>\n",
              "  </thead>\n",
              "  <tbody>\n",
              "    <tr>\n",
              "      <th>0</th>\n",
              "      <td>660737</td>\n",
              "      <td>0</td>\n",
              "      <td>0</td>\n",
              "      <td>0.0</td>\n",
              "      <td>0</td>\n",
              "      <td>0.0</td>\n",
              "      <td>0</td>\n",
              "      <td>0</td>\n",
              "      <td>0</td>\n",
              "      <td>0</td>\n",
              "      <td>1</td>\n",
              "      <td>0</td>\n",
              "      <td>0</td>\n",
              "      <td>0</td>\n",
              "      <td>0</td>\n",
              "      <td>1</td>\n",
              "      <td>1</td>\n",
              "      <td>0</td>\n",
              "      <td>0</td>\n",
              "      <td>0</td>\n",
              "    </tr>\n",
              "    <tr>\n",
              "      <th>1</th>\n",
              "      <td>660728</td>\n",
              "      <td>0</td>\n",
              "      <td>0</td>\n",
              "      <td>5.0</td>\n",
              "      <td>674</td>\n",
              "      <td>2.5</td>\n",
              "      <td>0</td>\n",
              "      <td>0</td>\n",
              "      <td>0</td>\n",
              "      <td>0</td>\n",
              "      <td>0</td>\n",
              "      <td>1</td>\n",
              "      <td>0</td>\n",
              "      <td>0</td>\n",
              "      <td>0</td>\n",
              "      <td>1</td>\n",
              "      <td>1</td>\n",
              "      <td>0</td>\n",
              "      <td>0</td>\n",
              "      <td>0</td>\n",
              "    </tr>\n",
              "    <tr>\n",
              "      <th>2</th>\n",
              "      <td>660727</td>\n",
              "      <td>0</td>\n",
              "      <td>1</td>\n",
              "      <td>2.0</td>\n",
              "      <td>1532</td>\n",
              "      <td>2.0</td>\n",
              "      <td>1</td>\n",
              "      <td>1</td>\n",
              "      <td>0</td>\n",
              "      <td>0</td>\n",
              "      <td>0</td>\n",
              "      <td>0</td>\n",
              "      <td>0</td>\n",
              "      <td>0</td>\n",
              "      <td>0</td>\n",
              "      <td>0</td>\n",
              "      <td>0</td>\n",
              "      <td>0</td>\n",
              "      <td>0</td>\n",
              "      <td>0</td>\n",
              "    </tr>\n",
              "    <tr>\n",
              "      <th>3</th>\n",
              "      <td>660719</td>\n",
              "      <td>0</td>\n",
              "      <td>0</td>\n",
              "      <td>1.0</td>\n",
              "      <td>305</td>\n",
              "      <td>1.0</td>\n",
              "      <td>0</td>\n",
              "      <td>1</td>\n",
              "      <td>0</td>\n",
              "      <td>0</td>\n",
              "      <td>0</td>\n",
              "      <td>0</td>\n",
              "      <td>0</td>\n",
              "      <td>0</td>\n",
              "      <td>1</td>\n",
              "      <td>0</td>\n",
              "      <td>1</td>\n",
              "      <td>0</td>\n",
              "      <td>0</td>\n",
              "      <td>0</td>\n",
              "    </tr>\n",
              "    <tr>\n",
              "      <th>4</th>\n",
              "      <td>660681</td>\n",
              "      <td>0</td>\n",
              "      <td>1</td>\n",
              "      <td>2.0</td>\n",
              "      <td>1428</td>\n",
              "      <td>1.0</td>\n",
              "      <td>0</td>\n",
              "      <td>1</td>\n",
              "      <td>0</td>\n",
              "      <td>1</td>\n",
              "      <td>0</td>\n",
              "      <td>0</td>\n",
              "      <td>0</td>\n",
              "      <td>0</td>\n",
              "      <td>0</td>\n",
              "      <td>1</td>\n",
              "      <td>1</td>\n",
              "      <td>0</td>\n",
              "      <td>0</td>\n",
              "      <td>0</td>\n",
              "    </tr>\n",
              "  </tbody>\n",
              "</table>\n",
              "</div>\n",
              "      <button class=\"colab-df-convert\" onclick=\"convertToInteractive('df-3fa87e0d-5870-4eb7-bc30-27aa9671fdaa')\"\n",
              "              title=\"Convert this dataframe to an interactive table.\"\n",
              "              style=\"display:none;\">\n",
              "        \n",
              "  <svg xmlns=\"http://www.w3.org/2000/svg\" height=\"24px\"viewBox=\"0 0 24 24\"\n",
              "       width=\"24px\">\n",
              "    <path d=\"M0 0h24v24H0V0z\" fill=\"none\"/>\n",
              "    <path d=\"M18.56 5.44l.94 2.06.94-2.06 2.06-.94-2.06-.94-.94-2.06-.94 2.06-2.06.94zm-11 1L8.5 8.5l.94-2.06 2.06-.94-2.06-.94L8.5 2.5l-.94 2.06-2.06.94zm10 10l.94 2.06.94-2.06 2.06-.94-2.06-.94-.94-2.06-.94 2.06-2.06.94z\"/><path d=\"M17.41 7.96l-1.37-1.37c-.4-.4-.92-.59-1.43-.59-.52 0-1.04.2-1.43.59L10.3 9.45l-7.72 7.72c-.78.78-.78 2.05 0 2.83L4 21.41c.39.39.9.59 1.41.59.51 0 1.02-.2 1.41-.59l7.78-7.78 2.81-2.81c.8-.78.8-2.07 0-2.86zM5.41 20L4 18.59l7.72-7.72 1.47 1.35L5.41 20z\"/>\n",
              "  </svg>\n",
              "      </button>\n",
              "      \n",
              "  <style>\n",
              "    .colab-df-container {\n",
              "      display:flex;\n",
              "      flex-wrap:wrap;\n",
              "      gap: 12px;\n",
              "    }\n",
              "\n",
              "    .colab-df-convert {\n",
              "      background-color: #E8F0FE;\n",
              "      border: none;\n",
              "      border-radius: 50%;\n",
              "      cursor: pointer;\n",
              "      display: none;\n",
              "      fill: #1967D2;\n",
              "      height: 32px;\n",
              "      padding: 0 0 0 0;\n",
              "      width: 32px;\n",
              "    }\n",
              "\n",
              "    .colab-df-convert:hover {\n",
              "      background-color: #E2EBFA;\n",
              "      box-shadow: 0px 1px 2px rgba(60, 64, 67, 0.3), 0px 1px 3px 1px rgba(60, 64, 67, 0.15);\n",
              "      fill: #174EA6;\n",
              "    }\n",
              "\n",
              "    [theme=dark] .colab-df-convert {\n",
              "      background-color: #3B4455;\n",
              "      fill: #D2E3FC;\n",
              "    }\n",
              "\n",
              "    [theme=dark] .colab-df-convert:hover {\n",
              "      background-color: #434B5C;\n",
              "      box-shadow: 0px 1px 3px 1px rgba(0, 0, 0, 0.15);\n",
              "      filter: drop-shadow(0px 1px 2px rgba(0, 0, 0, 0.3));\n",
              "      fill: #FFFFFF;\n",
              "    }\n",
              "  </style>\n",
              "\n",
              "      <script>\n",
              "        const buttonEl =\n",
              "          document.querySelector('#df-3fa87e0d-5870-4eb7-bc30-27aa9671fdaa button.colab-df-convert');\n",
              "        buttonEl.style.display =\n",
              "          google.colab.kernel.accessAllowed ? 'block' : 'none';\n",
              "\n",
              "        async function convertToInteractive(key) {\n",
              "          const element = document.querySelector('#df-3fa87e0d-5870-4eb7-bc30-27aa9671fdaa');\n",
              "          const dataTable =\n",
              "            await google.colab.kernel.invokeFunction('convertToInteractive',\n",
              "                                                     [key], {});\n",
              "          if (!dataTable) return;\n",
              "\n",
              "          const docLinkHtml = 'Like what you see? Visit the ' +\n",
              "            '<a target=\"_blank\" href=https://colab.research.google.com/notebooks/data_table.ipynb>data table notebook</a>'\n",
              "            + ' to learn more about interactive tables.';\n",
              "          element.innerHTML = '';\n",
              "          dataTable['output_type'] = 'display_data';\n",
              "          await google.colab.output.renderOutput(dataTable, element);\n",
              "          const docLink = document.createElement('div');\n",
              "          docLink.innerHTML = docLinkHtml;\n",
              "          element.appendChild(docLink);\n",
              "        }\n",
              "      </script>\n",
              "    </div>\n",
              "  </div>\n",
              "  "
            ]
          },
          "metadata": {},
          "execution_count": 93
        }
      ]
    },
    {
      "cell_type": "markdown",
      "source": [
        "## Checking for Outliers at various level\n"
      ],
      "metadata": {
        "id": "A5oOGEhppCzi"
      }
    },
    {
      "cell_type": "code",
      "source": [
        "plt.figure(figsize = (10, 14))\n",
        "\n",
        "plt.subplot(2,1,1)\n",
        "sns.boxplot(df.total_visits)\n",
        "\n",
        "plt.subplot(2,1,2)\n",
        "sns.boxplot(df.page_views_per_visit)\n",
        "plt.show()\n"
      ],
      "metadata": {
        "colab": {
          "base_uri": "https://localhost:8080/",
          "height": 913
        },
        "id": "DAF7Rx5Kohfl",
        "outputId": "433d2d58-0809-4cd7-8ecd-09eb97f290fe"
      },
      "execution_count": null,
      "outputs": [
        {
          "output_type": "stream",
          "name": "stderr",
          "text": [
            "/usr/local/lib/python3.8/dist-packages/seaborn/_decorators.py:36: FutureWarning: Pass the following variable as a keyword arg: x. From version 0.12, the only valid positional argument will be `data`, and passing other arguments without an explicit keyword will result in an error or misinterpretation.\n",
            "  warnings.warn(\n",
            "/usr/local/lib/python3.8/dist-packages/seaborn/_decorators.py:36: FutureWarning: Pass the following variable as a keyword arg: x. From version 0.12, the only valid positional argument will be `data`, and passing other arguments without an explicit keyword will result in an error or misinterpretation.\n",
            "  warnings.warn(\n"
          ]
        },
        {
          "output_type": "display_data",
          "data": {
            "text/plain": [
              "<Figure size 720x1008 with 2 Axes>"
            ],
            "image/png": "[encoded data removed]"
          },
          "metadata": {
            "needs_background": "light"
          }
        }
      ]
    },
    {
      "cell_type": "code",
      "source": [
        "df.total_visits.loc[df.total_visits >= df.total_visits.quantile(0.99)] = df.total_visits.quantile(0.99)\n",
        "df.page_views_per_visit.loc[df.page_views_per_visit >= \n",
        "                            df.page_views_per_visit.quantile(0.99)] = df.page_views_per_visit.quantile(0.99)"
      ],
      "metadata": {
        "colab": {
          "base_uri": "https://localhost:8080/"
        },
        "id": "54cuRE-qps4A",
        "outputId": "537e5760-5188-45da-a8f2-3078566c9437"
      },
      "execution_count": null,
      "outputs": [
        {
          "output_type": "stream",
          "name": "stderr",
          "text": [
            "/usr/local/lib/python3.8/dist-packages/pandas/core/indexing.py:1732: SettingWithCopyWarning: \n",
            "A value is trying to be set on a copy of a slice from a DataFrame\n",
            "\n",
            "See the caveats in the documentation: https://pandas.pydata.org/pandas-docs/stable/user_guide/indexing.html#returning-a-view-versus-a-copy\n",
            "  self._setitem_single_block(indexer, value, name)\n"
          ]
        }
      ]
    },
    {
      "cell_type": "code",
      "source": [
        "#Handeling Outliers\n",
        "plt.figure(figsize = (10, 14))\n",
        "plt.subplot(2,1,1)\n",
        "sns.boxplot(df.total_visits)\n",
        "\n",
        "plt.subplot(2,1,2)\n",
        "sns.boxplot(df.page_views_per_visit)\n",
        "plt.show()"
      ],
      "metadata": {
        "colab": {
          "base_uri": "https://localhost:8080/",
          "height": 913
        },
        "id": "T5nvx2X2p8nN",
        "outputId": "1df148cb-d40c-4bde-a881-a319fc5e613b"
      },
      "execution_count": null,
      "outputs": [
        {
          "output_type": "stream",
          "name": "stderr",
          "text": [
            "/usr/local/lib/python3.8/dist-packages/seaborn/_decorators.py:36: FutureWarning: Pass the following variable as a keyword arg: x. From version 0.12, the only valid positional argument will be `data`, and passing other arguments without an explicit keyword will result in an error or misinterpretation.\n",
            "  warnings.warn(\n",
            "/usr/local/lib/python3.8/dist-packages/seaborn/_decorators.py:36: FutureWarning: Pass the following variable as a keyword arg: x. From version 0.12, the only valid positional argument will be `data`, and passing other arguments without an explicit keyword will result in an error or misinterpretation.\n",
            "  warnings.warn(\n"
          ]
        },
        {
          "output_type": "display_data",
          "data": {
            "text/plain": [
              "<Figure size 720x1008 with 2 Axes>"
            ],
            "image/png": "[encoded data removed]"
          },
          "metadata": {
            "needs_background": "light"
          }
        }
      ]
    },
    {
      "cell_type": "markdown",
      "source": [
        "# Train Test Split"
      ],
      "metadata": {
        "id": "4eTquD3_q3Of"
      }
    },
    {
      "cell_type": "code",
      "source": [
        "df.head()"
      ],
      "metadata": {
        "colab": {
          "base_uri": "https://localhost:8080/",
          "height": 322
        },
        "id": "ex8tZpqPrETm",
        "outputId": "4abda038-9e06-4b15-9492-873c42e0741f"
      },
      "execution_count": null,
      "outputs": [
        {
          "output_type": "execute_result",
          "data": {
            "text/plain": [
              "   lead_number  do_not_email  converted  total_visits  time_on_website  \\\n",
              "0       660737             0          0           0.0                0   \n",
              "1       660728             0          0           5.0              674   \n",
              "2       660727             0          1           2.0             1532   \n",
              "3       660719             0          0           1.0              305   \n",
              "4       660681             0          1           2.0             1428   \n",
              "\n",
              "   page_views_per_visit  mastering_interview  \\\n",
              "0                   0.0                    0   \n",
              "1                   2.5                    0   \n",
              "2                   2.0                    1   \n",
              "3                   1.0                    0   \n",
              "4                   1.0                    0   \n",
              "\n",
              "   lead_origin_Landing Page Submission  lead_origin_Lead Add Form and Others  \\\n",
              "0                                    0                                     0   \n",
              "1                                    0                                     0   \n",
              "2                                    1                                     0   \n",
              "3                                    1                                     0   \n",
              "4                                    1                                     0   \n",
              "\n",
              "   lead_source_Google  lead_source_Olark Chat  lead_source_Organic Search  \\\n",
              "0                   0                       1                           0   \n",
              "1                   0                       0                           1   \n",
              "2                   0                       0                           0   \n",
              "3                   0                       0                           0   \n",
              "4                   1                       0                           0   \n",
              "\n",
              "   lead_source_Other Social Sites  lead_source_Reference  \\\n",
              "0                               0                      0   \n",
              "1                               0                      0   \n",
              "2                               0                      0   \n",
              "3                               0                      0   \n",
              "4                               0                      0   \n",
              "\n",
              "   specialization_Industry Specializations  \\\n",
              "0                                        0   \n",
              "1                                        0   \n",
              "2                                        0   \n",
              "3                                        1   \n",
              "4                                        0   \n",
              "\n",
              "   specialization_Management Specializations  occupation_Unemployed  \\\n",
              "0                                          1                      1   \n",
              "1                                          1                      1   \n",
              "2                                          0                      0   \n",
              "3                                          0                      1   \n",
              "4                                          1                      1   \n",
              "\n",
              "   occupation_Working Professional  city_Non-Maharashtra Cities  \\\n",
              "0                                0                            0   \n",
              "1                                0                            0   \n",
              "2                                0                            0   \n",
              "3                                0                            0   \n",
              "4                                0                            0   \n",
              "\n",
              "   city_Non-Mumbai Maharashtra Cities  \n",
              "0                                   0  \n",
              "1                                   0  \n",
              "2                                   0  \n",
              "3                                   0  \n",
              "4                                   0  "
            ],
            "text/html": [
              "\n",
              "  <div id=\"df-cc8c6984-4064-4e49-940b-3fa33e5951e3\">\n",
              "    <div class=\"colab-df-container\">\n",
              "      <div>\n",
              "<style scoped>\n",
              "    .dataframe tbody tr th:only-of-type {\n",
              "        vertical-align: middle;\n",
              "    }\n",
              "\n",
              "    .dataframe tbody tr th {\n",
              "        vertical-align: top;\n",
              "    }\n",
              "\n",
              "    .dataframe thead th {\n",
              "        text-align: right;\n",
              "    }\n",
              "</style>\n",
              "<table border=\"1\" class=\"dataframe\">\n",
              "  <thead>\n",
              "    <tr style=\"text-align: right;\">\n",
              "      <th></th>\n",
              "      <th>lead_number</th>\n",
              "      <th>do_not_email</th>\n",
              "      <th>converted</th>\n",
              "      <th>total_visits</th>\n",
              "      <th>time_on_website</th>\n",
              "      <th>page_views_per_visit</th>\n",
              "      <th>mastering_interview</th>\n",
              "      <th>lead_origin_Landing Page Submission</th>\n",
              "      <th>lead_origin_Lead Add Form and Others</th>\n",
              "      <th>lead_source_Google</th>\n",
              "      <th>lead_source_Olark Chat</th>\n",
              "      <th>lead_source_Organic Search</th>\n",
              "      <th>lead_source_Other Social Sites</th>\n",
              "      <th>lead_source_Reference</th>\n",
              "      <th>specialization_Industry Specializations</th>\n",
              "      <th>specialization_Management Specializations</th>\n",
              "      <th>occupation_Unemployed</th>\n",
              "      <th>occupation_Working Professional</th>\n",
              "      <th>city_Non-Maharashtra Cities</th>\n",
              "      <th>city_Non-Mumbai Maharashtra Cities</th>\n",
              "    </tr>\n",
              "  </thead>\n",
              "  <tbody>\n",
              "    <tr>\n",
              "      <th>0</th>\n",
              "      <td>660737</td>\n",
              "      <td>0</td>\n",
              "      <td>0</td>\n",
              "      <td>0.0</td>\n",
              "      <td>0</td>\n",
              "      <td>0.0</td>\n",
              "      <td>0</td>\n",
              "      <td>0</td>\n",
              "      <td>0</td>\n",
              "      <td>0</td>\n",
              "      <td>1</td>\n",
              "      <td>0</td>\n",
              "      <td>0</td>\n",
              "      <td>0</td>\n",
              "      <td>0</td>\n",
              "      <td>1</td>\n",
              "      <td>1</td>\n",
              "      <td>0</td>\n",
              "      <td>0</td>\n",
              "      <td>0</td>\n",
              "    </tr>\n",
              "    <tr>\n",
              "      <th>1</th>\n",
              "      <td>660728</td>\n",
              "      <td>0</td>\n",
              "      <td>0</td>\n",
              "      <td>5.0</td>\n",
              "      <td>674</td>\n",
              "      <td>2.5</td>\n",
              "      <td>0</td>\n",
              "      <td>0</td>\n",
              "      <td>0</td>\n",
              "      <td>0</td>\n",
              "      <td>0</td>\n",
              "      <td>1</td>\n",
              "      <td>0</td>\n",
              "      <td>0</td>\n",
              "      <td>0</td>\n",
              "      <td>1</td>\n",
              "      <td>1</td>\n",
              "      <td>0</td>\n",
              "      <td>0</td>\n",
              "      <td>0</td>\n",
              "    </tr>\n",
              "    <tr>\n",
              "      <th>2</th>\n",
              "      <td>660727</td>\n",
              "      <td>0</td>\n",
              "      <td>1</td>\n",
              "      <td>2.0</td>\n",
              "      <td>1532</td>\n",
              "      <td>2.0</td>\n",
              "      <td>1</td>\n",
              "      <td>1</td>\n",
              "      <td>0</td>\n",
              "      <td>0</td>\n",
              "      <td>0</td>\n",
              "      <td>0</td>\n",
              "      <td>0</td>\n",
              "      <td>0</td>\n",
              "      <td>0</td>\n",
              "      <td>0</td>\n",
              "      <td>0</td>\n",
              "      <td>0</td>\n",
              "      <td>0</td>\n",
              "      <td>0</td>\n",
              "    </tr>\n",
              "    <tr>\n",
              "      <th>3</th>\n",
              "      <td>660719</td>\n",
              "      <td>0</td>\n",
              "      <td>0</td>\n",
              "      <td>1.0</td>\n",
              "      <td>305</td>\n",
              "      <td>1.0</td>\n",
              "      <td>0</td>\n",
              "      <td>1</td>\n",
              "      <td>0</td>\n",
              "      <td>0</td>\n",
              "      <td>0</td>\n",
              "      <td>0</td>\n",
              "      <td>0</td>\n",
              "      <td>0</td>\n",
              "      <td>1</td>\n",
              "      <td>0</td>\n",
              "      <td>1</td>\n",
              "      <td>0</td>\n",
              "      <td>0</td>\n",
              "      <td>0</td>\n",
              "    </tr>\n",
              "    <tr>\n",
              "      <th>4</th>\n",
              "      <td>660681</td>\n",
              "      <td>0</td>\n",
              "      <td>1</td>\n",
              "      <td>2.0</td>\n",
              "      <td>1428</td>\n",
              "      <td>1.0</td>\n",
              "      <td>0</td>\n",
              "      <td>1</td>\n",
              "      <td>0</td>\n",
              "      <td>1</td>\n",
              "      <td>0</td>\n",
              "      <td>0</td>\n",
              "      <td>0</td>\n",
              "      <td>0</td>\n",
              "      <td>0</td>\n",
              "      <td>1</td>\n",
              "      <td>1</td>\n",
              "      <td>0</td>\n",
              "      <td>0</td>\n",
              "      <td>0</td>\n",
              "    </tr>\n",
              "  </tbody>\n",
              "</table>\n",
              "</div>\n",
              "      <button class=\"colab-df-convert\" onclick=\"convertToInteractive('df-cc8c6984-4064-4e49-940b-3fa33e5951e3')\"\n",
              "              title=\"Convert this dataframe to an interactive table.\"\n",
              "              style=\"display:none;\">\n",
              "        \n",
              "  <svg xmlns=\"http://www.w3.org/2000/svg\" height=\"24px\"viewBox=\"0 0 24 24\"\n",
              "       width=\"24px\">\n",
              "    <path d=\"M0 0h24v24H0V0z\" fill=\"none\"/>\n",
              "    <path d=\"M18.56 5.44l.94 2.06.94-2.06 2.06-.94-2.06-.94-.94-2.06-.94 2.06-2.06.94zm-11 1L8.5 8.5l.94-2.06 2.06-.94-2.06-.94L8.5 2.5l-.94 2.06-2.06.94zm10 10l.94 2.06.94-2.06 2.06-.94-2.06-.94-.94-2.06-.94 2.06-2.06.94z\"/><path d=\"M17.41 7.96l-1.37-1.37c-.4-.4-.92-.59-1.43-.59-.52 0-1.04.2-1.43.59L10.3 9.45l-7.72 7.72c-.78.78-.78 2.05 0 2.83L4 21.41c.39.39.9.59 1.41.59.51 0 1.02-.2 1.41-.59l7.78-7.78 2.81-2.81c.8-.78.8-2.07 0-2.86zM5.41 20L4 18.59l7.72-7.72 1.47 1.35L5.41 20z\"/>\n",
              "  </svg>\n",
              "      </button>\n",
              "      \n",
              "  <style>\n",
              "    .colab-df-container {\n",
              "      display:flex;\n",
              "      flex-wrap:wrap;\n",
              "      gap: 12px;\n",
              "    }\n",
              "\n",
              "    .colab-df-convert {\n",
              "      background-color: #E8F0FE;\n",
              "      border: none;\n",
              "      border-radius: 50%;\n",
              "      cursor: pointer;\n",
              "      display: none;\n",
              "      fill: #1967D2;\n",
              "      height: 32px;\n",
              "      padding: 0 0 0 0;\n",
              "      width: 32px;\n",
              "    }\n",
              "\n",
              "    .colab-df-convert:hover {\n",
              "      background-color: #E2EBFA;\n",
              "      box-shadow: 0px 1px 2px rgba(60, 64, 67, 0.3), 0px 1px 3px 1px rgba(60, 64, 67, 0.15);\n",
              "      fill: #174EA6;\n",
              "    }\n",
              "\n",
              "    [theme=dark] .colab-df-convert {\n",
              "      background-color: #3B4455;\n",
              "      fill: #D2E3FC;\n",
              "    }\n",
              "\n",
              "    [theme=dark] .colab-df-convert:hover {\n",
              "      background-color: #434B5C;\n",
              "      box-shadow: 0px 1px 3px 1px rgba(0, 0, 0, 0.15);\n",
              "      filter: drop-shadow(0px 1px 2px rgba(0, 0, 0, 0.3));\n",
              "      fill: #FFFFFF;\n",
              "    }\n",
              "  </style>\n",
              "\n",
              "      <script>\n",
              "        const buttonEl =\n",
              "          document.querySelector('#df-cc8c6984-4064-4e49-940b-3fa33e5951e3 button.colab-df-convert');\n",
              "        buttonEl.style.display =\n",
              "          google.colab.kernel.accessAllowed ? 'block' : 'none';\n",
              "\n",
              "        async function convertToInteractive(key) {\n",
              "          const element = document.querySelector('#df-cc8c6984-4064-4e49-940b-3fa33e5951e3');\n",
              "          const dataTable =\n",
              "            await google.colab.kernel.invokeFunction('convertToInteractive',\n",
              "                                                     [key], {});\n",
              "          if (!dataTable) return;\n",
              "\n",
              "          const docLinkHtml = 'Like what you see? Visit the ' +\n",
              "            '<a target=\"_blank\" href=https://colab.research.google.com/notebooks/data_table.ipynb>data table notebook</a>'\n",
              "            + ' to learn more about interactive tables.';\n",
              "          element.innerHTML = '';\n",
              "          dataTable['output_type'] = 'display_data';\n",
              "          await google.colab.output.renderOutput(dataTable, element);\n",
              "          const docLink = document.createElement('div');\n",
              "          docLink.innerHTML = docLinkHtml;\n",
              "          element.appendChild(docLink);\n",
              "        }\n",
              "      </script>\n",
              "    </div>\n",
              "  </div>\n",
              "  "
            ]
          },
          "metadata": {},
          "execution_count": 97
        }
      ]
    },
    {
      "cell_type": "code",
      "source": [
        "X = df.drop(['lead_number', 'converted'], axis=1).values\n",
        "y = df['converted'].values"
      ],
      "metadata": {
        "id": "1jzlts6QrIPv"
      },
      "execution_count": null,
      "outputs": []
    },
    {
      "cell_type": "code",
      "source": [
        "X"
      ],
      "metadata": {
        "colab": {
          "base_uri": "https://localhost:8080/"
        },
        "id": "vf8b488ysjXZ",
        "outputId": "d8b6ae72-1179-45ac-f6a0-fcc22745aab1"
      },
      "execution_count": null,
      "outputs": [
        {
          "output_type": "execute_result",
          "data": {
            "text/plain": [
              "array([[0.000e+00, 0.000e+00, 0.000e+00, ..., 0.000e+00, 0.000e+00,\n",
              "        0.000e+00],\n",
              "       [0.000e+00, 5.000e+00, 6.740e+02, ..., 0.000e+00, 0.000e+00,\n",
              "        0.000e+00],\n",
              "       [0.000e+00, 2.000e+00, 1.532e+03, ..., 0.000e+00, 0.000e+00,\n",
              "        0.000e+00],\n",
              "       ...,\n",
              "       [1.000e+00, 2.000e+00, 1.990e+02, ..., 0.000e+00, 0.000e+00,\n",
              "        0.000e+00],\n",
              "       [0.000e+00, 3.000e+00, 4.990e+02, ..., 0.000e+00, 1.000e+00,\n",
              "        0.000e+00],\n",
              "       [0.000e+00, 6.000e+00, 1.279e+03, ..., 0.000e+00, 1.000e+00,\n",
              "        0.000e+00]])"
            ]
          },
          "metadata": {},
          "execution_count": 157
        }
      ]
    },
    {
      "cell_type": "code",
      "source": [
        "#Splitting data into training and testing\n",
        "from sklearn.model_selection import train_test_split\n",
        "X_train, X_test, y_train, y_test = train_test_split(X ,y , test_size=0.2, random_state = 42)"
      ],
      "metadata": {
        "id": "a1L1aRCVqpA_"
      },
      "execution_count": null,
      "outputs": []
    },
    {
      "cell_type": "code",
      "source": [
        "X_test"
      ],
      "metadata": {
        "colab": {
          "base_uri": "https://localhost:8080/"
        },
        "id": "M6tbXGwmsUUc",
        "outputId": "dc03ef22-d26b-45ad-a678-f69b202e9090"
      },
      "execution_count": null,
      "outputs": [
        {
          "output_type": "execute_result",
          "data": {
            "text/plain": [
              "array([[  0.,   8., 252., ...,   0.,   0.,   0.],\n",
              "       [  1.,   2., 929., ...,   0.,   1.,   0.],\n",
              "       [  1.,   1.,   2., ...,   0.,   1.,   0.],\n",
              "       ...,\n",
              "       [  0.,   3.,  97., ...,   0.,   0.,   0.],\n",
              "       [  0.,   4., 409., ...,   0.,   0.,   0.],\n",
              "       [  0.,   3., 452., ...,   0.,   0.,   0.]])"
            ]
          },
          "metadata": {},
          "execution_count": 159
        }
      ]
    },
    {
      "cell_type": "code",
      "source": [
        "#Standardization of Xtrain\n",
        "from sklearn.preprocessing import StandardScaler\n",
        "sc = StandardScaler()\n",
        "X_train = sc.fit_transform(X_train)"
      ],
      "metadata": {
        "id": "vAwvS93kr5Hk"
      },
      "execution_count": null,
      "outputs": []
    },
    {
      "cell_type": "code",
      "source": [
        "X_train"
      ],
      "metadata": {
        "colab": {
          "base_uri": "https://localhost:8080/"
        },
        "id": "Fy_71GN-sy63",
        "outputId": "13164d60-b75b-4307-a784-b984c1cbbb7b"
      },
      "execution_count": null,
      "outputs": [
        {
          "output_type": "execute_result",
          "data": {
            "text/plain": [
              "array([[ 3.44320377, -0.41759893, -0.45416471, ..., -0.34592009,\n",
              "        -0.5013947 ,  1.90795737],\n",
              "       [-0.29042719, -1.03044216, -0.88909718, ..., -0.34592009,\n",
              "        -0.5013947 ,  1.90795737],\n",
              "       [-0.29042719, -0.11117732, -0.16845593, ..., -0.34592009,\n",
              "        -0.5013947 , -0.52412073],\n",
              "       ...,\n",
              "       [-0.29042719, -1.03044216, -0.88909718, ..., -0.34592009,\n",
              "        -0.5013947 ,  1.90795737],\n",
              "       [-0.29042719, -0.11117732, -0.56335278, ..., -0.34592009,\n",
              "         1.99443671, -0.52412073],\n",
              "       [-0.29042719, -0.41759893,  2.40292308, ..., -0.34592009,\n",
              "        -0.5013947 , -0.52412073]])"
            ]
          },
          "metadata": {},
          "execution_count": 161
        }
      ]
    },
    {
      "cell_type": "markdown",
      "source": [
        "## Model Building"
      ],
      "metadata": {
        "id": "MuIUHUvJSssa"
      }
    },
    {
      "cell_type": "code",
      "source": [
        "#Building Logistic Regression Model\n",
        "from sklearn.linear_model import LogisticRegression\n",
        "lr = LogisticRegression()\n",
        "model = lr.fit(X_train, y_train)"
      ],
      "metadata": {
        "id": "beVubBKxroWv"
      },
      "execution_count": null,
      "outputs": []
    },
    {
      "cell_type": "code",
      "source": [
        "y_pred = model.predict(sc.transform(X_test))"
      ],
      "metadata": {
        "id": "w5IE06b-syTA"
      },
      "execution_count": null,
      "outputs": []
    },
    {
      "cell_type": "markdown",
      "source": [
        "## Model Evaluation"
      ],
      "metadata": {
        "id": "ERfWeUgmSxjm"
      }
    },
    {
      "cell_type": "code",
      "source": [
        "#Model Evaluation\n",
        "from sklearn.metrics import classification_report, accuracy_score, confusion_matrix\n",
        "cm = confusion_matrix(y_pred, y_test)\n",
        "cm"
      ],
      "metadata": {
        "colab": {
          "base_uri": "https://localhost:8080/"
        },
        "id": "-6qXcXSCtTVq",
        "outputId": "c4e07b0c-7292-42be-93a9-72274ee11b8b"
      },
      "execution_count": null,
      "outputs": [
        {
          "output_type": "execute_result",
          "data": {
            "text/plain": [
              "array([[961, 270],\n",
              "       [146, 471]])"
            ]
          },
          "metadata": {},
          "execution_count": 164
        }
      ]
    },
    {
      "cell_type": "code",
      "source": [
        "accuracy_score(y_pred, y_test)"
      ],
      "metadata": {
        "colab": {
          "base_uri": "https://localhost:8080/"
        },
        "id": "yQnk3Vvbtpmg",
        "outputId": "8563c5ca-e29d-4915-a8fd-c87e31534f2b"
      },
      "execution_count": null,
      "outputs": [
        {
          "output_type": "execute_result",
          "data": {
            "text/plain": [
              "0.7748917748917749"
            ]
          },
          "metadata": {},
          "execution_count": 165
        }
      ]
    },
    {
      "cell_type": "code",
      "source": [
        "df_test = pd.DataFrame(y_test.copy(), columns=['Actual'])"
      ],
      "metadata": {
        "id": "Sq9ebqZEtqz6"
      },
      "execution_count": null,
      "outputs": []
    },
    {
      "cell_type": "code",
      "source": [
        "df_test['Predicted'] = pd.DataFrame(y_pred)"
      ],
      "metadata": {
        "id": "EjA3M6Dhtz8f"
      },
      "execution_count": null,
      "outputs": []
    },
    {
      "cell_type": "code",
      "source": [
        "df_test"
      ],
      "metadata": {
        "colab": {
          "base_uri": "https://localhost:8080/",
          "height": 423
        },
        "id": "XOnYb-J_t1R8",
        "outputId": "eb30e5e2-2ca5-48fa-a112-e9c05fe4c168"
      },
      "execution_count": null,
      "outputs": [
        {
          "output_type": "execute_result",
          "data": {
            "text/plain": [
              "      Actual  Predicted\n",
              "0          1          0\n",
              "1          0          0\n",
              "2          0          0\n",
              "3          0          0\n",
              "4          0          0\n",
              "...      ...        ...\n",
              "1843       1          1\n",
              "1844       1          1\n",
              "1845       0          1\n",
              "1846       1          0\n",
              "1847       0          0\n",
              "\n",
              "[1848 rows x 2 columns]"
            ],
            "text/html": [
              "\n",
              "  <div id=\"df-f21fb674-1c7a-43a5-b6d3-f7b69ba9dd13\">\n",
              "    <div class=\"colab-df-container\">\n",
              "      <div>\n",
              "<style scoped>\n",
              "    .dataframe tbody tr th:only-of-type {\n",
              "        vertical-align: middle;\n",
              "    }\n",
              "\n",
              "    .dataframe tbody tr th {\n",
              "        vertical-align: top;\n",
              "    }\n",
              "\n",
              "    .dataframe thead th {\n",
              "        text-align: right;\n",
              "    }\n",
              "</style>\n",
              "<table border=\"1\" class=\"dataframe\">\n",
              "  <thead>\n",
              "    <tr style=\"text-align: right;\">\n",
              "      <th></th>\n",
              "      <th>Actual</th>\n",
              "      <th>Predicted</th>\n",
              "    </tr>\n",
              "  </thead>\n",
              "  <tbody>\n",
              "    <tr>\n",
              "      <th>0</th>\n",
              "      <td>1</td>\n",
              "      <td>0</td>\n",
              "    </tr>\n",
              "    <tr>\n",
              "      <th>1</th>\n",
              "      <td>0</td>\n",
              "      <td>0</td>\n",
              "    </tr>\n",
              "    <tr>\n",
              "      <th>2</th>\n",
              "      <td>0</td>\n",
              "      <td>0</td>\n",
              "    </tr>\n",
              "    <tr>\n",
              "      <th>3</th>\n",
              "      <td>0</td>\n",
              "      <td>0</td>\n",
              "    </tr>\n",
              "    <tr>\n",
              "      <th>4</th>\n",
              "      <td>0</td>\n",
              "      <td>0</td>\n",
              "    </tr>\n",
              "    <tr>\n",
              "      <th>...</th>\n",
              "      <td>...</td>\n",
              "      <td>...</td>\n",
              "    </tr>\n",
              "    <tr>\n",
              "      <th>1843</th>\n",
              "      <td>1</td>\n",
              "      <td>1</td>\n",
              "    </tr>\n",
              "    <tr>\n",
              "      <th>1844</th>\n",
              "      <td>1</td>\n",
              "      <td>1</td>\n",
              "    </tr>\n",
              "    <tr>\n",
              "      <th>1845</th>\n",
              "      <td>0</td>\n",
              "      <td>1</td>\n",
              "    </tr>\n",
              "    <tr>\n",
              "      <th>1846</th>\n",
              "      <td>1</td>\n",
              "      <td>0</td>\n",
              "    </tr>\n",
              "    <tr>\n",
              "      <th>1847</th>\n",
              "      <td>0</td>\n",
              "      <td>0</td>\n",
              "    </tr>\n",
              "  </tbody>\n",
              "</table>\n",
              "<p>1848 rows × 2 columns</p>\n",
              "</div>\n",
              "      <button class=\"colab-df-convert\" onclick=\"convertToInteractive('df-f21fb674-1c7a-43a5-b6d3-f7b69ba9dd13')\"\n",
              "              title=\"Convert this dataframe to an interactive table.\"\n",
              "              style=\"display:none;\">\n",
              "        \n",
              "  <svg xmlns=\"http://www.w3.org/2000/svg\" height=\"24px\"viewBox=\"0 0 24 24\"\n",
              "       width=\"24px\">\n",
              "    <path d=\"M0 0h24v24H0V0z\" fill=\"none\"/>\n",
              "    <path d=\"M18.56 5.44l.94 2.06.94-2.06 2.06-.94-2.06-.94-.94-2.06-.94 2.06-2.06.94zm-11 1L8.5 8.5l.94-2.06 2.06-.94-2.06-.94L8.5 2.5l-.94 2.06-2.06.94zm10 10l.94 2.06.94-2.06 2.06-.94-2.06-.94-.94-2.06-.94 2.06-2.06.94z\"/><path d=\"M17.41 7.96l-1.37-1.37c-.4-.4-.92-.59-1.43-.59-.52 0-1.04.2-1.43.59L10.3 9.45l-7.72 7.72c-.78.78-.78 2.05 0 2.83L4 21.41c.39.39.9.59 1.41.59.51 0 1.02-.2 1.41-.59l7.78-7.78 2.81-2.81c.8-.78.8-2.07 0-2.86zM5.41 20L4 18.59l7.72-7.72 1.47 1.35L5.41 20z\"/>\n",
              "  </svg>\n",
              "      </button>\n",
              "      \n",
              "  <style>\n",
              "    .colab-df-container {\n",
              "      display:flex;\n",
              "      flex-wrap:wrap;\n",
              "      gap: 12px;\n",
              "    }\n",
              "\n",
              "    .colab-df-convert {\n",
              "      background-color: #E8F0FE;\n",
              "      border: none;\n",
              "      border-radius: 50%;\n",
              "      cursor: pointer;\n",
              "      display: none;\n",
              "      fill: #1967D2;\n",
              "      height: 32px;\n",
              "      padding: 0 0 0 0;\n",
              "      width: 32px;\n",
              "    }\n",
              "\n",
              "    .colab-df-convert:hover {\n",
              "      background-color: #E2EBFA;\n",
              "      box-shadow: 0px 1px 2px rgba(60, 64, 67, 0.3), 0px 1px 3px 1px rgba(60, 64, 67, 0.15);\n",
              "      fill: #174EA6;\n",
              "    }\n",
              "\n",
              "    [theme=dark] .colab-df-convert {\n",
              "      background-color: #3B4455;\n",
              "      fill: #D2E3FC;\n",
              "    }\n",
              "\n",
              "    [theme=dark] .colab-df-convert:hover {\n",
              "      background-color: #434B5C;\n",
              "      box-shadow: 0px 1px 3px 1px rgba(0, 0, 0, 0.15);\n",
              "      filter: drop-shadow(0px 1px 2px rgba(0, 0, 0, 0.3));\n",
              "      fill: #FFFFFF;\n",
              "    }\n",
              "  </style>\n",
              "\n",
              "      <script>\n",
              "        const buttonEl =\n",
              "          document.querySelector('#df-f21fb674-1c7a-43a5-b6d3-f7b69ba9dd13 button.colab-df-convert');\n",
              "        buttonEl.style.display =\n",
              "          google.colab.kernel.accessAllowed ? 'block' : 'none';\n",
              "\n",
              "        async function convertToInteractive(key) {\n",
              "          const element = document.querySelector('#df-f21fb674-1c7a-43a5-b6d3-f7b69ba9dd13');\n",
              "          const dataTable =\n",
              "            await google.colab.kernel.invokeFunction('convertToInteractive',\n",
              "                                                     [key], {});\n",
              "          if (!dataTable) return;\n",
              "\n",
              "          const docLinkHtml = 'Like what you see? Visit the ' +\n",
              "            '<a target=\"_blank\" href=https://colab.research.google.com/notebooks/data_table.ipynb>data table notebook</a>'\n",
              "            + ' to learn more about interactive tables.';\n",
              "          element.innerHTML = '';\n",
              "          dataTable['output_type'] = 'display_data';\n",
              "          await google.colab.output.renderOutput(dataTable, element);\n",
              "          const docLink = document.createElement('div');\n",
              "          docLink.innerHTML = docLinkHtml;\n",
              "          element.appendChild(docLink);\n",
              "        }\n",
              "      </script>\n",
              "    </div>\n",
              "  </div>\n",
              "  "
            ]
          },
          "metadata": {},
          "execution_count": 110
        }
      ]
    },
    {
      "cell_type": "code",
      "source": [
        "#Checking for correlation\n",
        "plt.figure(figsize = (25, 12))\n",
        "sns.heatmap(df.corr(), annot = True)\n",
        "plt.show()"
      ],
      "metadata": {
        "colab": {
          "base_uri": "https://localhost:8080/",
          "height": 863
        },
        "id": "i7ha79tLuKLL",
        "outputId": "ffac8005-0e32-460f-f436-3384b3e8e59e"
      },
      "execution_count": null,
      "outputs": [
        {
          "output_type": "display_data",
          "data": {
            "text/plain": [
              "<Figure size 1800x864 with 2 Axes>"
            ],
            "image/png": "[encoded data removed]"
          },
          "metadata": {
            "needs_background": "light"
          }
        }
      ]
    },
    {
      "cell_type": "markdown",
      "source": [
        "#1.  Which are the top three variables in your model which contribute most towards the probability of a lead getting converted?\n",
        "From Correlation matrix, it is defined that\n",
        "1. **Time_on_website** orginaly called as \"*total_time_spent_on_website*\"\n",
        "\n",
        "\n",
        "    -> The Correlation Matrix defines that, the Time_on_website has 36% Positive correlation with converted, which is the target column.\n",
        "\n",
        "2. lead_origin_Lead Add Form and Others originaly called lead_origin\n",
        "\n",
        "\n",
        "    -> From the Correlation matrix we can check that, Lead_origin_Landing Page Submission 3%  Positive of correlation with the target column  \n",
        "\n",
        "\n",
        "3. lead_source_Reference orginaly called as lead_source\n",
        "\n",
        "\n",
        "    -> Correlation Matrix shows the correlation of lead_source of 27% Positive with converted[Target column]\n",
        "\n",
        "\n",
        "4. occupation_Working Professional orignally known as occupation\n",
        "\n",
        "\n",
        "    ->  occupation_Working Professional has 23%  Positive correlation with converted [Target column] \n",
        "\n",
        "\n",
        "5. occupation_unemployed \n",
        "\n",
        "\n",
        "    -> occupation_unemployed has negative 19% correlation with converted which is the target column."
      ],
      "metadata": {
        "id": "WuxPvAnd_Tgf"
      }
    },
    {
      "cell_type": "markdown",
      "source": [
        "# 2. What are the top 3 categorical/dummy variables in the model which should be focused the most on in order to increase the probability of lead conversion?\n",
        "\n",
        "Ans: From the Correlation matrix, it is understood that,\n",
        "1. Lead Source_Reference\n",
        "2. lead_origin_Lead Add Form and Others Originally called as Lead Source_Social Media\n",
        "3. Lead Source_Olark Chat"
      ],
      "metadata": {
        "id": "Efprik6dHuQp"
      }
    },
    {
      "cell_type": "code",
      "source": [
        "df.head()"
      ],
      "metadata": {
        "id": "KxwR4X0bvQFc",
        "colab": {
          "base_uri": "https://localhost:8080/",
          "height": 322
        },
        "outputId": "15f84a4a-bc30-496e-802e-08b54eff86cb"
      },
      "execution_count": null,
      "outputs": [
        {
          "output_type": "execute_result",
          "data": {
            "text/plain": [
              "   lead_number  do_not_email  converted  total_visits  time_on_website  \\\n",
              "0       660737             0          0           0.0                0   \n",
              "1       660728             0          0           5.0              674   \n",
              "2       660727             0          1           2.0             1532   \n",
              "3       660719             0          0           1.0              305   \n",
              "4       660681             0          1           2.0             1428   \n",
              "\n",
              "   page_views_per_visit  mastering_interview  \\\n",
              "0                   0.0                    0   \n",
              "1                   2.5                    0   \n",
              "2                   2.0                    1   \n",
              "3                   1.0                    0   \n",
              "4                   1.0                    0   \n",
              "\n",
              "   lead_origin_Landing Page Submission  lead_origin_Lead Add Form and Others  \\\n",
              "0                                    0                                     0   \n",
              "1                                    0                                     0   \n",
              "2                                    1                                     0   \n",
              "3                                    1                                     0   \n",
              "4                                    1                                     0   \n",
              "\n",
              "   lead_source_Google  lead_source_Olark Chat  lead_source_Organic Search  \\\n",
              "0                   0                       1                           0   \n",
              "1                   0                       0                           1   \n",
              "2                   0                       0                           0   \n",
              "3                   0                       0                           0   \n",
              "4                   1                       0                           0   \n",
              "\n",
              "   lead_source_Other Social Sites  lead_source_Reference  \\\n",
              "0                               0                      0   \n",
              "1                               0                      0   \n",
              "2                               0                      0   \n",
              "3                               0                      0   \n",
              "4                               0                      0   \n",
              "\n",
              "   specialization_Industry Specializations  \\\n",
              "0                                        0   \n",
              "1                                        0   \n",
              "2                                        0   \n",
              "3                                        1   \n",
              "4                                        0   \n",
              "\n",
              "   specialization_Management Specializations  occupation_Unemployed  \\\n",
              "0                                          1                      1   \n",
              "1                                          1                      1   \n",
              "2                                          0                      0   \n",
              "3                                          0                      1   \n",
              "4                                          1                      1   \n",
              "\n",
              "   occupation_Working Professional  city_Non-Maharashtra Cities  \\\n",
              "0                                0                            0   \n",
              "1                                0                            0   \n",
              "2                                0                            0   \n",
              "3                                0                            0   \n",
              "4                                0                            0   \n",
              "\n",
              "   city_Non-Mumbai Maharashtra Cities  \n",
              "0                                   0  \n",
              "1                                   0  \n",
              "2                                   0  \n",
              "3                                   0  \n",
              "4                                   0  "
            ],
            "text/html": [
              "\n",
              "  <div id=\"df-ac3072ae-5f39-4e12-8018-de80528348a1\">\n",
              "    <div class=\"colab-df-container\">\n",
              "      <div>\n",
              "<style scoped>\n",
              "    .dataframe tbody tr th:only-of-type {\n",
              "        vertical-align: middle;\n",
              "    }\n",
              "\n",
              "    .dataframe tbody tr th {\n",
              "        vertical-align: top;\n",
              "    }\n",
              "\n",
              "    .dataframe thead th {\n",
              "        text-align: right;\n",
              "    }\n",
              "</style>\n",
              "<table border=\"1\" class=\"dataframe\">\n",
              "  <thead>\n",
              "    <tr style=\"text-align: right;\">\n",
              "      <th></th>\n",
              "      <th>lead_number</th>\n",
              "      <th>do_not_email</th>\n",
              "      <th>converted</th>\n",
              "      <th>total_visits</th>\n",
              "      <th>time_on_website</th>\n",
              "      <th>page_views_per_visit</th>\n",
              "      <th>mastering_interview</th>\n",
              "      <th>lead_origin_Landing Page Submission</th>\n",
              "      <th>lead_origin_Lead Add Form and Others</th>\n",
              "      <th>lead_source_Google</th>\n",
              "      <th>lead_source_Olark Chat</th>\n",
              "      <th>lead_source_Organic Search</th>\n",
              "      <th>lead_source_Other Social Sites</th>\n",
              "      <th>lead_source_Reference</th>\n",
              "      <th>specialization_Industry Specializations</th>\n",
              "      <th>specialization_Management Specializations</th>\n",
              "      <th>occupation_Unemployed</th>\n",
              "      <th>occupation_Working Professional</th>\n",
              "      <th>city_Non-Maharashtra Cities</th>\n",
              "      <th>city_Non-Mumbai Maharashtra Cities</th>\n",
              "    </tr>\n",
              "  </thead>\n",
              "  <tbody>\n",
              "    <tr>\n",
              "      <th>0</th>\n",
              "      <td>660737</td>\n",
              "      <td>0</td>\n",
              "      <td>0</td>\n",
              "      <td>0.0</td>\n",
              "      <td>0</td>\n",
              "      <td>0.0</td>\n",
              "      <td>0</td>\n",
              "      <td>0</td>\n",
              "      <td>0</td>\n",
              "      <td>0</td>\n",
              "      <td>1</td>\n",
              "      <td>0</td>\n",
              "      <td>0</td>\n",
              "      <td>0</td>\n",
              "      <td>0</td>\n",
              "      <td>1</td>\n",
              "      <td>1</td>\n",
              "      <td>0</td>\n",
              "      <td>0</td>\n",
              "      <td>0</td>\n",
              "    </tr>\n",
              "    <tr>\n",
              "      <th>1</th>\n",
              "      <td>660728</td>\n",
              "      <td>0</td>\n",
              "      <td>0</td>\n",
              "      <td>5.0</td>\n",
              "      <td>674</td>\n",
              "      <td>2.5</td>\n",
              "      <td>0</td>\n",
              "      <td>0</td>\n",
              "      <td>0</td>\n",
              "      <td>0</td>\n",
              "      <td>0</td>\n",
              "      <td>1</td>\n",
              "      <td>0</td>\n",
              "      <td>0</td>\n",
              "      <td>0</td>\n",
              "      <td>1</td>\n",
              "      <td>1</td>\n",
              "      <td>0</td>\n",
              "      <td>0</td>\n",
              "      <td>0</td>\n",
              "    </tr>\n",
              "    <tr>\n",
              "      <th>2</th>\n",
              "      <td>660727</td>\n",
              "      <td>0</td>\n",
              "      <td>1</td>\n",
              "      <td>2.0</td>\n",
              "      <td>1532</td>\n",
              "      <td>2.0</td>\n",
              "      <td>1</td>\n",
              "      <td>1</td>\n",
              "      <td>0</td>\n",
              "      <td>0</td>\n",
              "      <td>0</td>\n",
              "      <td>0</td>\n",
              "      <td>0</td>\n",
              "      <td>0</td>\n",
              "      <td>0</td>\n",
              "      <td>0</td>\n",
              "      <td>0</td>\n",
              "      <td>0</td>\n",
              "      <td>0</td>\n",
              "      <td>0</td>\n",
              "    </tr>\n",
              "    <tr>\n",
              "      <th>3</th>\n",
              "      <td>660719</td>\n",
              "      <td>0</td>\n",
              "      <td>0</td>\n",
              "      <td>1.0</td>\n",
              "      <td>305</td>\n",
              "      <td>1.0</td>\n",
              "      <td>0</td>\n",
              "      <td>1</td>\n",
              "      <td>0</td>\n",
              "      <td>0</td>\n",
              "      <td>0</td>\n",
              "      <td>0</td>\n",
              "      <td>0</td>\n",
              "      <td>0</td>\n",
              "      <td>1</td>\n",
              "      <td>0</td>\n",
              "      <td>1</td>\n",
              "      <td>0</td>\n",
              "      <td>0</td>\n",
              "      <td>0</td>\n",
              "    </tr>\n",
              "    <tr>\n",
              "      <th>4</th>\n",
              "      <td>660681</td>\n",
              "      <td>0</td>\n",
              "      <td>1</td>\n",
              "      <td>2.0</td>\n",
              "      <td>1428</td>\n",
              "      <td>1.0</td>\n",
              "      <td>0</td>\n",
              "      <td>1</td>\n",
              "      <td>0</td>\n",
              "      <td>1</td>\n",
              "      <td>0</td>\n",
              "      <td>0</td>\n",
              "      <td>0</td>\n",
              "      <td>0</td>\n",
              "      <td>0</td>\n",
              "      <td>1</td>\n",
              "      <td>1</td>\n",
              "      <td>0</td>\n",
              "      <td>0</td>\n",
              "      <td>0</td>\n",
              "    </tr>\n",
              "  </tbody>\n",
              "</table>\n",
              "</div>\n",
              "      <button class=\"colab-df-convert\" onclick=\"convertToInteractive('df-ac3072ae-5f39-4e12-8018-de80528348a1')\"\n",
              "              title=\"Convert this dataframe to an interactive table.\"\n",
              "              style=\"display:none;\">\n",
              "        \n",
              "  <svg xmlns=\"http://www.w3.org/2000/svg\" height=\"24px\"viewBox=\"0 0 24 24\"\n",
              "       width=\"24px\">\n",
              "    <path d=\"M0 0h24v24H0V0z\" fill=\"none\"/>\n",
              "    <path d=\"M18.56 5.44l.94 2.06.94-2.06 2.06-.94-2.06-.94-.94-2.06-.94 2.06-2.06.94zm-11 1L8.5 8.5l.94-2.06 2.06-.94-2.06-.94L8.5 2.5l-.94 2.06-2.06.94zm10 10l.94 2.06.94-2.06 2.06-.94-2.06-.94-.94-2.06-.94 2.06-2.06.94z\"/><path d=\"M17.41 7.96l-1.37-1.37c-.4-.4-.92-.59-1.43-.59-.52 0-1.04.2-1.43.59L10.3 9.45l-7.72 7.72c-.78.78-.78 2.05 0 2.83L4 21.41c.39.39.9.59 1.41.59.51 0 1.02-.2 1.41-.59l7.78-7.78 2.81-2.81c.8-.78.8-2.07 0-2.86zM5.41 20L4 18.59l7.72-7.72 1.47 1.35L5.41 20z\"/>\n",
              "  </svg>\n",
              "      </button>\n",
              "      \n",
              "  <style>\n",
              "    .colab-df-container {\n",
              "      display:flex;\n",
              "      flex-wrap:wrap;\n",
              "      gap: 12px;\n",
              "    }\n",
              "\n",
              "    .colab-df-convert {\n",
              "      background-color: #E8F0FE;\n",
              "      border: none;\n",
              "      border-radius: 50%;\n",
              "      cursor: pointer;\n",
              "      display: none;\n",
              "      fill: #1967D2;\n",
              "      height: 32px;\n",
              "      padding: 0 0 0 0;\n",
              "      width: 32px;\n",
              "    }\n",
              "\n",
              "    .colab-df-convert:hover {\n",
              "      background-color: #E2EBFA;\n",
              "      box-shadow: 0px 1px 2px rgba(60, 64, 67, 0.3), 0px 1px 3px 1px rgba(60, 64, 67, 0.15);\n",
              "      fill: #174EA6;\n",
              "    }\n",
              "\n",
              "    [theme=dark] .colab-df-convert {\n",
              "      background-color: #3B4455;\n",
              "      fill: #D2E3FC;\n",
              "    }\n",
              "\n",
              "    [theme=dark] .colab-df-convert:hover {\n",
              "      background-color: #434B5C;\n",
              "      box-shadow: 0px 1px 3px 1px rgba(0, 0, 0, 0.15);\n",
              "      filter: drop-shadow(0px 1px 2px rgba(0, 0, 0, 0.3));\n",
              "      fill: #FFFFFF;\n",
              "    }\n",
              "  </style>\n",
              "\n",
              "      <script>\n",
              "        const buttonEl =\n",
              "          document.querySelector('#df-ac3072ae-5f39-4e12-8018-de80528348a1 button.colab-df-convert');\n",
              "        buttonEl.style.display =\n",
              "          google.colab.kernel.accessAllowed ? 'block' : 'none';\n",
              "\n",
              "        async function convertToInteractive(key) {\n",
              "          const element = document.querySelector('#df-ac3072ae-5f39-4e12-8018-de80528348a1');\n",
              "          const dataTable =\n",
              "            await google.colab.kernel.invokeFunction('convertToInteractive',\n",
              "                                                     [key], {});\n",
              "          if (!dataTable) return;\n",
              "\n",
              "          const docLinkHtml = 'Like what you see? Visit the ' +\n",
              "            '<a target=\"_blank\" href=https://colab.research.google.com/notebooks/data_table.ipynb>data table notebook</a>'\n",
              "            + ' to learn more about interactive tables.';\n",
              "          element.innerHTML = '';\n",
              "          dataTable['output_type'] = 'display_data';\n",
              "          await google.colab.output.renderOutput(dataTable, element);\n",
              "          const docLink = document.createElement('div');\n",
              "          docLink.innerHTML = docLinkHtml;\n",
              "          element.appendChild(docLink);\n",
              "        }\n",
              "      </script>\n",
              "    </div>\n",
              "  </div>\n",
              "  "
            ]
          },
          "metadata": {},
          "execution_count": 116
        }
      ]
    },
    {
      "cell_type": "markdown",
      "source": [
        "# 3. X Education has a period of 2 months every year during which they hire some interns. The sales team, in particular, has around 10 interns allotted to them. So during this phase, they wish to make the lead conversion more aggressive. So they want almost all of the potential leads (i.e. the customers who have been predicted as 1 by the model) to be converted and hence, want to make phone calls to as much of such people as possible. Suggest a good strategy they should employ at this stage."
      ],
      "metadata": {
        "id": "ikdHQP7HKWIn"
      }
    },
    {
      "cell_type": "code",
      "source": [
        "sns.countplot(df['lead_source_Reference'], hue=df['converted'])"
      ],
      "metadata": {
        "colab": {
          "base_uri": "https://localhost:8080/",
          "height": 352
        },
        "id": "eHKl96KsBApH",
        "outputId": "ba827d50-afa6-4341-d525-ef93939a2875"
      },
      "execution_count": null,
      "outputs": [
        {
          "output_type": "stream",
          "name": "stderr",
          "text": [
            "/usr/local/lib/python3.8/dist-packages/seaborn/_decorators.py:36: FutureWarning: Pass the following variable as a keyword arg: x. From version 0.12, the only valid positional argument will be `data`, and passing other arguments without an explicit keyword will result in an error or misinterpretation.\n",
            "  warnings.warn(\n"
          ]
        },
        {
          "output_type": "execute_result",
          "data": {
            "text/plain": [
              "<matplotlib.axes._subplots.AxesSubplot at 0x7fd4d1e6e580>"
            ]
          },
          "metadata": {},
          "execution_count": 125
        },
        {
          "output_type": "display_data",
          "data": {
            "text/plain": [
              "<Figure size 432x288 with 1 Axes>"
            ],
            "image/png": "[encoded data removed]"
          },
          "metadata": {
            "needs_background": "light"
          }
        }
      ]
    },
    {
      "cell_type": "code",
      "source": [
        "pd.crosstab(df.lead_source_Reference, df.converted)"
      ],
      "metadata": {
        "colab": {
          "base_uri": "https://localhost:8080/",
          "height": 143
        },
        "id": "HAzWz240JKyb",
        "outputId": "6ee68635-612b-494e-a45c-36e6c5e3cd76"
      },
      "execution_count": null,
      "outputs": [
        {
          "output_type": "execute_result",
          "data": {
            "text/plain": [
              "converted                 0     1\n",
              "lead_source_Reference            \n",
              "0                      5635  3071\n",
              "1                        44   490"
            ],
            "text/html": [
              "\n",
              "  <div id=\"df-4ba041d2-9efa-41bb-983a-c5d00f16a5cf\">\n",
              "    <div class=\"colab-df-container\">\n",
              "      <div>\n",
              "<style scoped>\n",
              "    .dataframe tbody tr th:only-of-type {\n",
              "        vertical-align: middle;\n",
              "    }\n",
              "\n",
              "    .dataframe tbody tr th {\n",
              "        vertical-align: top;\n",
              "    }\n",
              "\n",
              "    .dataframe thead th {\n",
              "        text-align: right;\n",
              "    }\n",
              "</style>\n",
              "<table border=\"1\" class=\"dataframe\">\n",
              "  <thead>\n",
              "    <tr style=\"text-align: right;\">\n",
              "      <th>converted</th>\n",
              "      <th>0</th>\n",
              "      <th>1</th>\n",
              "    </tr>\n",
              "    <tr>\n",
              "      <th>lead_source_Reference</th>\n",
              "      <th></th>\n",
              "      <th></th>\n",
              "    </tr>\n",
              "  </thead>\n",
              "  <tbody>\n",
              "    <tr>\n",
              "      <th>0</th>\n",
              "      <td>5635</td>\n",
              "      <td>3071</td>\n",
              "    </tr>\n",
              "    <tr>\n",
              "      <th>1</th>\n",
              "      <td>44</td>\n",
              "      <td>490</td>\n",
              "    </tr>\n",
              "  </tbody>\n",
              "</table>\n",
              "</div>\n",
              "      <button class=\"colab-df-convert\" onclick=\"convertToInteractive('df-4ba041d2-9efa-41bb-983a-c5d00f16a5cf')\"\n",
              "              title=\"Convert this dataframe to an interactive table.\"\n",
              "              style=\"display:none;\">\n",
              "        \n",
              "  <svg xmlns=\"http://www.w3.org/2000/svg\" height=\"24px\"viewBox=\"0 0 24 24\"\n",
              "       width=\"24px\">\n",
              "    <path d=\"M0 0h24v24H0V0z\" fill=\"none\"/>\n",
              "    <path d=\"M18.56 5.44l.94 2.06.94-2.06 2.06-.94-2.06-.94-.94-2.06-.94 2.06-2.06.94zm-11 1L8.5 8.5l.94-2.06 2.06-.94-2.06-.94L8.5 2.5l-.94 2.06-2.06.94zm10 10l.94 2.06.94-2.06 2.06-.94-2.06-.94-.94-2.06-.94 2.06-2.06.94z\"/><path d=\"M17.41 7.96l-1.37-1.37c-.4-.4-.92-.59-1.43-.59-.52 0-1.04.2-1.43.59L10.3 9.45l-7.72 7.72c-.78.78-.78 2.05 0 2.83L4 21.41c.39.39.9.59 1.41.59.51 0 1.02-.2 1.41-.59l7.78-7.78 2.81-2.81c.8-.78.8-2.07 0-2.86zM5.41 20L4 18.59l7.72-7.72 1.47 1.35L5.41 20z\"/>\n",
              "  </svg>\n",
              "      </button>\n",
              "      \n",
              "  <style>\n",
              "    .colab-df-container {\n",
              "      display:flex;\n",
              "      flex-wrap:wrap;\n",
              "      gap: 12px;\n",
              "    }\n",
              "\n",
              "    .colab-df-convert {\n",
              "      background-color: #E8F0FE;\n",
              "      border: none;\n",
              "      border-radius: 50%;\n",
              "      cursor: pointer;\n",
              "      display: none;\n",
              "      fill: #1967D2;\n",
              "      height: 32px;\n",
              "      padding: 0 0 0 0;\n",
              "      width: 32px;\n",
              "    }\n",
              "\n",
              "    .colab-df-convert:hover {\n",
              "      background-color: #E2EBFA;\n",
              "      box-shadow: 0px 1px 2px rgba(60, 64, 67, 0.3), 0px 1px 3px 1px rgba(60, 64, 67, 0.15);\n",
              "      fill: #174EA6;\n",
              "    }\n",
              "\n",
              "    [theme=dark] .colab-df-convert {\n",
              "      background-color: #3B4455;\n",
              "      fill: #D2E3FC;\n",
              "    }\n",
              "\n",
              "    [theme=dark] .colab-df-convert:hover {\n",
              "      background-color: #434B5C;\n",
              "      box-shadow: 0px 1px 3px 1px rgba(0, 0, 0, 0.15);\n",
              "      filter: drop-shadow(0px 1px 2px rgba(0, 0, 0, 0.3));\n",
              "      fill: #FFFFFF;\n",
              "    }\n",
              "  </style>\n",
              "\n",
              "      <script>\n",
              "        const buttonEl =\n",
              "          document.querySelector('#df-4ba041d2-9efa-41bb-983a-c5d00f16a5cf button.colab-df-convert');\n",
              "        buttonEl.style.display =\n",
              "          google.colab.kernel.accessAllowed ? 'block' : 'none';\n",
              "\n",
              "        async function convertToInteractive(key) {\n",
              "          const element = document.querySelector('#df-4ba041d2-9efa-41bb-983a-c5d00f16a5cf');\n",
              "          const dataTable =\n",
              "            await google.colab.kernel.invokeFunction('convertToInteractive',\n",
              "                                                     [key], {});\n",
              "          if (!dataTable) return;\n",
              "\n",
              "          const docLinkHtml = 'Like what you see? Visit the ' +\n",
              "            '<a target=\"_blank\" href=https://colab.research.google.com/notebooks/data_table.ipynb>data table notebook</a>'\n",
              "            + ' to learn more about interactive tables.';\n",
              "          element.innerHTML = '';\n",
              "          dataTable['output_type'] = 'display_data';\n",
              "          await google.colab.output.renderOutput(dataTable, element);\n",
              "          const docLink = document.createElement('div');\n",
              "          docLink.innerHTML = docLinkHtml;\n",
              "          element.appendChild(docLink);\n",
              "        }\n",
              "      </script>\n",
              "    </div>\n",
              "  </div>\n",
              "  "
            ]
          },
          "metadata": {},
          "execution_count": 120
        }
      ]
    },
    {
      "cell_type": "markdown",
      "source": [
        "1. The Above countplot shows that, the lead source coming from refernce has more probability of conversion, thus company can focus on people whose lead source is reference\n",
        "\n",
        "2. The correlation matrix shows that people spending more time on website [column- total_time_spent_on_website] have higher rate of conversion, thus company should focus on people spending more time on website"
      ],
      "metadata": {
        "id": "ojgerdmTKabt"
      }
    },
    {
      "cell_type": "code",
      "source": [
        "sns.countplot(df['occupation_Working Professional'], hue=df['converted'])"
      ],
      "metadata": {
        "colab": {
          "base_uri": "https://localhost:8080/",
          "height": 352
        },
        "id": "aLOlwXtQJSHy",
        "outputId": "34e4f8b4-1e90-4660-bb89-73c2872e6620"
      },
      "execution_count": null,
      "outputs": [
        {
          "output_type": "stream",
          "name": "stderr",
          "text": [
            "/usr/local/lib/python3.8/dist-packages/seaborn/_decorators.py:36: FutureWarning: Pass the following variable as a keyword arg: x. From version 0.12, the only valid positional argument will be `data`, and passing other arguments without an explicit keyword will result in an error or misinterpretation.\n",
            "  warnings.warn(\n"
          ]
        },
        {
          "output_type": "execute_result",
          "data": {
            "text/plain": [
              "<matplotlib.axes._subplots.AxesSubplot at 0x7fd4cbba3fa0>"
            ]
          },
          "metadata": {},
          "execution_count": 126
        },
        {
          "output_type": "display_data",
          "data": {
            "text/plain": [
              "<Figure size 432x288 with 1 Axes>"
            ],
            "image/png": "[encoded data removed]"
          },
          "metadata": {
            "needs_background": "light"
          }
        }
      ]
    },
    {
      "cell_type": "markdown",
      "source": [
        "from above plot we can say that, \n",
        "3. People having working profession as Profession have higher probability of getting converted, The company can focus on people having working profession as Proffessional."
      ],
      "metadata": {
        "id": "vfe5InAUMTxp"
      }
    },
    {
      "cell_type": "markdown",
      "source": [
        "# 4. Similarly, at times, the company reaches its target for a quarter before the deadline. During this time, the company wants the sales team to focus on some new work as well. So during this time, the company’s aim is to not make phone calls unless it’s extremely necessary, i.e. they want to minimize the rate of useless phone calls. Suggest a strategy they should employ at this stage."
      ],
      "metadata": {
        "id": "hSBN-4LnMT66"
      }
    },
    {
      "cell_type": "code",
      "source": [
        "sns.countplot(df['occupation_Unemployed'], hue=df['converted'])"
      ],
      "metadata": {
        "colab": {
          "base_uri": "https://localhost:8080/",
          "height": 352
        },
        "id": "nLDD6RrQJdyp",
        "outputId": "ea855e84-519a-4a7a-91e4-1466515ebea9"
      },
      "execution_count": null,
      "outputs": [
        {
          "output_type": "stream",
          "name": "stderr",
          "text": [
            "/usr/local/lib/python3.8/dist-packages/seaborn/_decorators.py:36: FutureWarning: Pass the following variable as a keyword arg: x. From version 0.12, the only valid positional argument will be `data`, and passing other arguments without an explicit keyword will result in an error or misinterpretation.\n",
            "  warnings.warn(\n"
          ]
        },
        {
          "output_type": "execute_result",
          "data": {
            "text/plain": [
              "<matplotlib.axes._subplots.AxesSubplot at 0x7fd4cbb8bdc0>"
            ]
          },
          "metadata": {},
          "execution_count": 127
        },
        {
          "output_type": "display_data",
          "data": {
            "text/plain": [
              "<Figure size 432x288 with 1 Axes>"
            ],
            "image/png": "[encoded data removed]"
          },
          "metadata": {
            "needs_background": "light"
          }
        }
      ]
    },
    {
      "cell_type": "markdown",
      "source": [
        "1. At time when company wants to minimize the rate of useless phone calls, the team may not focus on people having occupation as unemployed. Because from the above plot we can understand that, the occupation_umemployed people are less converted"
      ],
      "metadata": {
        "id": "zgy7oWBKNHzb"
      }
    },
    {
      "cell_type": "code",
      "source": [
        "df.columns"
      ],
      "metadata": {
        "colab": {
          "base_uri": "https://localhost:8080/"
        },
        "id": "BGI-mtbUOF60",
        "outputId": "bc04dba1-774a-4a55-edf3-1422dda8a7e7"
      },
      "execution_count": null,
      "outputs": [
        {
          "output_type": "execute_result",
          "data": {
            "text/plain": [
              "Index(['lead_number', 'do_not_email', 'converted', 'total_visits',\n",
              "       'time_on_website', 'page_views_per_visit', 'mastering_interview',\n",
              "       'lead_origin_Landing Page Submission',\n",
              "       'lead_origin_Lead Add Form and Others', 'lead_source_Google',\n",
              "       'lead_source_Olark Chat', 'lead_source_Organic Search',\n",
              "       'lead_source_Other Social Sites', 'lead_source_Reference',\n",
              "       'specialization_Industry Specializations',\n",
              "       'specialization_Management Specializations', 'occupation_Unemployed',\n",
              "       'occupation_Working Professional', 'city_Non-Maharashtra Cities',\n",
              "       'city_Non-Mumbai Maharashtra Cities'],\n",
              "      dtype='object')"
            ]
          },
          "metadata": {},
          "execution_count": 128
        }
      ]
    },
    {
      "cell_type": "code",
      "source": [
        "occupation_analysis = pd.get_dummies(copy_df['occupation'])"
      ],
      "metadata": {
        "id": "ir__vWQzOHoh"
      },
      "execution_count": null,
      "outputs": []
    },
    {
      "cell_type": "code",
      "source": [
        "occupation_analysis.columns"
      ],
      "metadata": {
        "colab": {
          "base_uri": "https://localhost:8080/"
        },
        "id": "fOt8whWEPmTR",
        "outputId": "7307c679-e830-4368-917e-c08f6295fda7"
      },
      "execution_count": null,
      "outputs": [
        {
          "output_type": "execute_result",
          "data": {
            "text/plain": [
              "Index(['Student and Others', 'Unemployed', 'Working Professional'], dtype='object')"
            ]
          },
          "metadata": {},
          "execution_count": 132
        }
      ]
    },
    {
      "cell_type": "code",
      "source": [
        "sns.countplot(occupation_analysis['Student and Others'], hue=df['converted'])"
      ],
      "metadata": {
        "colab": {
          "base_uri": "https://localhost:8080/",
          "height": 351
        },
        "id": "71Fu4Km1PsQ1",
        "outputId": "d4e02f2a-0901-46a0-ed75-d8dc5aea60f8"
      },
      "execution_count": null,
      "outputs": [
        {
          "output_type": "stream",
          "name": "stderr",
          "text": [
            "/usr/local/lib/python3.8/dist-packages/seaborn/_decorators.py:36: FutureWarning: Pass the following variable as a keyword arg: x. From version 0.12, the only valid positional argument will be `data`, and passing other arguments without an explicit keyword will result in an error or misinterpretation.\n",
            "  warnings.warn(\n"
          ]
        },
        {
          "output_type": "execute_result",
          "data": {
            "text/plain": [
              "<matplotlib.axes._subplots.AxesSubplot at 0x7fd4cba36e20>"
            ]
          },
          "metadata": {},
          "execution_count": 133
        },
        {
          "output_type": "display_data",
          "data": {
            "text/plain": [
              "<Figure size 432x288 with 1 Axes>"
            ],
            "image/png": "[encoded data removed]"
          },
          "metadata": {
            "needs_background": "light"
          }
        }
      ]
    },
    {
      "cell_type": "code",
      "source": [
        "pd.crosstab(occupation_analysis['Student and Others'], df.converted)"
      ],
      "metadata": {
        "colab": {
          "base_uri": "https://localhost:8080/",
          "height": 143
        },
        "id": "hZnXwMY2P2Js",
        "outputId": "0fb4dc6c-67bb-4c7f-f7d6-b1d6b29dc0de"
      },
      "execution_count": null,
      "outputs": [
        {
          "output_type": "execute_result",
          "data": {
            "text/plain": [
              "converted              0     1\n",
              "Student and Others            \n",
              "0                   5439  3438\n",
              "1                    240   123"
            ],
            "text/html": [
              "\n",
              "  <div id=\"df-316789e4-2295-4c59-be58-55efc26d2c88\">\n",
              "    <div class=\"colab-df-container\">\n",
              "      <div>\n",
              "<style scoped>\n",
              "    .dataframe tbody tr th:only-of-type {\n",
              "        vertical-align: middle;\n",
              "    }\n",
              "\n",
              "    .dataframe tbody tr th {\n",
              "        vertical-align: top;\n",
              "    }\n",
              "\n",
              "    .dataframe thead th {\n",
              "        text-align: right;\n",
              "    }\n",
              "</style>\n",
              "<table border=\"1\" class=\"dataframe\">\n",
              "  <thead>\n",
              "    <tr style=\"text-align: right;\">\n",
              "      <th>converted</th>\n",
              "      <th>0</th>\n",
              "      <th>1</th>\n",
              "    </tr>\n",
              "    <tr>\n",
              "      <th>Student and Others</th>\n",
              "      <th></th>\n",
              "      <th></th>\n",
              "    </tr>\n",
              "  </thead>\n",
              "  <tbody>\n",
              "    <tr>\n",
              "      <th>0</th>\n",
              "      <td>5439</td>\n",
              "      <td>3438</td>\n",
              "    </tr>\n",
              "    <tr>\n",
              "      <th>1</th>\n",
              "      <td>240</td>\n",
              "      <td>123</td>\n",
              "    </tr>\n",
              "  </tbody>\n",
              "</table>\n",
              "</div>\n",
              "      <button class=\"colab-df-convert\" onclick=\"convertToInteractive('df-316789e4-2295-4c59-be58-55efc26d2c88')\"\n",
              "              title=\"Convert this dataframe to an interactive table.\"\n",
              "              style=\"display:none;\">\n",
              "        \n",
              "  <svg xmlns=\"http://www.w3.org/2000/svg\" height=\"24px\"viewBox=\"0 0 24 24\"\n",
              "       width=\"24px\">\n",
              "    <path d=\"M0 0h24v24H0V0z\" fill=\"none\"/>\n",
              "    <path d=\"M18.56 5.44l.94 2.06.94-2.06 2.06-.94-2.06-.94-.94-2.06-.94 2.06-2.06.94zm-11 1L8.5 8.5l.94-2.06 2.06-.94-2.06-.94L8.5 2.5l-.94 2.06-2.06.94zm10 10l.94 2.06.94-2.06 2.06-.94-2.06-.94-.94-2.06-.94 2.06-2.06.94z\"/><path d=\"M17.41 7.96l-1.37-1.37c-.4-.4-.92-.59-1.43-.59-.52 0-1.04.2-1.43.59L10.3 9.45l-7.72 7.72c-.78.78-.78 2.05 0 2.83L4 21.41c.39.39.9.59 1.41.59.51 0 1.02-.2 1.41-.59l7.78-7.78 2.81-2.81c.8-.78.8-2.07 0-2.86zM5.41 20L4 18.59l7.72-7.72 1.47 1.35L5.41 20z\"/>\n",
              "  </svg>\n",
              "      </button>\n",
              "      \n",
              "  <style>\n",
              "    .colab-df-container {\n",
              "      display:flex;\n",
              "      flex-wrap:wrap;\n",
              "      gap: 12px;\n",
              "    }\n",
              "\n",
              "    .colab-df-convert {\n",
              "      background-color: #E8F0FE;\n",
              "      border: none;\n",
              "      border-radius: 50%;\n",
              "      cursor: pointer;\n",
              "      display: none;\n",
              "      fill: #1967D2;\n",
              "      height: 32px;\n",
              "      padding: 0 0 0 0;\n",
              "      width: 32px;\n",
              "    }\n",
              "\n",
              "    .colab-df-convert:hover {\n",
              "      background-color: #E2EBFA;\n",
              "      box-shadow: 0px 1px 2px rgba(60, 64, 67, 0.3), 0px 1px 3px 1px rgba(60, 64, 67, 0.15);\n",
              "      fill: #174EA6;\n",
              "    }\n",
              "\n",
              "    [theme=dark] .colab-df-convert {\n",
              "      background-color: #3B4455;\n",
              "      fill: #D2E3FC;\n",
              "    }\n",
              "\n",
              "    [theme=dark] .colab-df-convert:hover {\n",
              "      background-color: #434B5C;\n",
              "      box-shadow: 0px 1px 3px 1px rgba(0, 0, 0, 0.15);\n",
              "      filter: drop-shadow(0px 1px 2px rgba(0, 0, 0, 0.3));\n",
              "      fill: #FFFFFF;\n",
              "    }\n",
              "  </style>\n",
              "\n",
              "      <script>\n",
              "        const buttonEl =\n",
              "          document.querySelector('#df-316789e4-2295-4c59-be58-55efc26d2c88 button.colab-df-convert');\n",
              "        buttonEl.style.display =\n",
              "          google.colab.kernel.accessAllowed ? 'block' : 'none';\n",
              "\n",
              "        async function convertToInteractive(key) {\n",
              "          const element = document.querySelector('#df-316789e4-2295-4c59-be58-55efc26d2c88');\n",
              "          const dataTable =\n",
              "            await google.colab.kernel.invokeFunction('convertToInteractive',\n",
              "                                                     [key], {});\n",
              "          if (!dataTable) return;\n",
              "\n",
              "          const docLinkHtml = 'Like what you see? Visit the ' +\n",
              "            '<a target=\"_blank\" href=https://colab.research.google.com/notebooks/data_table.ipynb>data table notebook</a>'\n",
              "            + ' to learn more about interactive tables.';\n",
              "          element.innerHTML = '';\n",
              "          dataTable['output_type'] = 'display_data';\n",
              "          await google.colab.output.renderOutput(dataTable, element);\n",
              "          const docLink = document.createElement('div');\n",
              "          docLink.innerHTML = docLinkHtml;\n",
              "          element.appendChild(docLink);\n",
              "        }\n",
              "      </script>\n",
              "    </div>\n",
              "  </div>\n",
              "  "
            ]
          },
          "metadata": {},
          "execution_count": 134
        }
      ]
    },
    {
      "cell_type": "markdown",
      "source": [
        "2. The people being Students and others have less probability of converting, lokks like they are already studying and not want to enroll in courses specially designed for the working professionals, so at time of minimizing the rate of useless phone calls, such people are ignored"
      ],
      "metadata": {
        "id": "u-3cAjYVQIRr"
      }
    },
    {
      "cell_type": "code",
      "source": [],
      "metadata": {
        "id": "6y7B60g_VYlP"
      },
      "execution_count": null,
      "outputs": []
    },
    {
      "cell_type": "markdown",
      "source": [
        "# Conclusion:\n",
        "1. Number of Unemployed people were more\n",
        "2. Maximum no. of specilisation was in Finance_Management\n",
        "3. Maximum no. of people were from Mumbai\n",
        "4. Maximum lead origin was from Landing Page Submission\n",
        "5. Maximum lead_source was from Google with approx. 31%\n",
        "6. Toptal_visit & page_views_per_visit had maximum outliers\n",
        "7. Total time spent on website has maximum variance in data"
      ],
      "metadata": {
        "id": "c5tcnV8tUWCw"
      }
    }
  ]
}